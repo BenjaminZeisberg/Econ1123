{
 "cells": [
  {
   "cell_type": "markdown",
   "metadata": {},
   "source": [
    "## Problem Set 1: Personal Loss, Individual Risk Factors, and Concern about COVID-19\n",
    "\n",
    "**Harvard University**<br/>\n",
    "**Spring 2023**<br/>\n",
    "**Instructor**: Gregory Bruich, Ph.D. <br/>\n",
    "**Student**: Benjamin Zeisberg\n",
    "\n",
    "- Posted on: 01/24/2023\n",
    "- Due at: 11:59pm on 01/31/2023\n",
    "\n",
    "<hr style=\"height:2.4pt\">"
   ]
  },
  {
   "cell_type": "markdown",
   "metadata": {},
   "source": [
    "### Suggested Imports"
   ]
  },
  {
   "cell_type": "code",
   "execution_count": 56,
   "metadata": {},
   "outputs": [],
   "source": [
    "import pandas as pd\n",
    "import numpy as np\n",
    "import matplotlib\n",
    "import matplotlib.pyplot as plt\n",
    "import statsmodels.api as sm\n",
    "\n",
    "# Uncomment the line below if using Google Colab:\n",
    "# !pip install stargazer\n",
    "from stargazer.stargazer import Stargazer\n",
    "from sklearn.linear_model import LinearRegression"
   ]
  },
  {
   "cell_type": "markdown",
   "metadata": {},
   "source": [
    "### Background\n",
    "\n",
    "The Health and Retirement Study is a survey designed to track households consisting of older Americans. The COVID-19 module of HRS 2020 was administered to 3,210 respondents in June. These data were released on November 13, 2020. Here is a link to the [questionnaire](https://hrs.isr.umich.edu/documentation/questionnaires).\n",
    "\n",
    "With over 5.6 million deaths world wide from COVID-19, many of us have had family members\n",
    "or close friends die during the pandemic. In this assignment, we will quantify how this personal\n",
    "loss (“Has anyone you know died from COVID-19?”) as well as individual risk factors (e.g., age,\n",
    "diabetes) affect respondents’ answer to the following question:\n",
    "\n",
    "<blockquote>\n",
    "    <i>\n",
    "        Overall, on a scale from 1 to 10, where one is the least concerned and ten is the most concerned, how concerned are you about the coronavirus pandemic?\n",
    "    </i>\n",
    "</blockquote>\n",
    "\n",
    "In the HRS data, 42.1% of respondents put 10/10 for this question. 19.8% of respondents know someone who has died from COVID-19.\n",
    "\n",
    "The goal of this assignment is twofold. First, this is an opportunity to get to know other students in the class by working together in study groups. Second, the assignment is designed to help you\n",
    "acquire some familiarity working with data in statistical software. You are welcome to use any software you would like.\n",
    "\n",
    "You are encouraged to work in groups on your problem sets, and we will facilitate the formation of study groups. However, each student must write up his or her answers individually in his or her own words based on his or her own understanding.\n",
    "\n",
    "<hr style=\"height:2.4pt\">"
   ]
  },
  {
   "cell_type": "markdown",
   "metadata": {},
   "source": [
    "### Data Description\n",
    "**File**: `covid19.dta`\n",
    "\n",
    "The data consist of $n=3210$ individuals surveyed as part of the Health and Retirement Survey.\n",
    "\n",
    "| Variable      | Description                                                                      |  Mean | Std. Dev. |\n",
    "|---------------|----------------------------------------------------------------------------------|:-----:|:---------:|\n",
    "| `anyone_died` | Has anyone you know died from COVID-19?  1 if yes, 0 if no                       | 0.198 |   0.339   |\n",
    "| `concern`     | How concerned are you about the coronavirus pandemic? Scale of 1 to 10           | 7.780 |   2.659   |\n",
    "| `college`     | 1 if respondent has $\\geq 16$ years of education, 0 otherwise                    | 0.288 |   0.453   |\n",
    "| `diabetes`    | 1 if respondent has diabetes, 0 otherwise                                        | 0.265 |   0.441   |\n",
    "| `age65`       | 1 if respondent is 65 or older on March 2020, 0 if younger than 65 in March 2020 | 0.565 |   0.496   |\n",
    "\n",
    "NOTE — Table reports means and standard deviations for select variables from the HRS 2020.\n",
    "\n",
    "\n",
    "<hr style=\"height:2.4pt\">"
   ]
  },
  {
   "cell_type": "markdown",
   "metadata": {},
   "source": [
    "### Data Load"
   ]
  },
  {
   "cell_type": "code",
   "execution_count": 57,
   "metadata": {},
   "outputs": [
    {
     "data": {
      "text/html": [
       "<div>\n",
       "<style scoped>\n",
       "    .dataframe tbody tr th:only-of-type {\n",
       "        vertical-align: middle;\n",
       "    }\n",
       "\n",
       "    .dataframe tbody tr th {\n",
       "        vertical-align: top;\n",
       "    }\n",
       "\n",
       "    .dataframe thead th {\n",
       "        text-align: right;\n",
       "    }\n",
       "</style>\n",
       "<table border=\"1\" class=\"dataframe\">\n",
       "  <thead>\n",
       "    <tr style=\"text-align: right;\">\n",
       "      <th></th>\n",
       "      <th>hhid_pn</th>\n",
       "      <th>concern</th>\n",
       "      <th>anyone_died</th>\n",
       "      <th>college</th>\n",
       "      <th>diabetes</th>\n",
       "      <th>age65</th>\n",
       "      <th>covid</th>\n",
       "      <th>wanted_test</th>\n",
       "      <th>female</th>\n",
       "      <th>years_education</th>\n",
       "      <th>intercept</th>\n",
       "    </tr>\n",
       "  </thead>\n",
       "  <tbody>\n",
       "    <tr>\n",
       "      <th>0</th>\n",
       "      <td>010325020</td>\n",
       "      <td>5.0</td>\n",
       "      <td>1.0</td>\n",
       "      <td>0.0</td>\n",
       "      <td>0.0</td>\n",
       "      <td>1.0</td>\n",
       "      <td>0.0</td>\n",
       "      <td>0.0</td>\n",
       "      <td>1.0</td>\n",
       "      <td>14.0</td>\n",
       "      <td>1</td>\n",
       "    </tr>\n",
       "    <tr>\n",
       "      <th>1</th>\n",
       "      <td>010372010</td>\n",
       "      <td>10.0</td>\n",
       "      <td>1.0</td>\n",
       "      <td>0.0</td>\n",
       "      <td>0.0</td>\n",
       "      <td>1.0</td>\n",
       "      <td>0.0</td>\n",
       "      <td>1.0</td>\n",
       "      <td>1.0</td>\n",
       "      <td>10.0</td>\n",
       "      <td>1</td>\n",
       "    </tr>\n",
       "    <tr>\n",
       "      <th>2</th>\n",
       "      <td>010397010</td>\n",
       "      <td>8.0</td>\n",
       "      <td>0.0</td>\n",
       "      <td>1.0</td>\n",
       "      <td>0.0</td>\n",
       "      <td>1.0</td>\n",
       "      <td>0.0</td>\n",
       "      <td>0.0</td>\n",
       "      <td>0.0</td>\n",
       "      <td>17.0</td>\n",
       "      <td>1</td>\n",
       "    </tr>\n",
       "    <tr>\n",
       "      <th>3</th>\n",
       "      <td>010577010</td>\n",
       "      <td>1.0</td>\n",
       "      <td>0.0</td>\n",
       "      <td>1.0</td>\n",
       "      <td>0.0</td>\n",
       "      <td>1.0</td>\n",
       "      <td>0.0</td>\n",
       "      <td>1.0</td>\n",
       "      <td>1.0</td>\n",
       "      <td>16.0</td>\n",
       "      <td>1</td>\n",
       "    </tr>\n",
       "    <tr>\n",
       "      <th>4</th>\n",
       "      <td>010773020</td>\n",
       "      <td>10.0</td>\n",
       "      <td>0.0</td>\n",
       "      <td>0.0</td>\n",
       "      <td>0.0</td>\n",
       "      <td>1.0</td>\n",
       "      <td>0.0</td>\n",
       "      <td>0.0</td>\n",
       "      <td>1.0</td>\n",
       "      <td>11.0</td>\n",
       "      <td>1</td>\n",
       "    </tr>\n",
       "  </tbody>\n",
       "</table>\n",
       "</div>"
      ],
      "text/plain": [
       "     hhid_pn  concern  anyone_died  college  diabetes  age65  covid  \\\n",
       "0  010325020      5.0          1.0      0.0       0.0    1.0    0.0   \n",
       "1  010372010     10.0          1.0      0.0       0.0    1.0    0.0   \n",
       "2  010397010      8.0          0.0      1.0       0.0    1.0    0.0   \n",
       "3  010577010      1.0          0.0      1.0       0.0    1.0    0.0   \n",
       "4  010773020     10.0          0.0      0.0       0.0    1.0    0.0   \n",
       "\n",
       "   wanted_test  female  years_education  intercept  \n",
       "0          0.0     1.0             14.0          1  \n",
       "1          1.0     1.0             10.0          1  \n",
       "2          0.0     0.0             17.0          1  \n",
       "3          1.0     1.0             16.0          1  \n",
       "4          0.0     1.0             11.0          1  "
      ]
     },
     "execution_count": 57,
     "metadata": {},
     "output_type": "execute_result"
    }
   ],
   "source": [
    "# Read dataset into a pandas dataframe\n",
    "covid = pd.read_stata(\"covid19.dta\")\n",
    "\n",
    "# Add intercept to dataframe\n",
    "covid[\"intercept\"] = 1\n",
    "\n",
    "# Display first 5 rows of data\n",
    "covid.head()"
   ]
  },
  {
   "cell_type": "markdown",
   "metadata": {},
   "source": [
    "<hr style=\"height:2.4pt\">\n",
    "\n",
    "### Instructions\n",
    "\n",
    "Please submit your Problem Set on Canvas. Your submission should include two files:\n",
    "1. This notebook as a `.ipynb` file with your code and answers to questions.\n",
    "2. A `.pdf` version of this notebook. Different editors will have different ways of converting notebooks to PDFs, but feel free to message in the Slack if you have any problems with this.\n",
    "\n",
    "Please remember to restart and run your entire notebook before submitting!\n",
    "\n",
    "<hr style=\"height:2.4pt\">"
   ]
  },
  {
   "cell_type": "markdown",
   "metadata": {},
   "source": [
    "### Questions\n",
    "\n",
    "*Note: Short answers should be very succinct. Show your work and intuition clearly: credit is given for explanations and not just having the correct answer*\n",
    "\n",
    "Sample code is provided at the end of this notebook."
   ]
  },
  {
   "cell_type": "markdown",
   "metadata": {},
   "source": [
    "### 1\n",
    "\n",
    "Join our [Slack workspace](https://econ-1123-s23-955.slack.com/ssb/redirect) (Instructions on Canvas). Respond to the following prompt on the `#welcome` channel:\n",
    "\n",
    "<blockquote>\n",
    "    <i>\n",
    "        If you were not at Harvard College right now, what would you be doing instead? That is, what is your “unobserved counterfactual”?\n",
    "    </i>\n",
    "</blockquote>\n",
    "\n",
    "Please feel free to react (kindly and respectfully, please) to the posts of others.\n",
    "\n",
    "(No Answer Necessary)"
   ]
  },
  {
   "cell_type": "markdown",
   "metadata": {},
   "source": [
    "<hr style=\"height:2.4pt\">\n",
    "\n",
    "### 2\n",
    "\n",
    "Using four separate *linear regressions*, estimate the difference in mean level of concern about COVID-19 for the following groups:\n",
    "\n",
    "<ol type=\"a\">\n",
    "  <li>Individuals who know someone who died of COVID-19 vs. those who do not</li>\n",
    "  <li>Individuals with diabetes vs. those without diabetes</li>\n",
    "  <li>Individuals over 65 vs. those under 65</li>\n",
    "  <li>Individuals with a college education vs. those less than a college education</li>\n",
    "</ol>\n",
    "\n",
    "Report appropriate standard errors for these differences in means, and discuss how you chose between three possibilities: Pooled variance formula, $HC_1$ unequal variance\n",
    "formula, and $HC_2$ unequal variance formula. Sample code is provided in Table 2a and Table 2b."
   ]
  },
  {
   "cell_type": "code",
   "execution_count": 58,
   "metadata": {},
   "outputs": [
    {
     "data": {
      "text/html": [
       "<div>\n",
       "<style scoped>\n",
       "    .dataframe tbody tr th:only-of-type {\n",
       "        vertical-align: middle;\n",
       "    }\n",
       "\n",
       "    .dataframe tbody tr th {\n",
       "        vertical-align: top;\n",
       "    }\n",
       "\n",
       "    .dataframe thead th {\n",
       "        text-align: right;\n",
       "    }\n",
       "</style>\n",
       "<table border=\"1\" class=\"dataframe\">\n",
       "  <thead>\n",
       "    <tr style=\"text-align: right;\">\n",
       "      <th></th>\n",
       "      <th>hhid_pn</th>\n",
       "      <th>concern</th>\n",
       "      <th>anyone_died</th>\n",
       "      <th>college</th>\n",
       "      <th>diabetes</th>\n",
       "      <th>age65</th>\n",
       "      <th>covid</th>\n",
       "      <th>wanted_test</th>\n",
       "      <th>female</th>\n",
       "      <th>years_education</th>\n",
       "      <th>intercept</th>\n",
       "    </tr>\n",
       "  </thead>\n",
       "  <tbody>\n",
       "    <tr>\n",
       "      <th>0</th>\n",
       "      <td>010325020</td>\n",
       "      <td>5.0</td>\n",
       "      <td>1.0</td>\n",
       "      <td>0.0</td>\n",
       "      <td>0.0</td>\n",
       "      <td>1.0</td>\n",
       "      <td>0.0</td>\n",
       "      <td>0.0</td>\n",
       "      <td>1.0</td>\n",
       "      <td>14.0</td>\n",
       "      <td>1</td>\n",
       "    </tr>\n",
       "    <tr>\n",
       "      <th>1</th>\n",
       "      <td>010372010</td>\n",
       "      <td>10.0</td>\n",
       "      <td>1.0</td>\n",
       "      <td>0.0</td>\n",
       "      <td>0.0</td>\n",
       "      <td>1.0</td>\n",
       "      <td>0.0</td>\n",
       "      <td>1.0</td>\n",
       "      <td>1.0</td>\n",
       "      <td>10.0</td>\n",
       "      <td>1</td>\n",
       "    </tr>\n",
       "    <tr>\n",
       "      <th>2</th>\n",
       "      <td>010397010</td>\n",
       "      <td>8.0</td>\n",
       "      <td>0.0</td>\n",
       "      <td>1.0</td>\n",
       "      <td>0.0</td>\n",
       "      <td>1.0</td>\n",
       "      <td>0.0</td>\n",
       "      <td>0.0</td>\n",
       "      <td>0.0</td>\n",
       "      <td>17.0</td>\n",
       "      <td>1</td>\n",
       "    </tr>\n",
       "    <tr>\n",
       "      <th>3</th>\n",
       "      <td>010577010</td>\n",
       "      <td>1.0</td>\n",
       "      <td>0.0</td>\n",
       "      <td>1.0</td>\n",
       "      <td>0.0</td>\n",
       "      <td>1.0</td>\n",
       "      <td>0.0</td>\n",
       "      <td>1.0</td>\n",
       "      <td>1.0</td>\n",
       "      <td>16.0</td>\n",
       "      <td>1</td>\n",
       "    </tr>\n",
       "    <tr>\n",
       "      <th>4</th>\n",
       "      <td>010773020</td>\n",
       "      <td>10.0</td>\n",
       "      <td>0.0</td>\n",
       "      <td>0.0</td>\n",
       "      <td>0.0</td>\n",
       "      <td>1.0</td>\n",
       "      <td>0.0</td>\n",
       "      <td>0.0</td>\n",
       "      <td>1.0</td>\n",
       "      <td>11.0</td>\n",
       "      <td>1</td>\n",
       "    </tr>\n",
       "  </tbody>\n",
       "</table>\n",
       "</div>"
      ],
      "text/plain": [
       "     hhid_pn  concern  anyone_died  college  diabetes  age65  covid  \\\n",
       "0  010325020      5.0          1.0      0.0       0.0    1.0    0.0   \n",
       "1  010372010     10.0          1.0      0.0       0.0    1.0    0.0   \n",
       "2  010397010      8.0          0.0      1.0       0.0    1.0    0.0   \n",
       "3  010577010      1.0          0.0      1.0       0.0    1.0    0.0   \n",
       "4  010773020     10.0          0.0      0.0       0.0    1.0    0.0   \n",
       "\n",
       "   wanted_test  female  years_education  intercept  \n",
       "0          0.0     1.0             14.0          1  \n",
       "1          1.0     1.0             10.0          1  \n",
       "2          0.0     0.0             17.0          1  \n",
       "3          1.0     1.0             16.0          1  \n",
       "4          0.0     1.0             11.0          1  "
      ]
     },
     "execution_count": 58,
     "metadata": {},
     "output_type": "execute_result"
    }
   ],
   "source": [
    "covid.head()"
   ]
  },
  {
   "cell_type": "markdown",
   "metadata": {},
   "source": [
    "<h1> 1. Individuals who know someone who died of COVID-19 vs. those who do not </h1>\n",
    "\n",
    "We use a linear regression of the form $\\bar{Y} = \\beta_0 + \\beta_1 \\cdot X_1 + \\epsilon$ to estimate the difference in mean level of concern about Covid-19.\n",
    "\n",
    "We estimate that the average difference in concern about covid-19 of those who know somone that died of covid-19 vs those that do not know someone that died of covid is $\\beta_1 = 0.7833$. We find this estimate statistically significant at the $\\alpha = 0.05$ level. Standard errors were calculated using the HC2 variance formula, since it can resolve unequal variance(heterskedasticity) unlike the pooled-variance formula. I choose the $HC_2$ formula throughout this problem set, since it's been shown(in lecture) to provide more consistent standard error results then the $HC_1$ formula."
   ]
  },
  {
   "cell_type": "code",
   "execution_count": 59,
   "metadata": {},
   "outputs": [
    {
     "name": "stdout",
     "output_type": "stream",
     "text": [
      "                            OLS Regression Results                            \n",
      "==============================================================================\n",
      "Dep. Variable:                concern   R-squared:                       0.014\n",
      "Model:                            OLS   Adj. R-squared:                  0.013\n",
      "Method:                 Least Squares   F-statistic:                     50.74\n",
      "Date:                Tue, 31 Jan 2023   Prob (F-statistic):           1.29e-12\n",
      "Time:                        21:12:17   Log-Likelihood:                -7665.6\n",
      "No. Observations:                3210   AIC:                         1.534e+04\n",
      "Df Residuals:                    3208   BIC:                         1.535e+04\n",
      "Df Model:                           1                                         \n",
      "Covariance Type:                  HC2                                         \n",
      "===============================================================================\n",
      "                  coef    std err          z      P>|z|      [0.025      0.975]\n",
      "-------------------------------------------------------------------------------\n",
      "anyone_died     0.7833      0.110      7.124      0.000       0.568       0.999\n",
      "intercept       7.6290      0.053    144.206      0.000       7.525       7.733\n",
      "==============================================================================\n",
      "Omnibus:                      485.238   Durbin-Watson:                   1.782\n",
      "Prob(Omnibus):                  0.000   Jarque-Bera (JB):              730.044\n",
      "Skew:                          -1.150   Prob(JB):                    2.97e-159\n",
      "Kurtosis:                       3.406   Cond. No.                         2.63\n",
      "==============================================================================\n",
      "\n",
      "Notes:\n",
      "[1] Standard Errors are heteroscedasticity robust (HC2)\n"
     ]
    }
   ],
   "source": [
    "# 1. Individuals who know someone who died of COVID-19 vs those who do not\n",
    "# Response variable -> difference in mean level of concern.\n",
    "Y = covid[['concern']]\n",
    "X = covid[['anyone_died', 'intercept']]\n",
    "mod_1 = sm.OLS(Y,X)\n",
    "res_1 = mod_1.fit(cov_type='HC2')\n",
    "print(res_1.summary())"
   ]
  },
  {
   "cell_type": "markdown",
   "metadata": {},
   "source": [
    "<h1> 2. Individuals with diabetes vs. those without diabetes </h1>\n",
    "\n",
    "I use a linear regression of the form $\\bar{Y} = \\beta_0 + \\beta_1 \\cdot X_1 + \\epsilon$ to estimate the difference in mean level of concern about Covid-19.\n",
    "\n",
    "I estimate that the average difference in concern about covid-19 for those with diabetes vs those without diabetes is $\\beta_1 = 0.2514$. I find this estimate to be statistically signifiant at the $\\alpha = 0.05$ level. Standard errors were calculated using the HC2 variance formula, as mentioned before."
   ]
  },
  {
   "cell_type": "code",
   "execution_count": 60,
   "metadata": {},
   "outputs": [
    {
     "name": "stdout",
     "output_type": "stream",
     "text": [
      "                            OLS Regression Results                            \n",
      "==============================================================================\n",
      "Dep. Variable:                concern   R-squared:                       0.002\n",
      "Model:                            OLS   Adj. R-squared:                  0.001\n",
      "Method:                 Least Squares   F-statistic:                     5.723\n",
      "Date:                Tue, 31 Jan 2023   Prob (F-statistic):             0.0168\n",
      "Time:                        21:12:17   Log-Likelihood:                -7685.0\n",
      "No. Observations:                3210   AIC:                         1.537e+04\n",
      "Df Residuals:                    3208   BIC:                         1.539e+04\n",
      "Df Model:                           1                                         \n",
      "Covariance Type:                  HC2                                         \n",
      "==============================================================================\n",
      "                 coef    std err          z      P>|z|      [0.025      0.975]\n",
      "------------------------------------------------------------------------------\n",
      "diabetes       0.2514      0.105      2.392      0.017       0.045       0.457\n",
      "intercept      7.7168      0.055    140.598      0.000       7.609       7.824\n",
      "==============================================================================\n",
      "Omnibus:                      482.959   Durbin-Watson:                   1.772\n",
      "Prob(Omnibus):                  0.000   Jarque-Bera (JB):              726.762\n",
      "Skew:                          -1.152   Prob(JB):                    1.53e-158\n",
      "Kurtosis:                       3.358   Cond. No.                         2.46\n",
      "==============================================================================\n",
      "\n",
      "Notes:\n",
      "[1] Standard Errors are heteroscedasticity robust (HC2)\n"
     ]
    }
   ],
   "source": [
    "# # 2. Individuals with diabetes s. those without diabetes\n",
    "# technically we don't need to define Y again, but to make the code more readable we do it anyway.\n",
    "Y = covid[['concern']]\n",
    "X = covid[['diabetes', 'intercept']]\n",
    "mod_2 = sm.OLS(Y,X)\n",
    "res_2 = mod_2.fit(cov_type='HC2')\n",
    "print(res_2.summary())"
   ]
  },
  {
   "cell_type": "markdown",
   "metadata": {},
   "source": [
    "<h1> 3. Individuals with aged 65 vs. under 65 </h1>\n",
    "\n",
    "We use a linear regression of the form $\\bar{Y} = \\beta_0 + \\beta_1 \\cdot X_1 + \\epsilon$ to estimate the difference in mean level of concern about Covid-19.\n",
    "\n",
    "I estimate that the average difference in concern about covid-19 for those aged above 65 vs those under age 65 to be $\\beta_1 = 0.2514$. I find this estimate to not be statistically signifiant at the $\\alpha = 0.05$ level. Standard errors were calculated using the HC2 variance formula, as mentioned before."
   ]
  },
  {
   "cell_type": "code",
   "execution_count": 61,
   "metadata": {},
   "outputs": [
    {
     "name": "stdout",
     "output_type": "stream",
     "text": [
      "                            OLS Regression Results                            \n",
      "==============================================================================\n",
      "Dep. Variable:                concern   R-squared:                       0.001\n",
      "Model:                            OLS   Adj. R-squared:                  0.001\n",
      "Method:                 Least Squares   F-statistic:                     3.609\n",
      "Date:                Tue, 31 Jan 2023   Prob (F-statistic):             0.0575\n",
      "Time:                        21:12:17   Log-Likelihood:                -7686.0\n",
      "No. Observations:                3210   AIC:                         1.538e+04\n",
      "Df Residuals:                    3208   BIC:                         1.539e+04\n",
      "Df Model:                           1                                         \n",
      "Covariance Type:                  HC2                                         \n",
      "==============================================================================\n",
      "                 coef    std err          z      P>|z|      [0.025      0.975]\n",
      "------------------------------------------------------------------------------\n",
      "age65          0.1800      0.095      1.900      0.057      -0.006       0.366\n",
      "intercept      7.6817      0.072    106.830      0.000       7.541       7.823\n",
      "==============================================================================\n",
      "Omnibus:                      482.054   Durbin-Watson:                   1.773\n",
      "Prob(Omnibus):                  0.000   Jarque-Bera (JB):              724.972\n",
      "Skew:                          -1.151   Prob(JB):                    3.75e-158\n",
      "Kurtosis:                       3.354   Cond. No.                         2.80\n",
      "==============================================================================\n",
      "\n",
      "Notes:\n",
      "[1] Standard Errors are heteroscedasticity robust (HC2)\n"
     ]
    }
   ],
   "source": [
    "# 3. Individuals over 65 vs those under 65\n",
    "Y = covid[['concern']]\n",
    "X = covid[['age65', 'intercept']]\n",
    "mod_3 = sm.OLS(Y,X)\n",
    "res_3 = mod_3.fit(cov_type='HC2')\n",
    "print(res_3.summary())"
   ]
  },
  {
   "cell_type": "markdown",
   "metadata": {},
   "source": [
    "<h1> 4. Individuals with college degree vs. those without college degree </h1>\n",
    "\n",
    "I use a linear regression of the form $\\bar{Y} = \\beta_0 + \\beta_1 \\cdot X_1 + \\epsilon$ to estimate the difference in mean level of concern about Covid-19.\n",
    "\n",
    "I estimate the average difference in concern about covid-19 for those with a college degree vs those without to be $\\beta_1 = -0.1375$, with a $P>|z| == 0.166$. Suggesting, that the coefficient is not statistically significant at the $\\alpha = 0.05$ level. Standard errors were calculated using the $HC_2$ variance formula, as mentioned before."
   ]
  },
  {
   "cell_type": "code",
   "execution_count": 62,
   "metadata": {},
   "outputs": [
    {
     "name": "stdout",
     "output_type": "stream",
     "text": [
      "                            OLS Regression Results                            \n",
      "==============================================================================\n",
      "Dep. Variable:                concern   R-squared:                       0.001\n",
      "Model:                            OLS   Adj. R-squared:                  0.000\n",
      "Method:                 Least Squares   F-statistic:                     1.923\n",
      "Date:                Tue, 31 Jan 2023   Prob (F-statistic):              0.166\n",
      "Time:                        21:12:17   Log-Likelihood:                -7687.0\n",
      "No. Observations:                3210   AIC:                         1.538e+04\n",
      "Df Residuals:                    3208   BIC:                         1.539e+04\n",
      "Df Model:                           1                                         \n",
      "Covariance Type:                  HC2                                         \n",
      "==============================================================================\n",
      "                 coef    std err          z      P>|z|      [0.025      0.975]\n",
      "------------------------------------------------------------------------------\n",
      "college       -0.1375      0.099     -1.387      0.166      -0.332       0.057\n",
      "intercept      7.8235      0.057    137.086      0.000       7.712       7.935\n",
      "==============================================================================\n",
      "Omnibus:                      486.904   Durbin-Watson:                   1.768\n",
      "Prob(Omnibus):                  0.000   Jarque-Bera (JB):              734.835\n",
      "Skew:                          -1.158   Prob(JB):                    2.71e-160\n",
      "Kurtosis:                       3.366   Cond. No.                         2.43\n",
      "==============================================================================\n",
      "\n",
      "Notes:\n",
      "[1] Standard Errors are heteroscedasticity robust (HC2)\n"
     ]
    }
   ],
   "source": [
    "# 4. Individuals with a college education vs. those less than a college education\n",
    "X = covid[['college', 'intercept']]\n",
    "mod_4 = sm.OLS(Y,X)\n",
    "res_4 = mod_4.fit(cov_type='HC2')\n",
    "print(res_4.summary())"
   ]
  },
  {
   "cell_type": "code",
   "execution_count": 63,
   "metadata": {},
   "outputs": [],
   "source": [
    "\n",
    "# We can also use the Sklearn Library to do an OLS regression, but I don't think it has a summary function.\n",
    "x = covid[['anyone_died']]\n",
    "reg = LinearRegression(fit_intercept=True).fit(x,Y)\n",
    "parameters = reg.get_params()\n",
    "# This is what we would use to print out the coef and parameters\n",
    "# print(reg.coef_)\n",
    "# print(parameters)"
   ]
  },
  {
   "cell_type": "markdown",
   "metadata": {},
   "source": [
    "<hr style=\"height:2.4pt\">\n",
    "\n",
    "### 3\n",
    "Later this semester, it will save you a lot of time and effort to generate tables of regression output automatically. Generating tables is easy to do using stargazer in Python. Use this library to create a table of the four regressions from the first question, with each regression listed in a separate column."
   ]
  },
  {
   "cell_type": "code",
   "execution_count": 64,
   "metadata": {},
   "outputs": [
    {
     "data": {
      "text/html": [
       "<table style=\"text-align:center\"><tr><td colspan=\"5\" style=\"border-bottom: 1px solid black\"></td></tr><tr><td style=\"text-align:left\"></td><td colspan=\"4\"><em>Dependent variable:concern</em></td></tr><tr><td style=\"text-align:left\"></td><tr><td></td><td colspan=\"1\">OLS Model</td><td colspan=\"1\">OLS Model</td><td colspan=\"1\">OLS Model</td><td colspan=\"1\">OLS Model</td></tr><tr><td style=\"text-align:left\"></td><td>(1)</td><td>(2)</td><td>(3)</td><td>(4)</td></tr><tr><td colspan=\"5\" style=\"border-bottom: 1px solid black\"></td></tr><tr><td style=\"text-align:left\">intercept</td><td>7.629<sup>***</sup></td><td>7.717<sup>***</sup></td><td>7.682<sup>***</sup></td><td>7.823<sup>***</sup></td></tr><tr><td style=\"text-align:left\"></td><td>(0.053)</td><td>(0.055)</td><td>(0.072)</td><td>(0.057)</td></tr><tr><td style=\"text-align:left\">anyone_died</td><td>0.783<sup>***</sup></td><td></td><td></td><td></td></tr><tr><td style=\"text-align:left\"></td><td>(0.110)</td><td></td><td></td><td></td></tr><tr><td style=\"text-align:left\">diabetes</td><td></td><td>0.251<sup>**</sup></td><td></td><td></td></tr><tr><td style=\"text-align:left\"></td><td></td><td>(0.105)</td><td></td><td></td></tr><tr><td style=\"text-align:left\">age65</td><td></td><td></td><td>0.180<sup>*</sup></td><td></td></tr><tr><td style=\"text-align:left\"></td><td></td><td></td><td>(0.095)</td><td></td></tr><tr><td style=\"text-align:left\">college</td><td></td><td></td><td></td><td>-0.137<sup></sup></td></tr><tr><td style=\"text-align:left\"></td><td></td><td></td><td></td><td>(0.099)</td></tr><td colspan=\"5\" style=\"border-bottom: 1px solid black\"></td></tr><tr><td style=\"text-align: left\">Observations</td><td>3,210</td><td>3,210</td><td>3,210</td><td>3,210</td></tr><tr><td style=\"text-align: left\">R<sup>2</sup></td><td>0.014</td><td>0.002</td><td>0.001</td><td>0.001</td></tr><tr><td style=\"text-align: left\">Adjusted R<sup>2</sup></td><td>0.013</td><td>0.001</td><td>0.001</td><td>0.000</td></tr><tr><td style=\"text-align: left\">Residual Std. Error</td><td>2.636 (df=3208)</td><td>2.652 (df=3208)</td><td>2.653 (df=3208)</td><td>2.654 (df=3208)</td></tr><tr><td style=\"text-align: left\">F Statistic</td><td>50.745<sup>***</sup> (df=1; 3208)</td><td>5.723<sup>**</sup> (df=1; 3208)</td><td>3.609<sup>*</sup> (df=1; 3208)</td><td>1.923<sup></sup> (df=1; 3208)</td></tr><tr><td colspan=\"5\" style=\"border-bottom: 1px solid black\"></td></tr><tr><td style=\"text-align: left\">Note:</td>\n",
       " <td colspan=\"4\" style=\"text-align: right\">\n",
       "  <sup>*</sup>p&lt;0.1;\n",
       "  <sup>**</sup>p&lt;0.05;\n",
       "  <sup>***</sup>p&lt;0.01\n",
       " </td></tr><tr><td></td><td colspan=\"4\" style=\"text-align: right\">The Standard errors reported in parentheses are heteroskedasticity robust (HC2).</td></tr></table>"
      ],
      "text/plain": [
       "<stargazer.stargazer.Stargazer at 0x28a66a500>"
      ]
     },
     "execution_count": 64,
     "metadata": {},
     "output_type": "execute_result"
    }
   ],
   "source": [
    "# Your Code Here\n",
    "models = [res_1, res_2, res_3, res_4]\n",
    "table = Stargazer(models)\n",
    "table.covariate_order(['intercept','anyone_died', 'diabetes', 'age65', 'college'])\n",
    "table.custom_columns(['OLS Model', 'OLS Model', 'OLS Model', 'OLS Model'], [1, 1, 1, 1])\n",
    "table.add_custom_notes([\"The Standard errors reported in parentheses are heteroskedasticity robust (HC2).\"])\n",
    "table"
   ]
  },
  {
   "cell_type": "markdown",
   "metadata": {},
   "source": [
    "<hr style=\"height:2.4pt\">\n",
    "\n",
    "### 4\n",
    "Calculate 95% confidence intervals for the differences in means you estimated above.\n",
    "What critical values did you use? Discuss briefly."
   ]
  },
  {
   "cell_type": "markdown",
   "metadata": {},
   "source": [
    "<hr>\n",
    "I shall use the critical value 1.96. Since we know from lecture for a 95% ($\\alpha = 0.05$) confidence interval we use: $\\bar{Y} \\pm 1.96 \\cdot \\hat{SE}(\\bar{Y})$ <br>\n",
    "If I was to calculate a 99% confidence interval, which is $\\alpha = 0.01$ I would look for $\\alpha / 2 = 0.005$ in the normal distribution, which corresponds to a Z critical value of 2.576."
   ]
  },
  {
   "cell_type": "code",
   "execution_count": 65,
   "metadata": {},
   "outputs": [
    {
     "data": {
      "text/html": [
       "<div>\n",
       "<style scoped>\n",
       "    .dataframe tbody tr th:only-of-type {\n",
       "        vertical-align: middle;\n",
       "    }\n",
       "\n",
       "    .dataframe tbody tr th {\n",
       "        vertical-align: top;\n",
       "    }\n",
       "\n",
       "    .dataframe thead th {\n",
       "        text-align: right;\n",
       "    }\n",
       "</style>\n",
       "<table border=\"1\" class=\"dataframe\">\n",
       "  <thead>\n",
       "    <tr style=\"text-align: right;\">\n",
       "      <th></th>\n",
       "      <th>Lower_bound</th>\n",
       "      <th>Upper bound</th>\n",
       "    </tr>\n",
       "  </thead>\n",
       "  <tbody>\n",
       "    <tr>\n",
       "      <th>anyone_died</th>\n",
       "      <td>0.567781</td>\n",
       "      <td>0.998812</td>\n",
       "    </tr>\n",
       "    <tr>\n",
       "      <th>intercept</th>\n",
       "      <td>7.525337</td>\n",
       "      <td>7.732715</td>\n",
       "    </tr>\n",
       "  </tbody>\n",
       "</table>\n",
       "</div>"
      ],
      "text/plain": [
       "             Lower_bound  Upper bound\n",
       "anyone_died     0.567781     0.998812\n",
       "intercept       7.525337     7.732715"
      ]
     },
     "execution_count": 65,
     "metadata": {},
     "output_type": "execute_result"
    }
   ],
   "source": [
    "# Your Code Here\n",
    "# We shall use 1.96 as our critical value.\n",
    "# We can make use of conf_int function from statsmodels for documentation see here -> the https://www.statsmodels.org/dev/generated/statsmodels.regression.linear_model.OLSResults.conf_int.html\n",
    "# In conf_int we specify the confidence interval using the alpha parameter.\n",
    "interval_1 = res_1.conf_int(alpha=0.05)\n",
    "interval_1.rename(columns={0:'Lower_bound', 1:'Upper bound'}, inplace=True)\n",
    "interval_1"
   ]
  },
  {
   "cell_type": "code",
   "execution_count": 66,
   "metadata": {},
   "outputs": [
    {
     "data": {
      "text/html": [
       "<div>\n",
       "<style scoped>\n",
       "    .dataframe tbody tr th:only-of-type {\n",
       "        vertical-align: middle;\n",
       "    }\n",
       "\n",
       "    .dataframe tbody tr th {\n",
       "        vertical-align: top;\n",
       "    }\n",
       "\n",
       "    .dataframe thead th {\n",
       "        text-align: right;\n",
       "    }\n",
       "</style>\n",
       "<table border=\"1\" class=\"dataframe\">\n",
       "  <thead>\n",
       "    <tr style=\"text-align: right;\">\n",
       "      <th></th>\n",
       "      <th>Lower_bound</th>\n",
       "      <th>Upper bound</th>\n",
       "    </tr>\n",
       "  </thead>\n",
       "  <tbody>\n",
       "    <tr>\n",
       "      <th>diabetes</th>\n",
       "      <td>0.045437</td>\n",
       "      <td>0.457449</td>\n",
       "    </tr>\n",
       "    <tr>\n",
       "      <th>intercept</th>\n",
       "      <td>7.609255</td>\n",
       "      <td>7.824403</td>\n",
       "    </tr>\n",
       "  </tbody>\n",
       "</table>\n",
       "</div>"
      ],
      "text/plain": [
       "           Lower_bound  Upper bound\n",
       "diabetes      0.045437     0.457449\n",
       "intercept     7.609255     7.824403"
      ]
     },
     "execution_count": 66,
     "metadata": {},
     "output_type": "execute_result"
    }
   ],
   "source": [
    "interval_2 = res_2.conf_int(alpha=0.05)\n",
    "interval_2.rename(columns={0:'Lower_bound', 1:'Upper bound'}, inplace=True)\n",
    "interval_2"
   ]
  },
  {
   "cell_type": "code",
   "execution_count": 67,
   "metadata": {},
   "outputs": [
    {
     "data": {
      "text/html": [
       "<div>\n",
       "<style scoped>\n",
       "    .dataframe tbody tr th:only-of-type {\n",
       "        vertical-align: middle;\n",
       "    }\n",
       "\n",
       "    .dataframe tbody tr th {\n",
       "        vertical-align: top;\n",
       "    }\n",
       "\n",
       "    .dataframe thead th {\n",
       "        text-align: right;\n",
       "    }\n",
       "</style>\n",
       "<table border=\"1\" class=\"dataframe\">\n",
       "  <thead>\n",
       "    <tr style=\"text-align: right;\">\n",
       "      <th></th>\n",
       "      <th>Lower_bound</th>\n",
       "      <th>Upper bound</th>\n",
       "    </tr>\n",
       "  </thead>\n",
       "  <tbody>\n",
       "    <tr>\n",
       "      <th>age65</th>\n",
       "      <td>-0.005700</td>\n",
       "      <td>0.365675</td>\n",
       "    </tr>\n",
       "    <tr>\n",
       "      <th>intercept</th>\n",
       "      <td>7.540787</td>\n",
       "      <td>7.822654</td>\n",
       "    </tr>\n",
       "  </tbody>\n",
       "</table>\n",
       "</div>"
      ],
      "text/plain": [
       "           Lower_bound  Upper bound\n",
       "age65        -0.005700     0.365675\n",
       "intercept     7.540787     7.822654"
      ]
     },
     "execution_count": 67,
     "metadata": {},
     "output_type": "execute_result"
    }
   ],
   "source": [
    "interval_3 = res_3.conf_int(alpha=0.05)\n",
    "interval_3.rename(columns={0:'Lower_bound', 1:'Upper bound'}, inplace=True)\n",
    "interval_3"
   ]
  },
  {
   "cell_type": "code",
   "execution_count": 68,
   "metadata": {},
   "outputs": [
    {
     "data": {
      "text/html": [
       "<div>\n",
       "<style scoped>\n",
       "    .dataframe tbody tr th:only-of-type {\n",
       "        vertical-align: middle;\n",
       "    }\n",
       "\n",
       "    .dataframe tbody tr th {\n",
       "        vertical-align: top;\n",
       "    }\n",
       "\n",
       "    .dataframe thead th {\n",
       "        text-align: right;\n",
       "    }\n",
       "</style>\n",
       "<table border=\"1\" class=\"dataframe\">\n",
       "  <thead>\n",
       "    <tr style=\"text-align: right;\">\n",
       "      <th></th>\n",
       "      <th>Lower_bound</th>\n",
       "      <th>Upper bound</th>\n",
       "    </tr>\n",
       "  </thead>\n",
       "  <tbody>\n",
       "    <tr>\n",
       "      <th>college</th>\n",
       "      <td>-0.331831</td>\n",
       "      <td>0.056846</td>\n",
       "    </tr>\n",
       "    <tr>\n",
       "      <th>intercept</th>\n",
       "      <td>7.711597</td>\n",
       "      <td>7.935307</td>\n",
       "    </tr>\n",
       "  </tbody>\n",
       "</table>\n",
       "</div>"
      ],
      "text/plain": [
       "           Lower_bound  Upper bound\n",
       "college      -0.331831     0.056846\n",
       "intercept     7.711597     7.935307"
      ]
     },
     "execution_count": 68,
     "metadata": {},
     "output_type": "execute_result"
    }
   ],
   "source": [
    "interval_4 = res_4.conf_int(alpha=0.05)\n",
    "interval_4.rename(columns={0:'Lower_bound', 1:'Upper bound'}, inplace=True)\n",
    "interval_4"
   ]
  },
  {
   "cell_type": "code",
   "execution_count": 69,
   "metadata": {},
   "outputs": [
    {
     "data": {
      "text/html": [
       "<div>\n",
       "<style scoped>\n",
       "    .dataframe tbody tr th:only-of-type {\n",
       "        vertical-align: middle;\n",
       "    }\n",
       "\n",
       "    .dataframe tbody tr th {\n",
       "        vertical-align: top;\n",
       "    }\n",
       "\n",
       "    .dataframe thead th {\n",
       "        text-align: right;\n",
       "    }\n",
       "</style>\n",
       "<table border=\"1\" class=\"dataframe\">\n",
       "  <thead>\n",
       "    <tr style=\"text-align: right;\">\n",
       "      <th></th>\n",
       "      <th>Lower_bound</th>\n",
       "      <th>Upper bound</th>\n",
       "    </tr>\n",
       "  </thead>\n",
       "  <tbody>\n",
       "    <tr>\n",
       "      <th>anyone_died</th>\n",
       "      <td>0.567781</td>\n",
       "      <td>0.998812</td>\n",
       "    </tr>\n",
       "    <tr>\n",
       "      <th>diabetes</th>\n",
       "      <td>0.045437</td>\n",
       "      <td>0.457449</td>\n",
       "    </tr>\n",
       "    <tr>\n",
       "      <th>age65</th>\n",
       "      <td>-0.005700</td>\n",
       "      <td>0.365675</td>\n",
       "    </tr>\n",
       "    <tr>\n",
       "      <th>college</th>\n",
       "      <td>-0.331831</td>\n",
       "      <td>0.056846</td>\n",
       "    </tr>\n",
       "  </tbody>\n",
       "</table>\n",
       "</div>"
      ],
      "text/plain": [
       "             Lower_bound  Upper bound\n",
       "anyone_died     0.567781     0.998812\n",
       "diabetes        0.045437     0.457449\n",
       "age65          -0.005700     0.365675\n",
       "college        -0.331831     0.056846"
      ]
     },
     "execution_count": 69,
     "metadata": {},
     "output_type": "execute_result"
    }
   ],
   "source": [
    "# Let's concat all frames to one to make it more readible. Let's actively not include intercepts, since the question doesnt ask for them\n",
    "frames = [interval_1.iloc[0], interval_2.iloc[0], interval_3.iloc[0], interval_4.iloc[0]]\n",
    "df = pd.DataFrame(frames)\n",
    "df"
   ]
  },
  {
   "cell_type": "markdown",
   "metadata": {},
   "source": [
    "Let's also do it manually to see if we get the same results.\n",
    "We know the formula for our confidence interval is: $\\bar{Y} \\pm 1.96 \\cdot \\hat{SE}(\\bar{Y})$"
   ]
  },
  {
   "cell_type": "code",
   "execution_count": 70,
   "metadata": {},
   "outputs": [
    {
     "data": {
      "text/html": [
       "<div>\n",
       "<style scoped>\n",
       "    .dataframe tbody tr th:only-of-type {\n",
       "        vertical-align: middle;\n",
       "    }\n",
       "\n",
       "    .dataframe tbody tr th {\n",
       "        vertical-align: top;\n",
       "    }\n",
       "\n",
       "    .dataframe thead th {\n",
       "        text-align: right;\n",
       "    }\n",
       "</style>\n",
       "<table border=\"1\" class=\"dataframe\">\n",
       "  <thead>\n",
       "    <tr style=\"text-align: right;\">\n",
       "      <th></th>\n",
       "      <th>0.025</th>\n",
       "      <th>0.975</th>\n",
       "    </tr>\n",
       "  </thead>\n",
       "  <tbody>\n",
       "    <tr>\n",
       "      <th>Intercept</th>\n",
       "      <td>[0.567776934412547]</td>\n",
       "      <td>[0.9988156169027074]</td>\n",
       "    </tr>\n",
       "    <tr>\n",
       "      <th>$Beta_1$</th>\n",
       "      <td>[7.525334971872793]</td>\n",
       "      <td>[7.732717026575056]</td>\n",
       "    </tr>\n",
       "  </tbody>\n",
       "</table>\n",
       "</div>"
      ],
      "text/plain": [
       "                         0.025                 0.975\n",
       "Intercept  [0.567776934412547]  [0.9988156169027074]\n",
       "$Beta_1$   [7.525334971872793]   [7.732717026575056]"
      ]
     },
     "execution_count": 70,
     "metadata": {},
     "output_type": "execute_result"
    }
   ],
   "source": [
    "# We get the coef using the params function\n",
    "beta_0 = res_1.params[0]\n",
    "beta_1 = res_1.params[1]\n",
    "# We can get the std using the bse function\n",
    "std_0 = res_1.bse[0]\n",
    "std_1 = res_1.bse[1]\n",
    "\n",
    "conf_beta_0 = {'0.025': [beta_0 - (1.96*std_0)], '0.975': [beta_0 + (1.96* std_0)]}\n",
    "conf_beta_1 = {'0.025': [beta_1 - (1.96*std_1)], '0.975': [beta_1 + (1.96* std_1)]}\n",
    "df = pd.DataFrame([conf_beta_0, conf_beta_1], index=['Intercept', '$Beta_1$'])\n",
    "df.head()"
   ]
  },
  {
   "cell_type": "markdown",
   "metadata": {},
   "source": [
    "We get pretty much the same results. Hence, we shall stick to using the inbuilt conf_int function."
   ]
  },
  {
   "cell_type": "markdown",
   "metadata": {},
   "source": [
    "<hr style=\"height:2.4pt\">\n",
    "\n",
    "### 5\n",
    "\n",
    "As a general matter, give a definition of a 95% confidence interval in words."
   ]
  },
  {
   "cell_type": "markdown",
   "metadata": {},
   "source": [
    "The 95% confidence interval contains a set valued function of the data that contains the true value of the parameter $E[Y_i]$ in 95% of the contained samples."
   ]
  },
  {
   "cell_type": "markdown",
   "metadata": {},
   "source": [
    "<hr style=\"height:2.4pt\">\n",
    "\n",
    "### 6\n",
    "\n",
    "Discuss your results. In particular, what do these data say about which groups are the most concerned about COVID-19? Do the results make sense to you? Is there anything that is surprising?"
   ]
  },
  {
   "cell_type": "markdown",
   "metadata": {},
   "source": [
    "Interestingly, I find that two of the results are not statistically significant at the $alpha =0.05$ level. Furthermore, I find that the those that those who do know someone who died of Covid-19 are more so concerned than those that did not know someone, which seems to make sense. Those who are already suffering with a health condition, are also more concerned than those that do not, which also seems to make sense, since they might be at an increased health risk from covid-19. Stunningly, the estimated average difference between those that attend college vs those that do not is statistically insiginificant suggesting that it has no impact on the level of concern about Covid-19."
   ]
  },
  {
   "cell_type": "markdown",
   "metadata": {},
   "source": [
    "### Sample Code"
   ]
  },
  {
   "cell_type": "markdown",
   "metadata": {},
   "source": [
    "This sequence allows you to import all\n",
    "necessary libraries for this problem set:\n",
    "\n",
    "```python\n",
    "import pandas as pd\n",
    "import numpy as np\n",
    "import matplotlib\n",
    "import matplotlib.pyplot as plt\n",
    "import statsmodels.api as sm\n",
    "# Uncomment the line below if using Google Colab:\n",
    "# !pip install stargazer\n",
    "from stargazer.stargazer import Stargazer\n",
    "```\n",
    "\n",
    "Reads in data and displays first 5 rows in\n",
    "dataset. We add an intercept column\n",
    "because Python does not automatically add\n",
    "a constant to regressions like Stata and R:\n",
    "\n",
    "```python\n",
    "# Read Dataset into a pandas dataframe\n",
    "covid = pd.read_stata(“covid19.dta”)\n",
    "# Add intercept to dataframe\n",
    "covid[“intercept”] = 1\n",
    "# Display first 5 rows of data\n",
    "covid.head()\n",
    "```\n",
    "\n",
    "Estimates regression of yvar on an\n",
    "intercept and xvar1, with HC2\n",
    "heteroskedasticity-robust standard errors.\n",
    "`cov_type=\"HC2\"` corresponds to HC2\n",
    "`cov_type=\"HC1\"` corresponds to HC1\n",
    "\n",
    "```python\n",
    "mod = sm.OLS(covid[[“yvar”]], covid[[“xvar1”,\n",
    "“intercept”]])\n",
    "res = mod.fit(cov_type=”HC2”)\n",
    "```\n",
    "\n",
    "These lines show how to make a\n",
    "regression table with two columns,\n",
    "corresponding to regressions of some\n",
    "variable yvar on xvar1 and a second\n",
    "regression of yvar on xvar2:\n",
    "\n",
    "```python\n",
    "# Estimate Regressions:\n",
    "mod1 = sm.OLS(covid[[“yvar”]], covid[[“xvar1”,\n",
    "“intercept”]])\n",
    "res1 = mod.fit(cov_type=”HC2”)\n",
    "mod2 = sm.OLS(covid[[“yvar”]], covid[[“xvar2”,\n",
    "“intercept”]])\n",
    "res2 = mod.fit(cov_type=”HC2”)\n",
    "# Create Table\n",
    "table = Stargazer(models)\n",
    "# Make sure the order of the independent variables is\n",
    "correct\n",
    "table.covariate_order([“xvar1”, “xvar2”])\n",
    "# Add note about heteroskedasticity\n",
    "table.add_custom_notes([\"Standard errors reported in parentheses are heteroskedasticity robust (HC2).\"])\n",
    "# Display table\n",
    "table\n",
    "```"
   ]
  }
 ],
 "metadata": {
  "kernelspec": {
   "display_name": "deep",
   "language": "python",
   "name": "deep"
  },
  "language_info": {
   "codemirror_mode": {
    "name": "ipython",
    "version": 3
   },
   "file_extension": ".py",
   "mimetype": "text/x-python",
   "name": "python",
   "nbconvert_exporter": "python",
   "pygments_lexer": "ipython3",
   "version": "3.10.8"
  },
  "vscode": {
   "interpreter": {
    "hash": "79e5ed05f4768318b64dcf4024aadef9daee7381e42285f5aa40ea96b6adb5f6"
   }
  }
 },
 "nbformat": 4,
 "nbformat_minor": 2
}
