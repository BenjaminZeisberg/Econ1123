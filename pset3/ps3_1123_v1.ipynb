{
 "cells": [
  {
   "cell_type": "markdown",
   "metadata": {},
   "source": [
    "## Problem Set 3: Household Expenditures and The Supplemental Nutrition Assistance Program<a name=\"cite_ref-1\"></a>[<sup>[1]</sup>](#cite_note-1)\n",
    "\n",
    "**Harvard University**<br/>\n",
    "**Spring 2023**<br/>\n",
    "**Instructor**: Gregory Bruich, Ph.D.\n",
    "\n",
    "- Posted on: 02/07/2023\n",
    "- Due at: 11:59pm on 02/14/2023 <3\n",
    "\n",
    "\n",
    "<a name=\"cite_note-1\"></a>[1.](#cite_ref-1) Background information is from Bruich (2014)\n",
    "\n",
    "<hr style=\"height:2.4pt\">"
   ]
  },
  {
   "cell_type": "markdown",
   "metadata": {},
   "source": [
    "### Suggested Imports"
   ]
  },
  {
   "cell_type": "code",
   "execution_count": 119,
   "metadata": {},
   "outputs": [],
   "source": [
    "import pandas as pd\n",
    "import numpy as np\n",
    "import scipy.stats as stats\n",
    "import matplotlib\n",
    "import matplotlib.pyplot as plt\n",
    "import statsmodels.formula.api as sm\n",
    "from stargazer.stargazer import Stargazer"
   ]
  },
  {
   "cell_type": "markdown",
   "metadata": {},
   "source": [
    "### Background\n",
    "\n",
    "The Food Stamp Program (now called the Supplemental Nutrition Assistance Program or SNAP) provides income to low-income households each month with the stated goal of helping them buy food. In April 2014, the average SNAP household consisted of just over two people and received $256 in benefits per month. SNAP benefits are restricted in that they can only be used to pay for certain food items purchased at retailers that have applied for and received authorization to\n",
    "participate in the program from the U.S. Department of Agriculture. Excluded items include alcohol, hot foods, and toiletries. \n",
    "\n",
    "There are two ways for a household to become eligible for SNAP. The first way is if all members of the household receive benefits through either the Supplemental Security Income program,<a name=\"cite_ref-2\"></a>[<sup>[2]</sup>](#cite_note-2) the Temporary Assistance for Needy Families program, or a county general assistance program. The second way is if household income and assets are below certain thresholds. Income and assets are measured the month prior to applying for benefits and are re-assessed at periodic intervals (typically 6 months). In addition, there are minimum work requirements (20 hours per week) for non-disabled adults between 18 and 50 years old without children. SNAP benefits may only be received by adults who do not meet this work requirement for three months out of the previous three years. Beneficiaries can often substitute work training or volunteering for the work\n",
    "requirement.\n",
    "\n",
    "Table 1 describes the variables included in the stata dataset `snap.dta`. The dataset is an extract\n",
    "from the National Household Food Acquisition and Purchase Survey (FoodAPS) from the U.S. Department of Agriculture (USDA). The sample is restricted to households receiving SNAP benefits. Survey respondents kept track of all food items purchased over a 24 hour period.\n",
    "\n",
    "The survey responses were merged with administrative data from the SNAP program, allowing us to measure the exact number of days since the household received its SNAP benefits. Spending and days since receipt of SNAP will be the main variables we utilize in this problem set, although we will also control for various other household level variables (e.g., the number of people in the household, whether the household owns a vehicle, whether the primary respondent has a high school education).\n",
    "\n",
    "<a name=\"cite_note-2\"></a>[2.](#cite_ref-2) An exception is that in California, Supplemental Security Income payments have included an additional cash amount for food stamp benefits since 1974. Therefore, individuals in California who receive Supplemental Security Income cannot also receive SNAP benefits separately.\n",
    "\n",
    "\n",
    "<hr style=\"height:2.4pt\">\n"
   ]
  },
  {
   "cell_type": "markdown",
   "metadata": {},
   "source": [
    "### Data Description\n",
    "**File**: `snap.dta`\n",
    "\n",
    "The data consist of $n=1215$ households from National Household Food Acquisition and Purchase Survey (FoodAPS) from the U.S. Department of Agriculture (USDA). All households are SNAP recipients.\n",
    "\n",
    "**Table 1: Definitions of Selected Variables in `snap.dta`**\n",
    "\n",
    "| Variable          | Description                                                              | N     | Mean   |\n",
    "| ----------------- | ------------------------------------------------------------------------ | ----- | ------ |\n",
    "| (1)               | (2)                                                                      | (3)   | (4)    |\n",
    "|                   |                                                                          |       |        |\n",
    "| `hhnum`           | 6-digit unique identifier for each household                             | 1,215 | n/a    |\n",
    "| `spending`        | Total amount spent ($) on both food away from home and food at home      | 1,215 | $21.80 |\n",
    "| `days`            | days since snap last received                                            | 1,215 | 14.01  |\n",
    "| `week1`           | 1st week of SNAP benefit month                                           | 1,215 | 0.321  |\n",
    "| `week2`           | 2nd week of SNAP benefit month                                           | 1,215 | 0.233  |\n",
    "| `week3`           | 3rd week of SNAP benefit month                                           | 1,215 | 0.230  |\n",
    "| `week4`           | 4th week of SNAP benefit month                                           | 1,215 | 0.216  |\n",
    "| `anyvehicle`      | whether anybody in household owns or leases a vehicle (y/n)              | 1,215 | 0.724  |\n",
    "| `hhsize`          | number of people at residence, excluding guests                          | 1,215 | 3.420  |\n",
    "| `primstoretime_d` | driving time, in minutes, between residence and primary food store       | 1,215 | 8.512  |\n",
    "| `white`           | Primary respondent is White                                              | 1,215 | 0.645  |\n",
    "| `black`           | Primary respondent is Black                                              | 1,215 | 0.207  |\n",
    "| `asian`           | Primary respondent is Asian or Native Hawaiian or Other Pacific Islander | 1,215 | 0.0156 |\n",
    "| `hispanic`        | Primary respondent is Hispanic                                           | 1,215 | 0.246  |\n",
    "| `highschool`      | Primary respondent has high school education                             | 1,215 | 0.720  |\n",
    "\n",
    "*Notes:* Table defines the variables from the FoodAPS data.\n",
    "\n",
    "\n",
    "<hr style=\"height:2.4pt\">"
   ]
  },
  {
   "cell_type": "markdown",
   "metadata": {},
   "source": [
    "### Data Load"
   ]
  },
  {
   "cell_type": "code",
   "execution_count": 2,
   "metadata": {},
   "outputs": [
    {
     "data": {
      "text/html": [
       "<div>\n",
       "<style scoped>\n",
       "    .dataframe tbody tr th:only-of-type {\n",
       "        vertical-align: middle;\n",
       "    }\n",
       "\n",
       "    .dataframe tbody tr th {\n",
       "        vertical-align: top;\n",
       "    }\n",
       "\n",
       "    .dataframe thead th {\n",
       "        text-align: right;\n",
       "    }\n",
       "</style>\n",
       "<table border=\"1\" class=\"dataframe\">\n",
       "  <thead>\n",
       "    <tr style=\"text-align: right;\">\n",
       "      <th></th>\n",
       "      <th>hhnum</th>\n",
       "      <th>spending</th>\n",
       "      <th>snap_amount</th>\n",
       "      <th>days</th>\n",
       "      <th>week1</th>\n",
       "      <th>week2</th>\n",
       "      <th>week3</th>\n",
       "      <th>week4</th>\n",
       "      <th>anyvehicle</th>\n",
       "      <th>hhsize</th>\n",
       "      <th>primstoretime_d</th>\n",
       "      <th>white</th>\n",
       "      <th>black</th>\n",
       "      <th>asian</th>\n",
       "      <th>hispanic</th>\n",
       "      <th>highschool</th>\n",
       "    </tr>\n",
       "  </thead>\n",
       "  <tbody>\n",
       "    <tr>\n",
       "      <th>0</th>\n",
       "      <td>100012</td>\n",
       "      <td>5.520000</td>\n",
       "      <td>125.0</td>\n",
       "      <td>27</td>\n",
       "      <td>0</td>\n",
       "      <td>0</td>\n",
       "      <td>0</td>\n",
       "      <td>1</td>\n",
       "      <td>1</td>\n",
       "      <td>5</td>\n",
       "      <td>2.37</td>\n",
       "      <td>1</td>\n",
       "      <td>0</td>\n",
       "      <td>0</td>\n",
       "      <td>0</td>\n",
       "      <td>1</td>\n",
       "    </tr>\n",
       "    <tr>\n",
       "      <th>1</th>\n",
       "      <td>100028</td>\n",
       "      <td>23.620001</td>\n",
       "      <td>725.0</td>\n",
       "      <td>17</td>\n",
       "      <td>0</td>\n",
       "      <td>0</td>\n",
       "      <td>1</td>\n",
       "      <td>0</td>\n",
       "      <td>1</td>\n",
       "      <td>7</td>\n",
       "      <td>4.23</td>\n",
       "      <td>1</td>\n",
       "      <td>0</td>\n",
       "      <td>0</td>\n",
       "      <td>0</td>\n",
       "      <td>0</td>\n",
       "    </tr>\n",
       "    <tr>\n",
       "      <th>2</th>\n",
       "      <td>100040</td>\n",
       "      <td>22.010000</td>\n",
       "      <td>225.0</td>\n",
       "      <td>6</td>\n",
       "      <td>1</td>\n",
       "      <td>0</td>\n",
       "      <td>0</td>\n",
       "      <td>0</td>\n",
       "      <td>1</td>\n",
       "      <td>2</td>\n",
       "      <td>5.72</td>\n",
       "      <td>0</td>\n",
       "      <td>0</td>\n",
       "      <td>0</td>\n",
       "      <td>1</td>\n",
       "      <td>1</td>\n",
       "    </tr>\n",
       "    <tr>\n",
       "      <th>3</th>\n",
       "      <td>100069</td>\n",
       "      <td>59.750000</td>\n",
       "      <td>175.0</td>\n",
       "      <td>17</td>\n",
       "      <td>0</td>\n",
       "      <td>0</td>\n",
       "      <td>1</td>\n",
       "      <td>0</td>\n",
       "      <td>1</td>\n",
       "      <td>4</td>\n",
       "      <td>5.15</td>\n",
       "      <td>0</td>\n",
       "      <td>0</td>\n",
       "      <td>0</td>\n",
       "      <td>0</td>\n",
       "      <td>1</td>\n",
       "    </tr>\n",
       "    <tr>\n",
       "      <th>4</th>\n",
       "      <td>100076</td>\n",
       "      <td>30.650000</td>\n",
       "      <td>325.0</td>\n",
       "      <td>27</td>\n",
       "      <td>0</td>\n",
       "      <td>0</td>\n",
       "      <td>0</td>\n",
       "      <td>1</td>\n",
       "      <td>1</td>\n",
       "      <td>4</td>\n",
       "      <td>8.75</td>\n",
       "      <td>1</td>\n",
       "      <td>0</td>\n",
       "      <td>0</td>\n",
       "      <td>0</td>\n",
       "      <td>1</td>\n",
       "    </tr>\n",
       "  </tbody>\n",
       "</table>\n",
       "</div>"
      ],
      "text/plain": [
       "    hhnum   spending  snap_amount  days  week1  week2  week3  week4  \\\n",
       "0  100012   5.520000        125.0    27      0      0      0      1   \n",
       "1  100028  23.620001        725.0    17      0      0      1      0   \n",
       "2  100040  22.010000        225.0     6      1      0      0      0   \n",
       "3  100069  59.750000        175.0    17      0      0      1      0   \n",
       "4  100076  30.650000        325.0    27      0      0      0      1   \n",
       "\n",
       "   anyvehicle  hhsize  primstoretime_d  white  black  asian  hispanic  \\\n",
       "0           1       5             2.37      1      0      0         0   \n",
       "1           1       7             4.23      1      0      0         0   \n",
       "2           1       2             5.72      0      0      0         1   \n",
       "3           1       4             5.15      0      0      0         0   \n",
       "4           1       4             8.75      1      0      0         0   \n",
       "\n",
       "   highschool  \n",
       "0           1  \n",
       "1           0  \n",
       "2           1  \n",
       "3           1  \n",
       "4           1  "
      ]
     },
     "execution_count": 2,
     "metadata": {},
     "output_type": "execute_result"
    }
   ],
   "source": [
    "# Read dataset into a pandas dataframe\n",
    "data = pd.read_stata(\"snap.dta\")\n",
    "\n",
    "# Display first 5 rows of data\n",
    "data.head()"
   ]
  },
  {
   "cell_type": "markdown",
   "metadata": {},
   "source": [
    "<hr style=\"height:2.4pt\">\n",
    "\n",
    "### Instructions\n",
    "\n",
    "Please submit your Problem Set on Canvas. Your submission should include two files:\n",
    "1. This notebook as a `.ipynb` file with your code and answers to questions\n",
    "2. A `.pdf` version of this notebook. TODO: Provide general instructions on converting `.ipynb` to `pdf`\n",
    "\n",
    "<hr style=\"height:2.4pt\">"
   ]
  },
  {
   "cell_type": "markdown",
   "metadata": {},
   "source": [
    "### Questions\n",
    "\n",
    "*Note: Short answers should be very succinct. Show your work and intuition clearly: credit is given for explanations and not just having the correct answer*"
   ]
  },
  {
   "cell_type": "markdown",
   "metadata": {},
   "source": [
    "### 1\n",
    "\n",
    "Estimate the following regressions and generate a table of the results using `stargazer`. Report appropriate standard errors for each regression, and\n",
    "explain how you decided which standard errors to use.\n",
    "\n",
    "You will have to generate new variables: the square of `days`, natural log of `spending` and\n",
    "household size (`hhsize`), as well as the interaction terms `week2` × `anyvehicle`, `week3` ×\n",
    "`anyvehicle`, and `week4` × `anyvehicle`. See Table 2a and Table 2b for more guidance.\n",
    "\n",
    "- a) Column 1: Regress `spending` in dollars on `days`, the square of `days`, the natural log of `hhsize`, the variable `highschool`, and the variable `anyvehicle`. In Greek:\n",
    "$$Spending_i = \\alpha_0 + \\alpha_1days_i + \\alpha_2log(hhsize_i) + \\alpha_4highschool_i + \\alpha_5Vehicle_i + u_i$$\n",
    "\n",
    "- b) Column 2: Regress the natural log of `spending` on `days`, the square of `days`, the natural log of `hhsize`, the variable `highschool`, and the variable `anyvehicle`. In Greek:\n",
    "$$log(Spending_i) = \\alpha_0 + \\alpha_1days_i + \\alpha_2log(hhsize_i) + \\alpha_4highschool_i + \\alpha_5Vehicle_i + u_i$$\n",
    "\n",
    "- c) Column 3: Regress the natural log of `spending` on the dummy variables `week2`, `week3`, and `week4`. Estimate this regression over the subset of observations **for whom `anyvehicle` equals 1**. In Greek:\n",
    "$$log(Spending_i) = \\alpha_0 + \\alpha_1Week2_i + \\alpha_2Week3_i + \\alpha_3Week4_i + u_i$$\n",
    "\n",
    "d. Column 4: Regress the natural log of `spending` on the dummy variables `week2`, `week3`, and `week4`. Estimate this regression over the subset of observations **for whom `anyvehicle` equals 0**. In Greek:\n",
    "$$log(Spending_i) = \\alpha_0 + \\alpha_1Week2_i + \\alpha_2Week3_i + \\alpha_3Week4_i + u_i$$\n",
    "\n",
    "e. Column 5: Regress the natural log of `spending` on the dummy variables `week2`, `week3`, `week4`, the variable `anyvehicle`, and new variables that equal `week2` × `anyvehicle`, `week3` × `anyvehicle`, and `week4` × `anyvehicle`. Estimate this regression over the full sample. In Greek:\n",
    "\n",
    "$$\\begin{aligned}\n",
    "f(x)= & \\alpha_0 + \\alpha_1Week2_i + \\alpha_2Week3_i + \\alpha_3Week4_i + \\alpha_4 Vehicle_i + \\alpha_5 Week2_i \\times Vehicle_i\\\\\n",
    "& \\alpha_6 Week3_i \\times Vehicle_i + \\alpha_7 Week4_i \\times Vehicle_i + u_i\n",
    "\\end{aligned}$$"
   ]
  },
  {
   "cell_type": "code",
   "execution_count": 3,
   "metadata": {},
   "outputs": [
    {
     "name": "stderr",
     "output_type": "stream",
     "text": [
      "/opt/homebrew/lib/python3.10/site-packages/pandas/core/arraylike.py:397: RuntimeWarning: divide by zero encountered in log\n",
      "  result = getattr(ufunc, method)(*inputs, **kwargs)\n"
     ]
    }
   ],
   "source": [
    "data['days_squared'] = data['days'].apply(lambda x: x**2)\n",
    "data['log_hhsize'] = np.log(data['hhsize']).replace(-float('inf'), np.nan)\n",
    "data['log_spending'] = np.log(data['spending']).replace(-float('inf'), np.nan);"
   ]
  },
  {
   "cell_type": "code",
   "execution_count": 25,
   "metadata": {},
   "outputs": [
    {
     "data": {
      "text/html": [
       "<table style=\"text-align:center\"><tr><td colspan=\"6\" style=\"border-bottom: 1px solid black\"></td></tr><tr><td style=\"text-align:left\"></td><tr><td></td><td colspan=\"1\">Dep: Spending</td><td colspan=\"1\">Dep: log_spending</td><td colspan=\"1\">Dep: log_spending</td><td colspan=\"1\">Dep: log_spending</td><td colspan=\"1\">Dep: log_spending</td></tr><tr><td style=\"text-align:left\"></td><td>(1)</td><td>(2)</td><td>(3)</td><td>(4)</td><td>(5)</td></tr><tr><td colspan=\"6\" style=\"border-bottom: 1px solid black\"></td></tr><tr><td style=\"text-align:left\">Intercept</td><td>35.681<sup>***</sup></td><td>3.164<sup>***</sup></td><td>3.093<sup>***</sup></td><td>3.224<sup>***</sup></td><td>3.224<sup>***</sup></td></tr><tr><td style=\"text-align:left\"></td><td>(6.196)</td><td>(0.179)</td><td>(0.095)</td><td>(0.182)</td><td>(0.182)</td></tr><tr><td style=\"text-align:left\">anyvehicle</td><td>1.898<sup></sup></td><td>0.109<sup></sup></td><td></td><td></td><td>-0.131<sup></sup></td></tr><tr><td style=\"text-align:left\"></td><td>(2.577)</td><td>(0.105)</td><td></td><td></td><td>(0.205)</td></tr><tr><td style=\"text-align:left\">days</td><td>-3.490<sup>***</sup></td><td>-0.079<sup>***</sup></td><td></td><td></td><td></td></tr><tr><td style=\"text-align:left\"></td><td>(0.756)</td><td>(0.020)</td><td></td><td></td><td></td></tr><tr><td style=\"text-align:left\">days_squared</td><td>0.093<sup>***</sup></td><td>0.002<sup>***</sup></td><td></td><td></td><td></td></tr><tr><td style=\"text-align:left\"></td><td>(0.022)</td><td>(0.001)</td><td></td><td></td><td></td></tr><tr><td style=\"text-align:left\">highschool</td><td>-1.144<sup></sup></td><td>-0.135<sup></sup></td><td></td><td></td><td></td></tr><tr><td style=\"text-align:left\"></td><td>(2.708)</td><td>(0.104)</td><td></td><td></td><td></td></tr><tr><td style=\"text-align:left\">log_hhsize</td><td>8.003<sup>***</sup></td><td>0.234<sup>***</sup></td><td></td><td></td><td></td></tr><tr><td style=\"text-align:left\"></td><td>(1.734)</td><td>(0.075)</td><td></td><td></td><td></td></tr><tr><td style=\"text-align:left\">week2</td><td></td><td></td><td>-0.252<sup>*</sup></td><td>-0.509<sup>**</sup></td><td>-0.509<sup>**</sup></td></tr><tr><td style=\"text-align:left\"></td><td></td><td></td><td>(0.141)</td><td>(0.248)</td><td>(0.248)</td></tr><tr><td style=\"text-align:left\">week3</td><td></td><td></td><td>-0.303<sup>**</sup></td><td>-0.981<sup>***</sup></td><td>-0.981<sup>***</sup></td></tr><tr><td style=\"text-align:left\"></td><td></td><td></td><td>(0.139)</td><td>(0.261)</td><td>(0.261)</td></tr><tr><td style=\"text-align:left\">week4</td><td></td><td></td><td>-0.340<sup>**</sup></td><td>-0.642<sup>**</sup></td><td>-0.642<sup>**</sup></td></tr><tr><td style=\"text-align:left\"></td><td></td><td></td><td>(0.147)</td><td>(0.250)</td><td>(0.250)</td></tr><tr><td style=\"text-align:left\">week2:anyvehicle</td><td></td><td></td><td></td><td></td><td>0.257<sup></sup></td></tr><tr><td style=\"text-align:left\"></td><td></td><td></td><td></td><td></td><td>(0.285)</td></tr><tr><td style=\"text-align:left\">week3:anyvehicle</td><td></td><td></td><td></td><td></td><td>0.678<sup>**</sup></td></tr><tr><td style=\"text-align:left\"></td><td></td><td></td><td></td><td></td><td>(0.296)</td></tr><tr><td style=\"text-align:left\">week4:anyvehicle</td><td></td><td></td><td></td><td></td><td>0.301<sup></sup></td></tr><tr><td style=\"text-align:left\"></td><td></td><td></td><td></td><td></td><td>(0.290)</td></tr><td colspan=\"6\" style=\"border-bottom: 1px solid black\"></td></tr><tr><td style=\"text-align: left\">Observations</td><td>1,215</td><td>757</td><td>569</td><td>188</td><td>757</td></tr><tr><td style=\"text-align: left\">R<sup>2</sup></td><td>0.063</td><td>0.055</td><td>0.013</td><td>0.081</td><td>0.034</td></tr><tr><td style=\"text-align: left\">Adjusted R<sup>2</sup></td><td>0.060</td><td>0.049</td><td>0.008</td><td>0.066</td><td>0.025</td></tr><tr><td style=\"text-align: left\">Residual Std. Error</td><td>40.387 (df=1209)</td><td>1.217 (df=751)</td><td>1.232 (df=565)</td><td>1.236 (df=184)</td><td>1.233 (df=749)</td></tr><tr><td style=\"text-align: left\">F Statistic</td><td>8.283<sup>***</sup> (df=5; 1209)</td><td>8.590<sup>***</sup> (df=5; 751)</td><td>2.414<sup>*</sup> (df=3; 565)</td><td>4.918<sup>***</sup> (df=3; 184)</td><td>3.636<sup>***</sup> (df=7; 749)</td></tr><tr><td colspan=\"6\" style=\"border-bottom: 1px solid black\"></td></tr><tr><td style=\"text-align: left\">Note:</td>\n",
       " <td colspan=\"5\" style=\"text-align: right\">\n",
       "  <sup>*</sup>p&lt;0.1;\n",
       "  <sup>**</sup>p&lt;0.05;\n",
       "  <sup>***</sup>p&lt;0.01\n",
       " </td></tr><tr><td></td><td colspan=\"5\" style=\"text-align: right\">The Standard errors reported in parentheses are heteroskedasticity robust (HC2).</td></tr></table>"
      ],
      "text/plain": [
       "<stargazer.stargazer.Stargazer at 0x17fa22860>"
      ]
     },
     "execution_count": 25,
     "metadata": {},
     "output_type": "execute_result"
    }
   ],
   "source": [
    "# Regression 1\n",
    "reg_1 = sm.ols('spending ~ days + days_squared + log_hhsize + highschool + anyvehicle', data=data)\n",
    "res_1 = reg_1.fit(cov_type='HC2')\n",
    "# # print(res_1.summary())\n",
    "\n",
    "reg_2 = sm.ols('log_spending ~ days + days_squared + log_hhsize + highschool + anyvehicle ', data=data)\n",
    "res_2 = reg_2.fit(cov_type='HC2')\n",
    "# print(res_2.summary())\n",
    "\n",
    "data_subset = data.loc[data['anyvehicle'] == 1]\n",
    "data_subset_2 = data.loc[data['anyvehicle'] != 1]\n",
    "\n",
    "reg_3 = sm.ols('log_spending ~ week2 + week3 + week4', data=data_subset)\n",
    "res_3 = reg_3.fit(cov_type='HC2')\n",
    "# print(res_3.summary())\n",
    "\n",
    "reg_4 = sm.ols('log_spending ~ week2 + week3 + week4', data=data_subset_2)\n",
    "res_4 = reg_4.fit(cov_type='HC2')\n",
    "# print(res_4.summary())\n",
    "\n",
    "reg_5 = sm.ols('log_spending ~ week2 * anyvehicle + week3 * anyvehicle + week4 * anyvehicle', data=data)\n",
    "res_5 = reg_5.fit(cov_type='HC2')\n",
    "# print(res_5.summary())\n",
    "\n",
    "table = Stargazer([res_1, res_2, res_3, res_4, res_5])\n",
    "table.covariate_order(['Intercept','anyvehicle', 'days', 'days_squared', 'highschool', 'log_hhsize', 'week2', 'week3', 'week4', 'week2:anyvehicle', 'week3:anyvehicle', 'week4:anyvehicle'])\n",
    "table.custom_columns(['Dep: Spending', 'Dep: log_spending', 'Dep: log_spending', 'Dep: log_spending', 'Dep: log_spending'], [1, 1, 1, 1, 1])\n",
    "table.add_custom_notes([\"The Standard errors reported in parentheses are heteroskedasticity robust (HC2).\"])\n",
    "table\n",
    "table"
   ]
  },
  {
   "cell_type": "markdown",
   "metadata": {},
   "source": [
    "<h3> Answer </h3>\n",
    "<p> Decided upon using the HC2 formula for calculating standard error, because they work when unequal variance is given, and are more consistent than the HC1 </p>"
   ]
  },
  {
   "cell_type": "markdown",
   "metadata": {},
   "source": [
    "<hr style=\"height:2.4pt\">\n",
    "\n",
    "### 2\n",
    "\n",
    "The number of observations in **Column 1** is greater than in **Column 2**. Why?"
   ]
  },
  {
   "cell_type": "code",
   "execution_count": 5,
   "metadata": {},
   "outputs": [
    {
     "name": "stdout",
     "output_type": "stream",
     "text": [
      "There 0 observations being dropped in regression 1.\n",
      "There 458 observations being dropped in regression 2.\n"
     ]
    }
   ],
   "source": [
    "reg = sm.ols('spending ~ days + np.log(hhsize) + highschool + anyvehicle', data=data, missing='drop')\n",
    "index_1 = reg.data.missing_row_idx\n",
    "print(f'There {len(index_1)} observations being dropped in regression 1.')\n",
    "\n",
    "reg_2 = sm.ols('log_spending ~ days + log_hhsize + highschool + anyvehicle + week2 ', data=data, missing='drop')\n",
    "index_2 = (reg_2.data.missing_row_idx)\n",
    "print(f'There {len(index_2)} observations being dropped in regression 2.')"
   ]
  },
  {
   "cell_type": "markdown",
   "metadata": {},
   "source": [
    "Statsmodels drops observations if one of their regressor fields is missing data. We can find 458 observation that are being dropped in the second column. What we find is that all those observations have a log-spending that is $-\\infty$ and we declared them as NAN. Hence, they are not used in the regression."
   ]
  },
  {
   "cell_type": "code",
   "execution_count": 6,
   "metadata": {},
   "outputs": [
    {
     "data": {
      "text/plain": [
       "hhnum                0\n",
       "spending             0\n",
       "snap_amount         40\n",
       "days                 0\n",
       "week1                0\n",
       "week2                0\n",
       "week3                0\n",
       "week4                0\n",
       "anyvehicle           0\n",
       "hhsize               0\n",
       "primstoretime_d      0\n",
       "white                0\n",
       "black                0\n",
       "asian                0\n",
       "hispanic             0\n",
       "highschool           0\n",
       "days_squared         0\n",
       "log_hhsize           0\n",
       "log_spending       458\n",
       "dtype: int64"
      ]
     },
     "execution_count": 6,
     "metadata": {},
     "output_type": "execute_result"
    }
   ],
   "source": [
    "missing = data.iloc[index_2]\n",
    "missing.isna().sum()\n",
    "# missing['log_spending'].value_counts()"
   ]
  },
  {
   "cell_type": "markdown",
   "metadata": {},
   "source": [
    "<hr style=\"height:2.4pt\">\n",
    "\n",
    "### 3\n",
    "Interpret the coefficient on log household size \n",
    "- (i) in column 1 and \n",
    "- (ii) in column 2\n",
    "\n",
    "in words."
   ]
  },
  {
   "cell_type": "markdown",
   "metadata": {},
   "source": [
    "<p> Formulas for columns 1 and 2 </p>\n",
    "<ol> \n",
    "    <li> $$Spending_i = \\alpha_0 + \\alpha_1days_i + \\alpha_2log(hhsize_i) + \\alpha_4highschool_i + \\alpha_5Vehicle_i + u_i$$ </li>\n",
    "    <li> $$log(Spending_i) = \\alpha_0 + \\alpha_1days_i + \\alpha_2log(hhsize_i) + \\alpha_4highschool_i + \\alpha_5Vehicle_i + u_i$$ </li>\n",
    "</ol>"
   ]
  },
  {
   "cell_type": "markdown",
   "metadata": {},
   "source": [
    "<strong> Answer: </strong>\n",
    "<ol>\n",
    "    <li> A 1% change in household size is on average associated with a change of $0.01 * 8.003 = 0.08003$ (where, $ \\beta_1 = 8.003$) in spending on food at home and away, holding all else constant.  </li>\n",
    "    <li> A 1% change in household size is on average associated with a change of 0.234 in spending on food at home and away, holding all else constant. </li>\n",
    "</ol>"
   ]
  },
  {
   "cell_type": "markdown",
   "metadata": {},
   "source": [
    "<hr style=\"height:2.4pt\">\n",
    "\n",
    "### 4\n",
    "Use the regression in column 2 of your table to do the following:\n",
    "- a) Calculate the predicted effect of increasing days from $days = 1$ to $days = 2$\n",
    "- b) Calculate the standard error of the predicted effect by hand. Does your regression output table have all the information needed to calculate this standard error? Explain why or why not. (You can check your answer using `lincom`).\n",
    "- c) Calculate a 95% confidence interval for your predicted effect by hand. (You can check your answer using lincom).\n",
    "\n",
    "Note: you may use Stata/R (or a calculator) to help with your calculations in (b) and (c), but you should write out the formula you use with the appropriate values plugged in."
   ]
  },
  {
   "cell_type": "markdown",
   "metadata": {},
   "source": [
    "<h2> 4a) </h2>"
   ]
  },
  {
   "cell_type": "code",
   "execution_count": 86,
   "metadata": {
    "scrolled": false
   },
   "outputs": [
    {
     "name": "stdout",
     "output_type": "stream",
     "text": [
      "   anyvehicle  days  days_squared  highschool  log_hhsize\n",
      "0         1.0   1.0           1.0         1.0    1.609375\n",
      "1         1.0   2.0           4.0         1.0    1.609375\n"
     ]
    }
   ],
   "source": [
    "import statsmodels.api as smf\n",
    "\n",
    "reg_pred = sm.ols('log_spending ~ anyvehicle + days + days_squared + highschool + log_hhsize', data=data)\n",
    "reg_pred_res = reg_pred.fit(cov_type='HC2')\n",
    "# y_pred_1 = pd.DataFrame(np.ones(5), columns=['anyvehicle', 'days', 'days_squared', 'highschool', 'log_hhsize'])\n",
    "y_pred_2 = np.ones(5)\n",
    "y_pred_2 = data.iloc[45]\n",
    "y_pred_2 = np.column_stack(y_pred_2)\n",
    "y_pred_2 = smf.add_constant(y_pred_2)\n",
    "\n",
    "x = data[['anyvehicle', 'days', 'days_squared', 'highschool', 'log_hhsize']]\n",
    "row = pd.DataFrame(x.iloc[0])\n",
    "row = row.T\n",
    "row['days'] = float(1)\n",
    "row['days_squared'] = float(1)\n",
    "\n",
    "X = pd.DataFrame(np.repeat(row.values, 2, axis=0), columns=['anyvehicle', 'days', 'days_squared', 'highschool', 'log_hhsize'])\n",
    "X.iloc[1]['days'] = float(2)\n",
    "X.iloc[1]['days_squared'] = float(4)\n",
    "print(X)\n",
    "\n",
    "pred = reg_pred_res.predict(X)"
   ]
  },
  {
   "cell_type": "code",
   "execution_count": 87,
   "metadata": {},
   "outputs": [
    {
     "name": "stdout",
     "output_type": "stream",
     "text": [
      "0.07331506572873048\n"
     ]
    }
   ],
   "source": [
    "# difference in predictions \n",
    "dif = pred[0] - pred[1]\n",
    "print(dif)"
   ]
  },
  {
   "cell_type": "markdown",
   "metadata": {},
   "source": [
    "The predicted effect from day 1 to day 2 is $ \\Delta Y_i = 0.07332$"
   ]
  },
  {
   "cell_type": "markdown",
   "metadata": {},
   "source": [
    "Important to note here that the predicted effect depends on the initial level of our x values (explanatory variable)."
   ]
  },
  {
   "cell_type": "markdown",
   "metadata": {},
   "source": [
    "<h2> 4b) Calculating Standard Errors per hand </h2>"
   ]
  },
  {
   "cell_type": "code",
   "execution_count": 154,
   "metadata": {},
   "outputs": [
    {
     "name": "stdout",
     "output_type": "stream",
     "text": [
      "                            OLS Regression Results                            \n",
      "==============================================================================\n",
      "Dep. Variable:           log_spending   R-squared:                       0.055\n",
      "Model:                            OLS   Adj. R-squared:                  0.049\n",
      "Method:                 Least Squares   F-statistic:                     8.590\n",
      "Date:                Tue, 14 Feb 2023   Prob (F-statistic):           6.32e-08\n",
      "Time:                        22:55:39   Log-Likelihood:                -1220.1\n",
      "No. Observations:                 757   AIC:                             2452.\n",
      "Df Residuals:                     751   BIC:                             2480.\n",
      "Df Model:                           5                                         \n",
      "Covariance Type:                  HC2                                         \n",
      "================================================================================\n",
      "                   coef    std err          z      P>|z|      [0.025      0.975]\n",
      "--------------------------------------------------------------------------------\n",
      "Intercept        3.1643      0.179     17.689      0.000       2.814       3.515\n",
      "days            -0.0792      0.020     -4.036      0.000      -0.118      -0.041\n",
      "days_squared     0.0020      0.001      3.131      0.002       0.001       0.003\n",
      "log_hhsize       0.2342      0.075      3.120      0.002       0.087       0.381\n",
      "highschool      -0.1350      0.104     -1.298      0.194      -0.339       0.069\n",
      "anyvehicle       0.1093      0.105      1.038      0.299      -0.097       0.316\n",
      "==============================================================================\n",
      "Omnibus:                       14.508   Durbin-Watson:                   2.117\n",
      "Prob(Omnibus):                  0.001   Jarque-Bera (JB):               15.100\n",
      "Skew:                          -0.341   Prob(JB):                     0.000526\n",
      "Kurtosis:                       2.886   Cond. No.                     1.60e+03\n",
      "==============================================================================\n",
      "\n",
      "Notes:\n",
      "[1] Standard Errors are heteroscedasticity robust (HC2)\n",
      "[2] The condition number is large, 1.6e+03. This might indicate that there are\n",
      "strong multicollinearity or other numerical problems.\n",
      "The covariance between beta_1 and beta_2 is -0.00001194\n"
     ]
    }
   ],
   "source": [
    "print(res_2.summary())\n",
    "cov_matrix = res_2.cov_params()\n",
    "cov_x1_x2 = cov_matrix.days.days_squared\n",
    "print(f'The covariance between beta_1 and beta_2 is {cov_x1_x2:.8f}')"
   ]
  },
  {
   "cell_type": "markdown",
   "metadata": {},
   "source": [
    "From section we know that $$Var(\\beta_1 + (1+2x)\\beta_2) = Var(\\beta_1) + (1+2x)^2Var(\\beta_2) + 2(1+2x)Cov(\\beta_1, \\beta_2) $$\n",
    "So let's calculate the standard error for a x = 1, which is a one-unit change from 1% to 2% we get\n",
    "\n",
    "$$Var(\\beta_1 + 1\\beta_2) = Var(\\beta_1) + (3)^2Var(\\beta_2) + 2(3)Cov(\\beta_1, \\beta_2)$$\n",
    "$$Var(\\beta_1 + 1\\beta_2) = 0.020^2 + (3)^2* 0.001^2 + 2(3) * -0.00001194$$\n",
    "$$Var(\\beta_1 + 1\\beta_2) = 0.00033736$$\n",
    "$$SE(\\beta_1 + 1\\beta_2) = \\sqrt{0.00033736} = 0.01836736235$$"
   ]
  },
  {
   "cell_type": "code",
   "execution_count": 103,
   "metadata": {},
   "outputs": [
    {
     "name": "stdout",
     "output_type": "stream",
     "text": [
      "Using the computer to calculate the standard error of the predicted effect we get  0.0178\n"
     ]
    }
   ],
   "source": [
    "# Let's confirm this result using code.\n",
    "# print(res_2.bse)\n",
    "var_beta_1 = (res_2.bse['days'])**2\n",
    "var_beta_2 = (res_2.bse['days_squared'])**2\n",
    "cov_matrix = res_2.cov_params()\n",
    "cov_beta_1_beta_2 = cov_matrix.days.days_squared\n",
    "\n",
    "var = var_beta_1 + (3**2) * var_beta_2 + 2*3*cov_beta_1_beta_2\n",
    "se = np.sqrt(var)\n",
    "# print(var)\n",
    "print(f'Using the computer to calculate the standard error of the predicted effect we get {se: .4f}')"
   ]
  },
  {
   "cell_type": "markdown",
   "metadata": {},
   "source": [
    "<h2> 4c) Calculate a 95% confidence interval for your predicted effect by hand. </h2>\n",
    "<p> A 95% confidence interval can be computer with $\\Delta \\bar{Y} \\pm 1.96 * \\hat{SE}(\\bar{Y})$"
   ]
  },
  {
   "cell_type": "markdown",
   "metadata": {},
   "source": [
    "<strong> Answer: </strong> $$CI = \\Delta \\bar{Y} \\pm 1.96 * 0.01837$$\n",
    "$$CI = 0.07331 \\pm 1.96 * 0.01837$$\n",
    "$$CI = [0.0373048, 0.1093152] $$"
   ]
  },
  {
   "cell_type": "code",
   "execution_count": 111,
   "metadata": {},
   "outputs": [
    {
     "name": "stdout",
     "output_type": "stream",
     "text": [
      "Python calculates the 95% confidence interval of the predicted effect to be [0.0384, 0.1082]\n"
     ]
    }
   ],
   "source": [
    "# Let's do it via python as well\n",
    "CI_lower = dif - (1.96 * se)\n",
    "CI_upper = dif + (1.96 * se)\n",
    "res = [CI_lower, CI_upper]\n",
    "print(f'Python calculates the 95% confidence interval of the predicted effect to be [{res[0]:.4f}, {res[1]:.4f}]')"
   ]
  },
  {
   "cell_type": "markdown",
   "metadata": {},
   "source": [
    "<hr style=\"height:2.4pt\">\n",
    "\n",
    "### 5\n",
    "\n",
    "This question has to do with the regressions in columns 3, 4, and 5 of your table.\n",
    "- a) Using the regression in column 4, interpret the coefficients on `week2`, `week3`, `week4` in words.\n",
    "- b) Using the regression in column 5, interpret the coefficients on `week2`, `week3`, `week4` in words. How do these coefficients compare with the coefficients you reported in column 4?\n",
    "- c) The “fully interacted regression” in column 5 provides exactly the same information as the regressions reported in column 4 and column 3. To see this, show that the sum of the coefficient on `week2` and `week2` × `anyvehicle` in column 5 exactly equals the coefficient on `week2` in column 3.\n",
    "- d) What do you think is an advantage of estimating the regressions separately as in columns 3 and 4? What do you think is an advantage to estimating the fully interacted regression as in column 5?"
   ]
  },
  {
   "cell_type": "markdown",
   "metadata": {},
   "source": [
    "<h2> 5a) </h2>\n",
    "<p> Since the dependent variable is in log we use: a one-unit change in $x_1$ is associated with a $(100 * \\beta_1)$ change in y, holding all else constant.\n",
    "\n",
    "The average estimated effect of spending on food for week one given being in week one is $322.4$.\n",
    "\n",
    "The average estimated effect of spending on food for week two given being in week two is $100 * (3.224 - 0.509) = 271.5$\n",
    "\n",
    "The average estimated effect of spending on food for week three given being in week three is $100 * (3.224 - 0.981) = 224.3$\n",
    "\n",
    "The average estimated effect of spending on food for week four given being in week four is $100 * (3.224 - 0.642) = 258.2$\n",
    "\n",
    "</p>"
   ]
  },
  {
   "cell_type": "markdown",
   "metadata": {},
   "source": [
    "<h2> 5b) </h2>\n",
    "<p> Our regression model 5 includes the interaction terms between week and whether anybody in household owns or leases a vehicle. We can use the interaction term to understand whether there is a difference between somebody that owns a vehicle or not. So for example we could answer the question what is the predicted difference in the natural log of spending for someone having received their snap benefits 2 weeks ago and owning a vehicle vs not owning a vehicle. Mathematically this would look like this considering:\n",
    "    $$\\begin{aligned}\n",
    "    f(x)= & \\beta_0 + \\beta_1Week2_i + \\beta_2Week3_i + \\beta_3Week4_i + \\beta_4 Vehicle_i + \\beta_5 Week2_i \\times Vehicle_i\\\\\n",
    "& \\beta_6 Week3_i \\times Vehicle_i + \\beta_7 Week4_i \\times Vehicle_i + u_i\n",
    "\\end{aligned}$$\n",
    "    Since we are considering the difference in Week2 from owning/leasing a vehicle the equation becomes this:\n",
    "$$ \\Delta(Y_i) = \\beta_0 + \\beta_1Week2_i + \\beta_2 Vehicle_i + \\beta_3 Week2_i \\times Vehicle_i +  u_i$$\n",
    "    This then becomes this:\n",
    "    $$ Y[Vehicle_i = 1| Week_2 = 1] - Y[Vehicle_i = 0| Week_2 = 1] = (\\beta_0 + \\beta_1Week2_i + \\beta_2 Vehicle_i + \\beta_3 Week2_i \\times Vehicle_i) - (\\beta_0 + \\beta_1Week2_i + \\beta_2 Vehicle_i + \\beta_3 Week2_i \\times Vehicle_i)$$ \n",
    "    Let's pull the equations apart to it becomes easier to read. We can plug in our estimated coefficients to obtain:\n",
    "    $$ Y[Vehicle_i = 1 | Week_2 = 1] = (3.224 - 0.509 \\times 1 - 0.131 \\times 1 + 0.257 \\times 1 \\times 1) = 2.841$$\n",
    "    $$ Y[Vehicle_i = 0| Week_2 = 1] =  (3.224 - 0.509 \\times 1  -0.131 \\times 0 + 0.257 \\times 1 \\times 0) = 2.715$$\n",
    "    Finally, we calculate the difference:\n",
    "    $$ \\Delta Y_i = -0.131 $$\n",
    "    \n",
    "The interaction terms allow us to further condition on another variable the vehicle. Giving us insights into whether there is a difference for a given week between owning and not owning a vehicle, ultimately allowing us a better understanding of the relationship in the data."
   ]
  },
  {
   "cell_type": "markdown",
   "metadata": {},
   "source": [
    "# 5c)\n",
    "\n",
    "$$ \\beta_2 = \\alpha_1 week_2 + \\alpha_2 week_2:anyvehicle$$ where $\\alpha$ coef come from column 5 and $\\beta$ from column 3. Therefore we get:\n",
    "\n",
    "$$ -0.252 = (-0.509 + 0.257)$$\n",
    "\n"
   ]
  },
  {
   "cell_type": "markdown",
   "metadata": {},
   "source": [
    "<h2> 5d) </h2>\n",
    "What do you think is an advantage of estimating the regressions separately as in columns 3 and 4? What do you think is an advantage to estimating the fully interacted regression as in column 5?\n",
    "\n",
    "What comes to mind is the degree of complexity of my model and how to interpret it. Including interaction terms makes my model more complex, but if I understand my variables including interaction terms allows my model capture more of the relationships in my data. Including the interaction term allows me to understand the effect of each week on spending depending on another variable which is owning/leasing a car. So we could understand better that the level of spending differs for people owning/leasing a car.\n",
    "\n",
    "On the other hand, including the fixed effects makes our model more complex, making it harder to interpret, and if we find a statistically insignificant interaction effect then they are merely show no difference between the groups."
   ]
  },
  {
   "cell_type": "code",
   "execution_count": 101,
   "metadata": {},
   "outputs": [
    {
     "data": {
      "text/html": [
       "<table style=\"text-align:center\"><tr><td colspan=\"6\" style=\"border-bottom: 1px solid black\"></td></tr><tr><td style=\"text-align:left\"></td><tr><td></td><td colspan=\"1\">Dep: Spending</td><td colspan=\"1\">Dep: log_spending</td><td colspan=\"1\">Dep: log_spending</td><td colspan=\"1\">Dep: log_spending</td><td colspan=\"1\">Dep: log_spending</td></tr><tr><td style=\"text-align:left\"></td><td>(1)</td><td>(2)</td><td>(3)</td><td>(4)</td><td>(5)</td></tr><tr><td colspan=\"6\" style=\"border-bottom: 1px solid black\"></td></tr><tr><td style=\"text-align:left\">Intercept</td><td>35.681<sup>***</sup></td><td>3.164<sup>***</sup></td><td>3.093<sup>***</sup></td><td>3.224<sup>***</sup></td><td>3.224<sup>***</sup></td></tr><tr><td style=\"text-align:left\"></td><td>(6.196)</td><td>(0.179)</td><td>(0.095)</td><td>(0.182)</td><td>(0.182)</td></tr><tr><td style=\"text-align:left\">anyvehicle</td><td>1.898<sup></sup></td><td>0.109<sup></sup></td><td></td><td></td><td>-0.131<sup></sup></td></tr><tr><td style=\"text-align:left\"></td><td>(2.577)</td><td>(0.105)</td><td></td><td></td><td>(0.205)</td></tr><tr><td style=\"text-align:left\">days</td><td>-3.490<sup>***</sup></td><td>-0.079<sup>***</sup></td><td></td><td></td><td></td></tr><tr><td style=\"text-align:left\"></td><td>(0.756)</td><td>(0.020)</td><td></td><td></td><td></td></tr><tr><td style=\"text-align:left\">highschool</td><td>-1.144<sup></sup></td><td>-0.135<sup></sup></td><td></td><td></td><td></td></tr><tr><td style=\"text-align:left\"></td><td>(2.708)</td><td>(0.104)</td><td></td><td></td><td></td></tr><tr><td style=\"text-align:left\">log_hhsize</td><td>8.003<sup>***</sup></td><td>0.234<sup>***</sup></td><td></td><td></td><td></td></tr><tr><td style=\"text-align:left\"></td><td>(1.734)</td><td>(0.075)</td><td></td><td></td><td></td></tr><tr><td style=\"text-align:left\">week2</td><td></td><td></td><td>-0.252<sup>*</sup></td><td>-0.509<sup>**</sup></td><td>-0.509<sup>**</sup></td></tr><tr><td style=\"text-align:left\"></td><td></td><td></td><td>(0.141)</td><td>(0.248)</td><td>(0.248)</td></tr><tr><td style=\"text-align:left\">week3</td><td></td><td></td><td>-0.303<sup>**</sup></td><td>-0.981<sup>***</sup></td><td>-0.981<sup>***</sup></td></tr><tr><td style=\"text-align:left\"></td><td></td><td></td><td>(0.139)</td><td>(0.261)</td><td>(0.261)</td></tr><tr><td style=\"text-align:left\">week4</td><td></td><td></td><td>-0.340<sup>**</sup></td><td>-0.642<sup>**</sup></td><td>-0.642<sup>**</sup></td></tr><tr><td style=\"text-align:left\"></td><td></td><td></td><td>(0.147)</td><td>(0.250)</td><td>(0.250)</td></tr><tr><td style=\"text-align:left\">week2:anyvehicle</td><td></td><td></td><td></td><td></td><td>0.257<sup></sup></td></tr><tr><td style=\"text-align:left\"></td><td></td><td></td><td></td><td></td><td>(0.285)</td></tr><tr><td style=\"text-align:left\">week3:anyvehicle</td><td></td><td></td><td></td><td></td><td>0.678<sup>**</sup></td></tr><tr><td style=\"text-align:left\"></td><td></td><td></td><td></td><td></td><td>(0.296)</td></tr><tr><td style=\"text-align:left\">week4:anyvehicle</td><td></td><td></td><td></td><td></td><td>0.301<sup></sup></td></tr><tr><td style=\"text-align:left\"></td><td></td><td></td><td></td><td></td><td>(0.290)</td></tr><td colspan=\"6\" style=\"border-bottom: 1px solid black\"></td></tr><tr><td style=\"text-align: left\">Observations</td><td>1,215</td><td>757</td><td>569</td><td>188</td><td>757</td></tr><tr><td style=\"text-align: left\">R<sup>2</sup></td><td>0.063</td><td>0.055</td><td>0.013</td><td>0.081</td><td>0.034</td></tr><tr><td style=\"text-align: left\">Adjusted R<sup>2</sup></td><td>0.060</td><td>0.049</td><td>0.008</td><td>0.066</td><td>0.025</td></tr><tr><td style=\"text-align: left\">Residual Std. Error</td><td>40.387 (df=1209)</td><td>1.217 (df=751)</td><td>1.232 (df=565)</td><td>1.236 (df=184)</td><td>1.233 (df=749)</td></tr><tr><td style=\"text-align: left\">F Statistic</td><td>8.283<sup>***</sup> (df=5; 1209)</td><td>8.590<sup>***</sup> (df=5; 751)</td><td>2.414<sup>*</sup> (df=3; 565)</td><td>4.918<sup>***</sup> (df=3; 184)</td><td>3.636<sup>***</sup> (df=7; 749)</td></tr><tr><td colspan=\"6\" style=\"border-bottom: 1px solid black\"></td></tr><tr><td style=\"text-align: left\">Note:</td>\n",
       " <td colspan=\"5\" style=\"text-align: right\">\n",
       "  <sup>*</sup>p&lt;0.1;\n",
       "  <sup>**</sup>p&lt;0.05;\n",
       "  <sup>***</sup>p&lt;0.01\n",
       " </td></tr><tr><td></td><td colspan=\"5\" style=\"text-align: right\">The Standard errors reported in parentheses are heteroskedasticity robust (HC2).</td></tr></table>"
      ],
      "text/plain": [
       "<stargazer.stargazer.Stargazer at 0x28230d6f0>"
      ]
     },
     "execution_count": 101,
     "metadata": {},
     "output_type": "execute_result"
    }
   ],
   "source": [
    "table"
   ]
  },
  {
   "cell_type": "markdown",
   "metadata": {},
   "source": [
    "# <hr style=\"height:2.4pt\">\n",
    "\n",
    "### 6\n",
    "\n",
    "Using the regression in column 5, can you reject the null hypothesis the coefficients on `week2` × `anyvehicle`, `week3` × `anyvehicle`, and `week4` × `anyvehicle` are jointly zero?\n",
    "- a) Report your *F* statistic, its *p*-value, the 5% critical value for the test, and number of restrictions for this test.\n",
    "- b) Does the conclusion you draw from the 𝐹 test match the conclusion you would draw from *t*-tests of the significance of the coefficients individually? Explain.\n",
    "- c) Give a qualitative interpretation of what the null hypothesis from the previous question means in words. This is a thinking question."
   ]
  },
  {
   "cell_type": "markdown",
   "metadata": {},
   "source": [
    "# 6a)"
   ]
  },
  {
   "cell_type": "code",
   "execution_count": 138,
   "metadata": {},
   "outputs": [
    {
     "name": "stdout",
     "output_type": "stream",
     "text": [
      "The calculated f-statistic value is 1.7835\n",
      "The calculated p-value using the chi-square function is 0.1479\n",
      "The calculated critical value is 2.6049\n"
     ]
    }
   ],
   "source": [
    "# Your Code Here\n",
    "test_results = res_5.wald_test([\n",
    "    'week2:anyvehicle = 0',\n",
    "    'week3:anyvehicle = 0',\n",
    "    'week4:anyvehicle = 0',\n",
    "], scalar=True, use_f=True)\n",
    "\n",
    "# collect f statistic\n",
    "f_stat = test_results.fvalue\n",
    "print(f'The calculated f-statistic value is {f_stat:.4f}')\n",
    "\n",
    "#collect degrees of freedom\n",
    "df = test_results.df_num\n",
    "\n",
    "# Calculate true p-value\n",
    "true_p = 1 - stats.chi2.cdf(f_stat * df, df)\n",
    "\n",
    "# print(df)\n",
    "print(f'The calculated p-value using the chi-square function is {true_p:.4f}')\n",
    "#Calculate critical value:\n",
    "# note we use 10^10 rather than infinity due to function\n",
    "# constraints\n",
    "INF = 10 ** 10\n",
    "crit_val = stats.f.ppf(.95, df, INF)\n",
    "\n",
    "print(f'The calculated critical value is {crit_val:.4f}')"
   ]
  },
  {
   "cell_type": "markdown",
   "metadata": {},
   "source": [
    "<strong> Answer: </strong> Our calculated f-value is smaller then the critical value, hence we cannot reject the null hypothesis. The number of restrictions is 3."
   ]
  },
  {
   "cell_type": "markdown",
   "metadata": {},
   "source": [
    "# 6b)"
   ]
  },
  {
   "cell_type": "code",
   "execution_count": 140,
   "metadata": {},
   "outputs": [
    {
     "name": "stdout",
     "output_type": "stream",
     "text": [
      "                             Test for Constraints                             \n",
      "==============================================================================\n",
      "                 coef    std err          z      P>|z|      [0.025      0.975]\n",
      "------------------------------------------------------------------------------\n",
      "c0             0.2572      0.285      0.902      0.367      -0.302       0.816\n",
      "c1             0.6783      0.296      2.295      0.022       0.099       1.258\n",
      "c2             0.3013      0.290      1.038      0.299      -0.268       0.870\n",
      "==============================================================================\n"
     ]
    }
   ],
   "source": [
    "t_stat = res_5.t_test([\n",
    "    'week2:anyvehicle = 0',\n",
    "    'week3:anyvehicle = 0',\n",
    "    'week4:anyvehicle = 0',])\n",
    "print(t_stat)"
   ]
  },
  {
   "cell_type": "markdown",
   "metadata": {},
   "source": [
    "<strong> Answer </strong> The t-test statistics for each hypothesis independently of one another suggests to reject the null hypothesis, except for week3:anyvehicle = 0 which it says we cannot reject. This is in contrast to the f-statiscs that considers the joint hypothesis and concludes that we cannot reject the null hypothesis."
   ]
  },
  {
   "cell_type": "markdown",
   "metadata": {},
   "source": [
    "# 6c)"
   ]
  },
  {
   "cell_type": "markdown",
   "metadata": {},
   "source": [
    "<p> Question: Give a qualitative interpretation of what the null hypothesis from the previous question means in words. This is a thinking question. <p><br>\n",
    "\n",
    "<p><strong> Answer: </strong> The null hypothesis stated that the interaction term between the $week_{2}:anyvehicle = 0$ and $week_{3}:anyvehicle = 0$ and $week_{4}:anyvehicle = 0$ is jointly zero. We can qualitatively interpret this as saying that in $week_{2,3,4}$ the difference in spending might differ but respectively is not different depending on whether one owns/leases a vehicle. In other words, if we cannot reject the null hypothesis then that indicates that there is no interaction effect between week and anyvehicle in our estimation. "
   ]
  },
  {
   "cell_type": "markdown",
   "metadata": {},
   "source": [
    "<hr style=\"height:2.4pt\">\n",
    "\n",
    "### 7\n",
    "Suppose a policy maker is considering whether to fund a program that would make vehicles (zip cars) available to families receiving SNAP benefits. The policy maker would like to know if this program would increase spending on food. As we have discussed, policy questions like this are fundamentally “if-then” causal questions. Do you think that the coefficient on `anyvehicle` in column 1 measures the causal effect that the policy maker would want to know? If the coefficient does not measure the causal effect of interest, is the estimated coefficient too big or too small?\n",
    "\n",
    "Hint: provide an example of an omitted variable, then use the omitted variable bias formula and use your knowledge of the world to infer the signs of the inputs to the formula."
   ]
  },
  {
   "cell_type": "code",
   "execution_count": 153,
   "metadata": {},
   "outputs": [
    {
     "name": "stdout",
     "output_type": "stream",
     "text": [
      "eval_env: 1\n"
     ]
    },
    {
     "data": {
      "image/png": "[encoded data removed]",
      "text/plain": [
       "<Figure size 1000x800 with 4 Axes>"
      ]
     },
     "metadata": {},
     "output_type": "display_data"
    }
   ],
   "source": [
    "import statsmodels.api as sm\n",
    "fig = plt.figure(figsize=(10, 8))\n",
    "sm.graphics.plot_regress_exog(res_1, 'log_hhsize', fig=fig)\n",
    "plt.show()"
   ]
  },
  {
   "cell_type": "markdown",
   "metadata": {},
   "source": [
    "In order for us to be able to derive a casual effect form a regression we need conditional mean independence. Meaning that the conditional expectation of our error term does not dependent on our variable of interest anyvehicle, because we control on another variable. We can check for conditional mean independence by looking at the residuals, and if there are no relationships between the residuals and the dependent variable then conditional mean independence is given. Since, there appears to be somewhat of a relationship between log_hhsize and the dependent variable mean conditional independence is not given."
   ]
  },
  {
   "cell_type": "markdown",
   "metadata": {},
   "source": [
    "Lets apply the omitted variable bias formula and think about the effect that including the Distance to food stores would have on our regression. The further away one lifes from a food store such as a grocery store the more time intensive it becomes to get to a grocery store hence people might choose to spend more money on restaurants that are nearby. Following that logic the distance from a food store is negatively correlated with spending. Further, we would imagine that distance from a food store and owning a vehicle are correlated as well. If we were to take those things into account using the omitted variable bias we would conclude that the effect of owning/leasing a vehicle on spending is over estimated in our regression."
   ]
  },
  {
   "cell_type": "markdown",
   "metadata": {},
   "source": [
    "<hr style=\"height:2.4pt\">\n",
    "\n",
    "### Sample Code"
   ]
  },
  {
   "cell_type": "markdown",
   "metadata": {},
   "source": [
    "Adds another column to a dataframe storing the squares of values in the original\n",
    "```python\n",
    "# Note: not using simpler method np.square() due to\n",
    "# integer overflow\n",
    "snap[“x_squared”] = snap.x.astype(int) ** 2\n",
    "```\n",
    "\n",
    "Adds another column to a dataframe storing the natural log of values in the original, replacing infinite values with NaNs.\n",
    "```python\n",
    "snap[“log_x”] = np.log(snap.x).replace(-float(“inf”),\n",
    "np.nan)\n",
    "```\n",
    "\n",
    "Shows how to estimate an ordinary least squares regression with heteroskedasticity robust standard errors. Notice we specify that we wish to drop rows with missing data.\n",
    "```python\n",
    "mod = sm.ols(\n",
    "    “yvar ~ xvar1 + xvar2 + xvar3”,\n",
    "    data=snap,\n",
    "    missing=”drop”\n",
    ")\n",
    "res = mod.fit(cov_type=”HC2”)\n",
    "```\n",
    "\n",
    "Create a new dataframe that is a subset of the rows of the original where the xvar is equal to 5.\n",
    "```python\n",
    "five_df = snap.loc[snap.xvar == 5]\n",
    "```\n",
    "\n",
    "These lines show how to make a regression table with three columns, corresponding to\n",
    "- A regression of some variable yvar1 on xvar1, xvar2, and xvar3\n",
    "- A second regression of yvar1 on just xvar1 and xvar2\n",
    "- A third regression with a different dependent variable regressing yvar2 on xvar2 and xvar3\n",
    "Note we have to label the columns manually here. Also note we add an extra row to the bottom of the table and manually add entries\n",
    "```python\n",
    "# Estimate Regressions:\n",
    "mod1 = sm.ols(\n",
    "    “yvar1 ~ xvar1 + xvar2 + xvar3”,\n",
    "    data=health\n",
    ")\n",
    "res1 = mod.fit(cov_type=”HC2”)\n",
    "\n",
    "mod2 = sm.ols(\n",
    "    “yvar1 ~ xvar1 + xvar2”,\n",
    "    data=health\n",
    ")\n",
    "res2 = mod.fit(cov_type=”HC2”)\n",
    "\n",
    "mod3 = sm.ols(\n",
    "    “yvar2 ~ xvar2 + xvar3”,\n",
    "    data=health\n",
    ")\n",
    "res3 = mod.fit(cov_type=”HC2”)\n",
    "\n",
    "# Create Table\n",
    "table = Stargazer(models)\n",
    "\n",
    "# Label columns\n",
    "# This list of 1s should be the same length as the\n",
    "# number of columns\n",
    "table.custom_columns([“yvar1”, “yvar1”, “yvar2”],\n",
    "seperators=[1, 1, 1])\n",
    "\n",
    "# Add custom row at bottom of table:\n",
    "table.add_line(“Sample:”, [“hello”, “hi”, “hey”])\n",
    "\n",
    "# Display table\n",
    "table\n",
    "```\n",
    "\n",
    "\n",
    "\n",
    "Shows how to access the coefficients and covariance matrix of regression result\n",
    "```python\n",
    "# Access coefficient on xvar1\n",
    "alpha_1 = res.params.xvar1\n",
    "# Access covariance matrix of result\n",
    "cov_matrix = res.cov_params()\n",
    "# Access covariance between xvar1 and xvar2:\n",
    "cov_x1_x2 = cov_matrix.xvar1.xvar2\n",
    "```\n",
    "\n",
    "\n",
    "Shows how to run an F test that variables xvar1, xvar2, and xvar3 are not all 0 on a regression result\n",
    "```python\n",
    "# Run Test\n",
    "test_results = res.wald_test([\n",
    "    “xvar1 = 0”,\n",
    "    “xvar2 = 0”,\n",
    "    “xvar3 = 0”,\n",
    "], scalar=True, use_f=True)\n",
    "\n",
    "# collect f statistic\n",
    "f_stat = test_results.fvalue\n",
    "\n",
    "#collect degrees of freedom\n",
    "df = test_results.df_num\n",
    "Calculate true p-value\n",
    "true_p = 1 – stats.chi2.cdf(fstat * df, df)\n",
    "\n",
    "#Calculate critical value:\n",
    "# note we use 10^10 rather than infinity due to function\n",
    "constraints\n",
    "INF = 10 ** 10\n",
    "crit_val = stats.f.ppf(.95, df, INF)\n",
    "```"
   ]
  }
 ],
 "metadata": {
  "kernelspec": {
   "display_name": "Python 3 (ipykernel)",
   "language": "python",
   "name": "python3"
  },
  "language_info": {
   "codemirror_mode": {
    "name": "ipython",
    "version": 3
   },
   "file_extension": ".py",
   "mimetype": "text/x-python",
   "name": "python",
   "nbconvert_exporter": "python",
   "pygments_lexer": "ipython3",
   "version": "3.10.9"
  },
  "vscode": {
   "interpreter": {
    "hash": "79e5ed05f4768318b64dcf4024aadef9daee7381e42285f5aa40ea96b6adb5f6"
   }
  }
 },
 "nbformat": 4,
 "nbformat_minor": 2
}
