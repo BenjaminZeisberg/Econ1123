{
 "cells": [
  {
   "cell_type": "markdown",
   "metadata": {},
   "source": [
    "## Problem Set 4: Binary Dependent Variables: The Effect of Medical Spending on Infant Mortality\n",
    "\n",
    "**Harvard University**<br/>\n",
    "**Spring 2023**<br/>\n",
    "**Instructor**: Gregory Bruich, Ph.D.\n",
    "\n",
    "- Posted on: 02/14/2023\n",
    "- Due at: 11:59pm on 02/21/2023\n",
    "\n",
    "\n",
    "<hr style=\"height:2.4pt\">"
   ]
  },
  {
   "cell_type": "markdown",
   "metadata": {},
   "source": [
    "### Suggested Imports"
   ]
  },
  {
   "cell_type": "code",
   "execution_count": 1,
   "metadata": {},
   "outputs": [],
   "source": [
    "import pandas as pd\n",
    "import numpy as np\n",
    "import matplotlib\n",
    "import matplotlib.pyplot as plt\n",
    "import statsmodels.formula.api as sm\n",
    "from stargazer.stargazer import Stargazer\n",
    "from scipy.stats import binned_statistic, norm"
   ]
  },
  {
   "cell_type": "code",
   "execution_count": 2,
   "metadata": {},
   "outputs": [],
   "source": [
    "# These functions are used to find the standard errors of the predicted probabilities\n",
    "# from logit and probit functions. They are built using the delta method, but it is\n",
    "# not necessary to undertand exactly how they work. You just need to use the\n",
    "# find_se function yourself.\n",
    "def find_se(res, method):\n",
    "    # Collect coefficient estimates from model\n",
    "    a0 = res.params[0]\n",
    "    a1 = res.params[1]\n",
    "\n",
    "    # Calculate gradient of difference of functions (either logit or probit) at\n",
    "    # the correct values\n",
    "    if method == \"probit\":\n",
    "        gradient = np.array([norm.pdf(a0 + a1) - norm.pdf(a0), norm.pdf(a0 + a1)])\n",
    "    elif method == \"logit\":\n",
    "        gradient = np.array(\n",
    "            [\n",
    "                np.exp(a0 + a1) / (np.exp(a0 + a1) + 1) ** 2\n",
    "                - np.exp(a0) / (np.exp(a0) + 1) ** 2,\n",
    "                np.exp(a0 + a1) / (np.exp(a0 + a1) + 1) ** 2,\n",
    "            ]\n",
    "        )\n",
    "\n",
    "    # Access just the first two rows and columns of the covariance matrix\n",
    "    cov_matrix = res.cov_params().to_numpy()[:, [0, 1]][[0, 1], :]\n",
    "\n",
    "    # Calculate variance and return standard error\n",
    "    variance = gradient.T @ cov_matrix @ gradient\n",
    "    return variance**0.5"
   ]
  },
  {
   "cell_type": "markdown",
   "metadata": {},
   "source": [
    "### Background\n",
    "\n",
    "Low birthweight is associated with many health complications. Babies that are born weighing less than 1,500 grams (just under 3 pounds, 5 ounces) are clinically classified as “very low birth weight” (VLBW). Clinical problems associated with VLBW include hypothermia, hypoglycemia, perinatal asphyxia, respiratory problems, fluid and electrolyte imbalances, hyperbilirubinemia, anemia, impaired nutrition, infection, neurological problems, ophthalmologic complications, and sudden infant death syndrome (SIDS).\n",
    "\n",
    "Because [neonatal intensive care](https://www.massgeneral.org/children/neonatology) has been shown to reduce mortality among infants with VLBW,\n",
    "current standards call for neonatal intensive-care for all infants clinically classified as VLBW. VLBW newborns stay in the hospital longer and undergo more procedures and diagnostic tests. The higher intensity of care results in $4,553 higher hospital charges for babies born just below the 1,500 g birthweight threshold compared with those just above the threshold (Figure 1 below).\n",
    "\n",
    "In this problem set, you will estimate the effect of this additional healthcare spending shown in Figure 1 on an important health outcome: infant mortality. The main outcome variable of interest is a dummy variable for whether the infant died within one year. Because this dependent variable is binary, you will present estimates of this causal effect using linear probability models, probit models, and logit models.\n",
    "\n",
    "**Figure 1: Hospital Charges (in dollars) by Birth Weight (in grams)**\n",
    "\n",
    "![figure1](images/figure1.png)\n",
    "\n",
    "\n",
    "<hr style=\"height:2.4pt\">\n"
   ]
  },
  {
   "cell_type": "markdown",
   "metadata": {},
   "source": [
    "### Data Description\n",
    "**File**: `infantmortality.dta`\n",
    "\n",
    "The data consist of information reported on birth certificates for $n = 194,803$ births. These data were linked to information reported on death certificates for infants who die within one year of birth (Almond, Doyle, Kowalski, and Williams 2010). The sample is restricted to observations with birthweights between 1,415 g and 1,585 g.\n",
    "\n",
    "**Table 1: Definitions of Selected Variables in `infantmortality.dta`**\n",
    "\n",
    "| **Variable** | **Definition**                                                                                                                                                                                                                                     | **Units**                    | **Mean** |\n",
    "| ------------ | -------------------------------------------------------------------------------------------------------------------------------------------------------------------------------------------------------------------------------------------------- | ---------------------------- | -------- |\n",
    "| `gestat`     | Gestational age in weeks.  Gestational age is the term used during pregnancy to describe how far  along the pregnancy is. A normal pregnancy can range from 38 to 42 weeks. Infants born before 37 weeks are clinically classified as “premature.” | Weeks                        | 32.2     |\n",
    "| `birwt`      | Birth weight in grams.  Births with weights below 1,500 grams are clinically classified as “very low birth weight” (VLBW).                                                                                                                         | Grams (g)                    | 1494.8   |\n",
    "| `death1year` | Indicator for infant mortality <br />= 1 if death occurred in less than 1 year<br />= 0 otherwise  | Binary/categorical, 0 or 1 | 0.0567   |\n",
    "\n",
    "*Notes:* Table defines and reports means of the variables included in the dataset.\n",
    "\n",
    "\n",
    "<hr style=\"height:2.4pt\">"
   ]
  },
  {
   "cell_type": "markdown",
   "metadata": {},
   "source": [
    "### Data Load"
   ]
  },
  {
   "cell_type": "code",
   "execution_count": 3,
   "metadata": {},
   "outputs": [
    {
     "data": {
      "text/html": [
       "<div>\n",
       "<style scoped>\n",
       "    .dataframe tbody tr th:only-of-type {\n",
       "        vertical-align: middle;\n",
       "    }\n",
       "\n",
       "    .dataframe tbody tr th {\n",
       "        vertical-align: top;\n",
       "    }\n",
       "\n",
       "    .dataframe thead th {\n",
       "        text-align: right;\n",
       "    }\n",
       "</style>\n",
       "<table border=\"1\" class=\"dataframe\">\n",
       "  <thead>\n",
       "    <tr style=\"text-align: right;\">\n",
       "      <th></th>\n",
       "      <th>gestat</th>\n",
       "      <th>birwt</th>\n",
       "      <th>death1year</th>\n",
       "    </tr>\n",
       "  </thead>\n",
       "  <tbody>\n",
       "    <tr>\n",
       "      <th>0</th>\n",
       "      <td>36</td>\n",
       "      <td>1503</td>\n",
       "      <td>0.0</td>\n",
       "    </tr>\n",
       "    <tr>\n",
       "      <th>1</th>\n",
       "      <td>27</td>\n",
       "      <td>1503</td>\n",
       "      <td>0.0</td>\n",
       "    </tr>\n",
       "    <tr>\n",
       "      <th>2</th>\n",
       "      <td>30</td>\n",
       "      <td>1503</td>\n",
       "      <td>0.0</td>\n",
       "    </tr>\n",
       "    <tr>\n",
       "      <th>3</th>\n",
       "      <td>30</td>\n",
       "      <td>1503</td>\n",
       "      <td>0.0</td>\n",
       "    </tr>\n",
       "    <tr>\n",
       "      <th>4</th>\n",
       "      <td>36</td>\n",
       "      <td>1503</td>\n",
       "      <td>0.0</td>\n",
       "    </tr>\n",
       "  </tbody>\n",
       "</table>\n",
       "</div>"
      ],
      "text/plain": [
       "   gestat  birwt  death1year\n",
       "0      36   1503         0.0\n",
       "1      27   1503         0.0\n",
       "2      30   1503         0.0\n",
       "3      30   1503         0.0\n",
       "4      36   1503         0.0"
      ]
     },
     "execution_count": 3,
     "metadata": {},
     "output_type": "execute_result"
    }
   ],
   "source": [
    "# Read dataset into a pandas dataframe\n",
    "data = pd.read_stata(\"infantmortality.dta\")\n",
    "\n",
    "# Display first 5 rows of data\n",
    "data.head()"
   ]
  },
  {
   "cell_type": "markdown",
   "metadata": {},
   "source": [
    "<hr style=\"height:2.4pt\">\n",
    "\n",
    "### Instructions\n",
    "\n",
    "Please submit your Problem Set on Canvas. Your submission should include two files:\n",
    "1. This notebook as a `.ipynb` file with your code and answers to questions\n",
    "2. A `.pdf` version of this notebook\n",
    "\n",
    "<hr style=\"height:2.4pt\">"
   ]
  },
  {
   "cell_type": "markdown",
   "metadata": {},
   "source": [
    "### Questions\n",
    "\n",
    "*Note: Short answers should be very succinct. Show your work and intuition clearly: credit is given for explanations and not just having the correct answer*"
   ]
  },
  {
   "cell_type": "markdown",
   "metadata": {},
   "source": [
    "### 1\n",
    "\n",
    "Produce your own tables using stargazer corresponding to Table 3 with all the entries filled in. (The goal here is to save you time and improve your quality of life; if you cannot figure out how to get the predicted probabilities into the table, it is fine to put them in their own separate table.) Hint: you must generate the dummy variable for $birwt \\geq 1500$ yourself. See code below"
   ]
  },
  {
   "cell_type": "code",
   "execution_count": 59,
   "metadata": {},
   "outputs": [
    {
     "name": "stdout",
     "output_type": "stream",
     "text": [
      "We find 103047 Observations of babies who weigh above or equal to 1500g and 91756 that weigh less then 1500g.\n"
     ]
    }
   ],
   "source": [
    "# First we need to create the dummy variable for birwt >= 1500\n",
    "data['birwt_above_1500'] = data['birwt'].apply(lambda x: 1 if x >= 1500 else 0)\n",
    "# data['birwt_above_1500'] = (data.birwt >=1500).astype(int)\n",
    "# data['birwt>=1500'].value_counts()\n",
    "print('We find 103047 Observations of babies who weigh above or equal to 1500g and 91756 that weigh less then 1500g.')"
   ]
  },
  {
   "cell_type": "code",
   "execution_count": 60,
   "metadata": {},
   "outputs": [],
   "source": [
    "# create dataframe with data we want to predict:\n",
    "cases = pd.DataFrame({\n",
    "    'birwt>=1500': [0],\n",
    "})\n",
    "# use result to predict based on dataframe\n",
    "# predictions = res.predict(cases[“xvar1”, “xvar2”])"
   ]
  },
  {
   "cell_type": "code",
   "execution_count": 71,
   "metadata": {
    "scrolled": false
   },
   "outputs": [
    {
     "data": {
      "text/html": [
       "<table style=\"text-align:center\"><tr><td colspan=\"4\" style=\"border-bottom: 1px solid black\"></td></tr><tr><td style=\"text-align:left\"></td><td colspan=\"3\"><em>Dependent variable:death1year</em></td></tr><tr><td style=\"text-align:left\"></td><tr><td></td><td colspan=\"1\">OLS</td><td colspan=\"1\">Probit</td><td colspan=\"1\">Logit</td></tr><tr><td style=\"text-align:left\"></td><td>(1)</td><td>(2)</td><td>(3)</td></tr><tr><td colspan=\"4\" style=\"border-bottom: 1px solid black\"></td></tr><tr><td style=\"text-align:left\">Intercept</td><td>0.060<sup>***</sup></td><td>-1.559<sup>***</sup></td><td>-2.760<sup>***</sup></td></tr><tr><td style=\"text-align:left\"></td><td>(0.001)</td><td>(0.007)</td><td>(0.014)</td></tr><tr><td style=\"text-align:left\">birwt_above_1500</td><td>-0.005<sup>***</sup></td><td>-0.046<sup>***</sup></td><td>-0.097<sup>***</sup></td></tr><tr><td style=\"text-align:left\"></td><td>(0.001)</td><td>(0.009)</td><td>(0.020)</td></tr><tr><td style=\"text-align: left\">Non-VLBW (birwt>=1500g)</td><td>0.05429561268157783</td><td>0.05429561268159282</td><td>0.05429561268159282</td></tr><tr><td style=\"text-align: left\">VLBW (birwt<1500g)</td><td>0.059505645407403066</td><td>0.05950564540738537</td><td>0.05950564540738537</td></tr><tr><td style=\"text-align: left\">Difference(Non-VLBW - VLBW)</td><td>0.005210032725825237</td><td>0.005210032725792554</td><td>0.005210032725792554</td></tr><td colspan=\"4\" style=\"border-bottom: 1px solid black\"></td></tr><tr><td style=\"text-align: left\">Observations</td><td>194,803</td><td>194,803</td><td>194,803</td></tr><tr><td style=\"text-align: left\">R<sup>2</sup></td><td>0.000</td><td></td><td></td></tr><tr><td style=\"text-align: left\">Adjusted R<sup>2</sup></td><td>0.000</td><td></td><td></td></tr><tr><td style=\"text-align: left\">Residual Std. Error</td><td>0.231 (df=194801)</td><td>1.000 (df=194801)</td><td>1.000 (df=194801)</td></tr><tr><td style=\"text-align: left\">F Statistic</td><td>24.493<sup>***</sup> (df=1; 194801)</td><td><sup></sup> (df=1; 194801)</td><td><sup></sup> (df=1; 194801)</td></tr><tr><td colspan=\"4\" style=\"border-bottom: 1px solid black\"></td></tr><tr><td style=\"text-align: left\">Note:</td>\n",
       " <td colspan=\"3\" style=\"text-align: right\">\n",
       "  <sup>*</sup>p&lt;0.1;\n",
       "  <sup>**</sup>p&lt;0.05;\n",
       "  <sup>***</sup>p&lt;0.01\n",
       " </td></tr><tr><td></td><td colspan=\"3\" style=\"text-align: right\">The Standard errors reported in parentheses are heteroskedasticity robust (HC2).</td></tr></table>"
      ],
      "text/plain": [
       "<stargazer.stargazer.Stargazer at 0x289e1c7c0>"
      ]
     },
     "execution_count": 71,
     "metadata": {},
     "output_type": "execute_result"
    }
   ],
   "source": [
    "# Your Code Here\n",
    "lm = sm.ols('death1year ~ birwt_above_1500', data=data)\n",
    "res_lm = lm.fit(cov_type='HC2', disp=0)\n",
    "# print(res_lm.params)\n",
    "# cases = pd.DataFrame(cases['birwt>=1500'])\n",
    "prob_non = res_lm.predict({'birwt_above_1500': [1]})\n",
    "prob_below = res_lm.predict({'birwt_above_1500': [0]})\n",
    "dif_lm = float(prob_below - prob_non)\n",
    "\n",
    "probit = sm.probit('death1year ~ birwt_above_1500', data=data)\n",
    "res_probit = probit.fit(cov_type='HC2', disp=0)\n",
    "prob_pro_non = res_probit.predict({'birwt_above_1500': [1]})\n",
    "prob_pro_below = res_probit.predict({'birwt_above_1500': [0]})\n",
    "dif_pro = float(prob_pro_below - prob_pro_non)\n",
    "\n",
    "logit = sm.logit('death1year ~ birwt_above_1500', data=data)\n",
    "res_logit = logit.fit(cov_type='HC2', disp=0)\n",
    "dif_logit = (res_probit.params[1] + res_probit.params[0]) - res_probit.params[1]\n",
    "prob_log_non = res_probit.predict({'birwt_above_1500': [1]})\n",
    "prob_log_below = res_probit.predict({'birwt_above_1500': [0]})\n",
    "dif_log = float(prob_log_below - prob_log_non)\n",
    "\n",
    "models = [res_lm, res_probit, res_logit]\n",
    "table = Stargazer(models=models)\n",
    "table.custom_columns(['OLS', 'Probit', 'Logit'], [1, 1, 1])\n",
    "table.add_line('Non-VLBW (birwt>=1500g)', [float(prob_non), float(prob_pro_non), float(prob_log_non)])\n",
    "table.add_line('VLBW (birwt<1500g)', [float(prob_below), float(prob_pro_below), float(prob_log_below)])\n",
    "table.add_line('Difference(Non-VLBW - VLBW)',[dif_lm, dif_pro, dif_log])\n",
    "# table.add_line('Difference',[dif_lm, dif_pro, dif_logit],)\n",
    "table.add_custom_notes([\"The Standard errors reported in parentheses are heteroskedasticity robust (HC2).\"])\n",
    "table"
   ]
  },
  {
   "cell_type": "markdown",
   "metadata": {},
   "source": [
    "<hr style=\"height:2.4pt\">\n",
    "\n",
    "### 2\n",
    "\n",
    "Interpret the intercept in the regression in column 1 of Table 3 in words."
   ]
  },
  {
   "cell_type": "markdown",
   "metadata": {},
   "source": [
    "The OLS regression predicts that the probability of dying for a baby that weighs above or equal to 1500g is 0.0543 and for a baby that weighs less then 1500g the probability is 0.0595."
   ]
  },
  {
   "cell_type": "markdown",
   "metadata": {},
   "source": [
    "<hr style=\"height:2.4pt\">\n",
    "\n",
    "### 3\n",
    "Based on column 1 of Table 3, what is the difference between the overall mortality rate for\n",
    "VLBW and non-VLBW births? Which group has a higher overall mortality rate?"
   ]
  },
  {
   "cell_type": "code",
   "execution_count": 11,
   "metadata": {},
   "outputs": [
    {
     "data": {
      "text/plain": [
       "Intercept                0.059506\n",
       "birwt >= 1500[T.True]   -0.005210\n",
       "dtype: float64"
      ]
     },
     "execution_count": 11,
     "metadata": {},
     "output_type": "execute_result"
    }
   ],
   "source": [
    "res_lm.params"
   ]
  },
  {
   "cell_type": "markdown",
   "metadata": {},
   "source": [
    "VLBW babies have a higher mortality rate, since all coeffiecients of birthweight being greater then 1500g result in a lower probability of death."
   ]
  },
  {
   "cell_type": "markdown",
   "metadata": {},
   "source": [
    "<hr style=\"height:2.4pt\">\n",
    "\n",
    "### 4\n",
    "Consider columns 1, 2, and 3 of Table 3. Do the predicted effects and predicted\n",
    "probabilities of death differ depending on which column is used to calculate them? (A\n",
    "“Yes they differ” or “No they are exactly the same” would suffice. You can save your\n",
    "explanation of why for question 8.)"
   ]
  },
  {
   "cell_type": "markdown",
   "metadata": {},
   "source": [
    "No they are exactly the same."
   ]
  },
  {
   "cell_type": "markdown",
   "metadata": {},
   "source": [
    "<hr style=\"height:2.4pt\">\n",
    "\n",
    "### 5\n",
    "\n",
    "My goal is to estimate the causal effect of the additional treatment and spending that very low birthweight infants receive (shown in Figure 1). I want to know whether the extra spending (shown to the left of the line in the graph) actually improves health outcomes.\n",
    "\n",
    "One way to try to answer this question is simply to compare mortality rates for VLBW infants (who receive the extra spending) with non-VLBW infants (who do not receive the extra spending). That comparison is what columns 1, 2, and 3 of Table 3 measure. \n",
    "\n",
    "However, this contrast is not likely to measure the causal effect that I am interested in. Provide an example of an omitted variable to illustrate the problem. Use the omitted variable bias formula and your knowledge of the world to infer the signs of the inputs, concluding with an assessment of how the differences in columns 1, 2, and 3 of Table 3 relate to the causal effect I am interested in."
   ]
  },
  {
   "cell_type": "markdown",
   "metadata": {},
   "source": [
    "Isn't the casaul inference we are interested in the difference between VLBW infants who receive extra spending and those VLBW infants that don't receive extra spending?\n",
    "\n",
    "Ideas:\n",
    "- medical facilities\n",
    "- nutrition levels\n",
    "- geostat"
   ]
  },
  {
   "cell_type": "markdown",
   "metadata": {},
   "source": [
    "<hr style=\"height:2.4pt\">\n",
    "\n",
    "### 6\n",
    "\n",
    "Produce your own tables using stargazer corresponding to Table 4 with all the entries filled in. (The goal here is to save you time and improve\n",
    "your quality of life; if you cannot figure out how to get the predicted probabilities into the table, it is fine to put them in their own separate table.)\n",
    "\n",
    "You’ll have to generate new variables that equal $birwt-1500$, $(birwt-1500)^2$, and the interaction between these variables and the dummy variable for $birwt \\geq 1500$.\n",
    "\n",
    "Unlike Table 3, here I ask for standard errors for the differences in predicted probabilities in the last row of the table. For columns 3-6, use `nlcom` or `deltamethod` to calculate standard errors for the differences in predicted probabilities."
   ]
  },
  {
   "cell_type": "code",
   "execution_count": 72,
   "metadata": {},
   "outputs": [
    {
     "data": {
      "text/html": [
       "<div>\n",
       "<style scoped>\n",
       "    .dataframe tbody tr th:only-of-type {\n",
       "        vertical-align: middle;\n",
       "    }\n",
       "\n",
       "    .dataframe tbody tr th {\n",
       "        vertical-align: top;\n",
       "    }\n",
       "\n",
       "    .dataframe thead th {\n",
       "        text-align: right;\n",
       "    }\n",
       "</style>\n",
       "<table border=\"1\" class=\"dataframe\">\n",
       "  <thead>\n",
       "    <tr style=\"text-align: right;\">\n",
       "      <th></th>\n",
       "      <th>gestat</th>\n",
       "      <th>birwt</th>\n",
       "      <th>death1year</th>\n",
       "      <th>birwt&gt;=1500</th>\n",
       "      <th>birwt_1500</th>\n",
       "      <th>birwt_1500_squared</th>\n",
       "      <th>birwt_above_1500</th>\n",
       "    </tr>\n",
       "  </thead>\n",
       "  <tbody>\n",
       "    <tr>\n",
       "      <th>0</th>\n",
       "      <td>36</td>\n",
       "      <td>1503</td>\n",
       "      <td>0.0</td>\n",
       "      <td>1</td>\n",
       "      <td>3</td>\n",
       "      <td>9</td>\n",
       "      <td>1</td>\n",
       "    </tr>\n",
       "    <tr>\n",
       "      <th>1</th>\n",
       "      <td>27</td>\n",
       "      <td>1503</td>\n",
       "      <td>0.0</td>\n",
       "      <td>1</td>\n",
       "      <td>3</td>\n",
       "      <td>9</td>\n",
       "      <td>1</td>\n",
       "    </tr>\n",
       "    <tr>\n",
       "      <th>2</th>\n",
       "      <td>30</td>\n",
       "      <td>1503</td>\n",
       "      <td>0.0</td>\n",
       "      <td>1</td>\n",
       "      <td>3</td>\n",
       "      <td>9</td>\n",
       "      <td>1</td>\n",
       "    </tr>\n",
       "    <tr>\n",
       "      <th>3</th>\n",
       "      <td>30</td>\n",
       "      <td>1503</td>\n",
       "      <td>0.0</td>\n",
       "      <td>1</td>\n",
       "      <td>3</td>\n",
       "      <td>9</td>\n",
       "      <td>1</td>\n",
       "    </tr>\n",
       "    <tr>\n",
       "      <th>4</th>\n",
       "      <td>36</td>\n",
       "      <td>1503</td>\n",
       "      <td>0.0</td>\n",
       "      <td>1</td>\n",
       "      <td>3</td>\n",
       "      <td>9</td>\n",
       "      <td>1</td>\n",
       "    </tr>\n",
       "    <tr>\n",
       "      <th>...</th>\n",
       "      <td>...</td>\n",
       "      <td>...</td>\n",
       "      <td>...</td>\n",
       "      <td>...</td>\n",
       "      <td>...</td>\n",
       "      <td>...</td>\n",
       "      <td>...</td>\n",
       "    </tr>\n",
       "    <tr>\n",
       "      <th>194798</th>\n",
       "      <td>33</td>\n",
       "      <td>1418</td>\n",
       "      <td>0.0</td>\n",
       "      <td>0</td>\n",
       "      <td>-82</td>\n",
       "      <td>6724</td>\n",
       "      <td>0</td>\n",
       "    </tr>\n",
       "    <tr>\n",
       "      <th>194799</th>\n",
       "      <td>32</td>\n",
       "      <td>1418</td>\n",
       "      <td>0.0</td>\n",
       "      <td>0</td>\n",
       "      <td>-82</td>\n",
       "      <td>6724</td>\n",
       "      <td>0</td>\n",
       "    </tr>\n",
       "    <tr>\n",
       "      <th>194800</th>\n",
       "      <td>34</td>\n",
       "      <td>1418</td>\n",
       "      <td>0.0</td>\n",
       "      <td>0</td>\n",
       "      <td>-82</td>\n",
       "      <td>6724</td>\n",
       "      <td>0</td>\n",
       "    </tr>\n",
       "    <tr>\n",
       "      <th>194801</th>\n",
       "      <td>29</td>\n",
       "      <td>1418</td>\n",
       "      <td>0.0</td>\n",
       "      <td>0</td>\n",
       "      <td>-82</td>\n",
       "      <td>6724</td>\n",
       "      <td>0</td>\n",
       "    </tr>\n",
       "    <tr>\n",
       "      <th>194802</th>\n",
       "      <td>30</td>\n",
       "      <td>1417</td>\n",
       "      <td>0.0</td>\n",
       "      <td>0</td>\n",
       "      <td>-83</td>\n",
       "      <td>6889</td>\n",
       "      <td>0</td>\n",
       "    </tr>\n",
       "  </tbody>\n",
       "</table>\n",
       "<p>194803 rows × 7 columns</p>\n",
       "</div>"
      ],
      "text/plain": [
       "        gestat  birwt  death1year  birwt>=1500  birwt_1500  \\\n",
       "0           36   1503         0.0            1           3   \n",
       "1           27   1503         0.0            1           3   \n",
       "2           30   1503         0.0            1           3   \n",
       "3           30   1503         0.0            1           3   \n",
       "4           36   1503         0.0            1           3   \n",
       "...        ...    ...         ...          ...         ...   \n",
       "194798      33   1418         0.0            0         -82   \n",
       "194799      32   1418         0.0            0         -82   \n",
       "194800      34   1418         0.0            0         -82   \n",
       "194801      29   1418         0.0            0         -82   \n",
       "194802      30   1417         0.0            0         -83   \n",
       "\n",
       "        birwt_1500_squared  birwt_above_1500  \n",
       "0                        9                 1  \n",
       "1                        9                 1  \n",
       "2                        9                 1  \n",
       "3                        9                 1  \n",
       "4                        9                 1  \n",
       "...                    ...               ...  \n",
       "194798                6724                 0  \n",
       "194799                6724                 0  \n",
       "194800                6724                 0  \n",
       "194801                6724                 0  \n",
       "194802                6889                 0  \n",
       "\n",
       "[194803 rows x 7 columns]"
      ]
     },
     "execution_count": 72,
     "metadata": {},
     "output_type": "execute_result"
    }
   ],
   "source": [
    "data"
   ]
  },
  {
   "cell_type": "code",
   "execution_count": 14,
   "metadata": {},
   "outputs": [
    {
     "data": {
      "text/html": [
       "<table style=\"text-align:center\"><tr><td colspan=\"7\" style=\"border-bottom: 1px solid black\"></td></tr><tr><td style=\"text-align:left\"></td><td colspan=\"6\"><em>Dependent variable:death1year</em></td></tr><tr><td style=\"text-align:left\"></td><tr><td></td><td colspan=\"1\">OlS(Linear)</td><td colspan=\"1\">OLS(Quadratic)</td><td colspan=\"1\">Probit(Linear)</td><td colspan=\"1\">Probit(Quadratic)</td><td colspan=\"1\">Logit(Linear)</td><td colspan=\"1\">Logit(Quadratic)</td></tr><tr><td style=\"text-align:left\"></td><td>(1)</td><td>(2)</td><td>(3)</td><td>(4)</td><td>(5)</td><td>(6)</td></tr><tr><td colspan=\"7\" style=\"border-bottom: 1px solid black\"></td></tr><tr><td style=\"text-align:left\">birwt >= 1500[T.True]</td><td>0.009<sup>***</sup></td><td>0.011<sup>***</sup></td><td>0.079<sup>***</sup></td><td>0.097<sup>***</sup></td><td>0.168<sup>***</sup></td><td>0.206<sup>***</sup></td></tr><tr><td style=\"text-align:left\"></td><td>(0.002)</td><td>(0.003)</td><td>(0.019)</td><td>(0.030)</td><td>(0.040)</td><td>(0.064)</td></tr><tr><td style=\"text-align:left\">birwt_1500</td><td>-0.000<sup>***</sup></td><td>-0.000<sup></sup></td><td>-0.001<sup>***</sup></td><td>-0.001<sup></sup></td><td>-0.003<sup>***</sup></td><td>-0.003<sup></sup></td></tr><tr><td style=\"text-align:left\"></td><td>(0.000)</td><td>(0.000)</td><td>(0.000)</td><td>(0.001)</td><td>(0.001)</td><td>(0.002)</td></tr><tr><td style=\"text-align:left\">birwt >= 1500[T.True]:birwt_1500</td><td>-0.000<sup></sup></td><td>-0.000<sup></sup></td><td>-0.001<sup></sup></td><td>-0.002<sup></sup></td><td>-0.001<sup>*</sup></td><td>-0.004<sup></sup></td></tr><tr><td style=\"text-align:left\"></td><td>(0.000)</td><td>(0.000)</td><td>(0.000)</td><td>(0.002)</td><td>(0.001)</td><td>(0.003)</td></tr><tr><td style=\"text-align:left\">birwt_1500_squared</td><td></td><td>0.000<sup></sup></td><td></td><td>0.000<sup></sup></td><td></td><td>0.000<sup></sup></td></tr><tr><td style=\"text-align:left\"></td><td></td><td>(0.000)</td><td></td><td>(0.000)</td><td></td><td>(0.000)</td></tr><tr><td style=\"text-align:left\">birwt_1500_squared:birwt_1500</td><td></td><td>0.000<sup></sup></td><td></td><td>0.000<sup></sup></td><td></td><td>0.000<sup></sup></td></tr><tr><td style=\"text-align:left\"></td><td></td><td>(0.000)</td><td></td><td>(0.000)</td><td></td><td>(0.000)</td></tr><tr><td style=\"text-align:left\">Intercept</td><td>0.052<sup>***</sup></td><td>0.052<sup>***</sup></td><td>-1.621<sup>***</sup></td><td>-1.628<sup>***</sup></td><td>-2.892<sup>***</sup></td><td>-2.906<sup>***</sup></td></tr><tr><td style=\"text-align:left\"></td><td>(0.002)</td><td>(0.003)</td><td>(0.016)</td><td>(0.029)</td><td>(0.033)</td><td>(0.061)</td></tr><tr><td style=\"text-align: left\">Standard Errors</td><td>0</td><td>0.0001340061144634629</td><td>0.0021285582658194225</td><td>0.0032857864988760726</td><td>0.002120537005407284</td><td>0.0032486123688371255</td></tr><td colspan=\"7\" style=\"border-bottom: 1px solid black\"></td></tr><tr><td style=\"text-align: left\">Observations</td><td>194,803</td><td>194,803</td><td>194,803</td><td>194,803</td><td>194,803</td><td>194,803</td></tr><tr><td style=\"text-align: left\">R<sup>2</sup></td><td>0.000</td><td>0.000</td><td></td><td></td><td></td><td></td></tr><tr><td style=\"text-align: left\">Adjusted R<sup>2</sup></td><td>0.000</td><td>0.000</td><td></td><td></td><td></td><td></td></tr><tr><td style=\"text-align: left\">Residual Std. Error</td><td>0.231 (df=194799)</td><td>0.231 (df=194797)</td><td>1.000 (df=194799)</td><td>1.000 (df=194797)</td><td>1.000 (df=194799)</td><td>1.000 (df=194797)</td></tr><tr><td style=\"text-align: left\">F Statistic</td><td>31.685<sup>***</sup> (df=3; 194799)</td><td>19.459<sup>***</sup> (df=5; 194797)</td><td><sup></sup> (df=3; 194799)</td><td><sup></sup> (df=5; 194797)</td><td><sup></sup> (df=3; 194799)</td><td><sup></sup> (df=5; 194797)</td></tr><tr><td colspan=\"7\" style=\"border-bottom: 1px solid black\"></td></tr><tr><td style=\"text-align: left\">Note:</td>\n",
       " <td colspan=\"6\" style=\"text-align: right\">\n",
       "  <sup>*</sup>p&lt;0.1;\n",
       "  <sup>**</sup>p&lt;0.05;\n",
       "  <sup>***</sup>p&lt;0.01\n",
       " </td></tr><tr><td></td><td colspan=\"6\" style=\"text-align: right\">The Standard errors reported in parentheses are heteroskedasticity robust (HC2).</td></tr></table>"
      ],
      "text/plain": [
       "<stargazer.stargazer.Stargazer at 0x14d087310>"
      ]
     },
     "execution_count": 14,
     "metadata": {},
     "output_type": "execute_result"
    }
   ],
   "source": [
    "# Your Code Here\n",
    "data['birwt_1500'] = data['birwt'].apply(lambda x: x - 1500)\n",
    "data['birwt_1500_squared'] = data['birwt_1500'].apply(lambda x: np.square(x))\n",
    "\n",
    "lm_ols_linear = sm.ols('death1year ~ birwt>=1500*birwt_1500', data=data)\n",
    "res_ols_linear = lm_ols_linear.fit(cov_type='HC2', disp=0)\n",
    "\n",
    "lm_ols_quadratic = sm.ols('death1year ~ birwt>=1500*birwt_1500 + birwt_1500_squared*birwt_1500', data=data)\n",
    "res_ols_quadratic = lm_ols_quadratic.fit(cov_type='HC2', disp=0)\n",
    "\n",
    "probit_linear = sm.probit('death1year ~ birwt>=1500*birwt_1500', data=data)\n",
    "res_probit_linear = probit_linear.fit(cov_type='HC2', disp=0)\n",
    "\n",
    "probit_quadratic = sm.probit('death1year ~ birwt>=1500*birwt_1500 + birwt_1500_squared*birwt_1500', data=data)\n",
    "res_probit_quadratic = probit_quadratic.fit(cov_type='HC2', disp=0)\n",
    "\n",
    "logit_linear = sm.logit('death1year ~ birwt>=1500*birwt_1500', data=data)\n",
    "res_logit_linear = logit_linear.fit(cov_type='HC2', disp=0)\n",
    "\n",
    "logit_quadratic = sm.logit('death1year ~ birwt>=1500*birwt_1500 + birwt_1500_squared*birwt_1500', data=data)\n",
    "res_logit_quadratic = logit_quadratic.fit(cov_type='HC2', disp=0)\n",
    "\n",
    "# Let's get the standard errors\n",
    "probit_linear_se = find_se(res_probit_linear, 'probit')\n",
    "probit_quadratic_se = find_se(res_probit_quadratic, 'probit')\n",
    "logit_linear_se = find_se(res_logit_linear, 'logit')\n",
    "logit_quadratic_se = find_se(res_logit_quadratic, 'logit')\n",
    "\n",
    "# Let's get the standard error for OLS Linear\n",
    "# var_beta_1 = (res_ols_quadratic.bse['birwt_1500'])**2\n",
    "# var_beta_2 = (res_ols_quadratic.bse['birwt_1500_squared'])**2\n",
    "# cov_matrix = res_ols_quadratic.cov_params()\n",
    "# cov_beta_1_beta_2 = cov_matrix.birwt_1500.birwt_1500_squared\n",
    "\n",
    "# var = var_beta_1 + (3**2) * var_beta_2 + 2*3*cov_beta_1_beta_2\n",
    "# ols_quadratic_se = np.sqrt(var)\n",
    "\n",
    "models = [res_ols_linear, res_ols_quadratic, res_probit_linear, res_probit_quadratic, res_logit_linear, res_logit_quadratic]\n",
    "table_2 = Stargazer(models)\n",
    "table_2.custom_columns(['OlS(Linear)', 'OLS(Quadratic)', 'Probit(Linear)', 'Probit(Quadratic)', 'Logit(Linear)', 'Logit(Quadratic)'], [1, 1, 1, 1, 1, 1])\n",
    "table_2.covariate_order(['birwt >= 1500[T.True]', 'birwt_1500', 'birwt >= 1500[T.True]:birwt_1500', 'birwt_1500_squared', 'birwt_1500_squared:birwt_1500', 'Intercept'])\n",
    "table_2.add_custom_notes([\"The Standard errors reported in parentheses are heteroskedasticity robust (HC2).\"])\n",
    "table_2.add_line('Standard Errors',[0, ols_quadratic_se, probit_linear_se, probit_quadratic_se, logit_linear_se, logit_quadratic_se],)\n",
    "table.significant_digits(6)\n",
    "table_2"
   ]
  },
  {
   "cell_type": "markdown",
   "metadata": {},
   "source": [
    "<hr style=\"height:2.4pt\">\n",
    "\n",
    "### 7\n",
    "\n",
    "To give some further intuition about how we estimate the discontinuity at the threshold in a regression discontinuity design, please do the following:\n",
    "- a) Estimate a regression of $death1year$ on $birwt$ using data with $birwt < 1500$. Use your regression to compute a predicted value for $death1year$ at the threshold of 1500.\n",
    "- b) Estimate a regression of $death1year$ on $birwt$ using data with $birwt \\geq 1500$. Use your regression to compute a predicted value for $death1year$ at the threshold of 1500.\n",
    "- c) Compare the difference in (a) and (b) with the coefficient reported in column 1 of Table 4"
   ]
  },
  {
   "cell_type": "markdown",
   "metadata": {},
   "source": [
    "## 7a)"
   ]
  },
  {
   "cell_type": "code",
   "execution_count": 75,
   "metadata": {},
   "outputs": [
    {
     "name": "stdout",
     "output_type": "stream",
     "text": [
      "The predicted value at the threshold of 1500 using the reg of death1year on birwt with data birwt < 1500 is: 0.0522\n"
     ]
    }
   ],
   "source": [
    "data_below = data.loc[data['birwt'] < 1500]\n",
    "data_above = data.loc[data['birwt'] >= 1500]\n",
    "\n",
    "reg_lin_below = sm.ols('death1year ~ birwt', data=data_below)\n",
    "res_lin_below = reg_lin_below.fit(cov_type='HC2', disp=0)\n",
    "\n",
    "pred_below = res_lin_below.predict({'birwt':[1500]})\n",
    "pred_below\n",
    "\n",
    "print(f'The predicted value at the threshold of 1500 using the reg of death1year on birwt with data birwt < 1500 is: {pred_below[0]:.4f}')\n"
   ]
  },
  {
   "cell_type": "markdown",
   "metadata": {},
   "source": [
    "## 7b)"
   ]
  },
  {
   "cell_type": "code",
   "execution_count": 60,
   "metadata": {},
   "outputs": [
    {
     "name": "stdout",
     "output_type": "stream",
     "text": [
      "The predicted value at the threshold of 1500 using the reg of death1year on birwt with data birwt >= 1500 is: 0.0613\n"
     ]
    }
   ],
   "source": [
    "reg_lin_above = sm.ols('death1year ~ birwt', data=data_above)\n",
    "res_lin_above = reg_lin_above.fit(cov_type='HC2', disp=0)\n",
    "\n",
    "pred_above = res_lin_above.predict({'birwt':[1500]})\n",
    "\n",
    "print(f'The predicted value at the threshold of 1500 using the reg of death1year on birwt with data birwt >= 1500 is: {pred_above[0]:.4f}')"
   ]
  },
  {
   "cell_type": "markdown",
   "metadata": {},
   "source": [
    "## Extra\n",
    "Lets visualize this to better see whats going on :)"
   ]
  },
  {
   "cell_type": "code",
   "execution_count": 61,
   "metadata": {},
   "outputs": [
    {
     "data": {
      "text/plain": [
       "<AxesSubplot:xlabel='birwt', ylabel='death1year'>"
      ]
     },
     "execution_count": 61,
     "metadata": {},
     "output_type": "execute_result"
    },
    {
     "data": {
      "image/png": "[encoded data removed]",
      "text/plain": [
       "<Figure size 640x480 with 1 Axes>"
      ]
     },
     "metadata": {},
     "output_type": "display_data"
    }
   ],
   "source": [
    "import seaborn as sns\n",
    "\n",
    "sns.regplot(x='birwt', y='death1year', data=data_above)\n",
    "sns.regplot(x='birwt', y='death1year', data=data_below)\n",
    "plt.title('Plotted Regression lines')"
   ]
  },
  {
   "cell_type": "markdown",
   "metadata": {},
   "source": [
    "## 7c)"
   ]
  },
  {
   "cell_type": "code",
   "execution_count": 63,
   "metadata": {},
   "outputs": [
    {
     "data": {
      "text/html": [
       "<table style=\"text-align:center\"><tr><td colspan=\"7\" style=\"border-bottom: 1px solid black\"></td></tr><tr><td style=\"text-align:left\"></td><td colspan=\"6\"><em>Dependent variable:death1year</em></td></tr><tr><td style=\"text-align:left\"></td><tr><td></td><td colspan=\"1\">OlS(Linear)</td><td colspan=\"1\">OLS(Quadratic)</td><td colspan=\"1\">Probit(Linear)</td><td colspan=\"1\">Probit(Quadratic)</td><td colspan=\"1\">Logit(Linear)</td><td colspan=\"1\">Logit(Quadratic)</td></tr><tr><td style=\"text-align:left\"></td><td>(1)</td><td>(2)</td><td>(3)</td><td>(4)</td><td>(5)</td><td>(6)</td></tr><tr><td colspan=\"7\" style=\"border-bottom: 1px solid black\"></td></tr><tr><td style=\"text-align:left\">birwt >= 1500[T.True]</td><td>0.009<sup>***</sup></td><td>0.011<sup>***</sup></td><td>0.079<sup>***</sup></td><td>0.097<sup>***</sup></td><td>0.168<sup>***</sup></td><td>0.206<sup>***</sup></td></tr><tr><td style=\"text-align:left\"></td><td>(0.002)</td><td>(0.003)</td><td>(0.019)</td><td>(0.030)</td><td>(0.040)</td><td>(0.064)</td></tr><tr><td style=\"text-align:left\">birwt_1500</td><td>-0.000<sup>***</sup></td><td>-0.000<sup></sup></td><td>-0.001<sup>***</sup></td><td>-0.001<sup></sup></td><td>-0.003<sup>***</sup></td><td>-0.003<sup></sup></td></tr><tr><td style=\"text-align:left\"></td><td>(0.000)</td><td>(0.000)</td><td>(0.000)</td><td>(0.001)</td><td>(0.001)</td><td>(0.002)</td></tr><tr><td style=\"text-align:left\">birwt >= 1500[T.True]:birwt_1500</td><td>-0.000<sup></sup></td><td>-0.000<sup></sup></td><td>-0.001<sup></sup></td><td>-0.002<sup></sup></td><td>-0.001<sup>*</sup></td><td>-0.004<sup></sup></td></tr><tr><td style=\"text-align:left\"></td><td>(0.000)</td><td>(0.000)</td><td>(0.000)</td><td>(0.002)</td><td>(0.001)</td><td>(0.003)</td></tr><tr><td style=\"text-align:left\">birwt_1500_squared</td><td></td><td>0.000<sup></sup></td><td></td><td>0.000<sup></sup></td><td></td><td>0.000<sup></sup></td></tr><tr><td style=\"text-align:left\"></td><td></td><td>(0.000)</td><td></td><td>(0.000)</td><td></td><td>(0.000)</td></tr><tr><td style=\"text-align:left\">birwt_1500_squared:birwt_1500</td><td></td><td>0.000<sup></sup></td><td></td><td>0.000<sup></sup></td><td></td><td>0.000<sup></sup></td></tr><tr><td style=\"text-align:left\"></td><td></td><td>(0.000)</td><td></td><td>(0.000)</td><td></td><td>(0.000)</td></tr><tr><td style=\"text-align:left\">Intercept</td><td>0.052<sup>***</sup></td><td>0.052<sup>***</sup></td><td>-1.621<sup>***</sup></td><td>-1.628<sup>***</sup></td><td>-2.892<sup>***</sup></td><td>-2.906<sup>***</sup></td></tr><tr><td style=\"text-align:left\"></td><td>(0.002)</td><td>(0.003)</td><td>(0.016)</td><td>(0.029)</td><td>(0.033)</td><td>(0.061)</td></tr><tr><td style=\"text-align: left\">Standard Errors</td><td>0</td><td>0.0001340061144634629</td><td>0.0021285582658194225</td><td>0.0032857864988760726</td><td>0.002120537005407284</td><td>0.0032486123688371255</td></tr><td colspan=\"7\" style=\"border-bottom: 1px solid black\"></td></tr><tr><td style=\"text-align: left\">Observations</td><td>194,803</td><td>194,803</td><td>194,803</td><td>194,803</td><td>194,803</td><td>194,803</td></tr><tr><td style=\"text-align: left\">R<sup>2</sup></td><td>0.000</td><td>0.000</td><td></td><td></td><td></td><td></td></tr><tr><td style=\"text-align: left\">Adjusted R<sup>2</sup></td><td>0.000</td><td>0.000</td><td></td><td></td><td></td><td></td></tr><tr><td style=\"text-align: left\">Residual Std. Error</td><td>0.231 (df=194799)</td><td>0.231 (df=194797)</td><td>1.000 (df=194799)</td><td>1.000 (df=194797)</td><td>1.000 (df=194799)</td><td>1.000 (df=194797)</td></tr><tr><td style=\"text-align: left\">F Statistic</td><td>31.685<sup>***</sup> (df=3; 194799)</td><td>19.459<sup>***</sup> (df=5; 194797)</td><td><sup></sup> (df=3; 194799)</td><td><sup></sup> (df=5; 194797)</td><td><sup></sup> (df=3; 194799)</td><td><sup></sup> (df=5; 194797)</td></tr><tr><td colspan=\"7\" style=\"border-bottom: 1px solid black\"></td></tr><tr><td style=\"text-align: left\">Note:</td>\n",
       " <td colspan=\"6\" style=\"text-align: right\">\n",
       "  <sup>*</sup>p&lt;0.1;\n",
       "  <sup>**</sup>p&lt;0.05;\n",
       "  <sup>***</sup>p&lt;0.01\n",
       " </td></tr><tr><td></td><td colspan=\"6\" style=\"text-align: right\">The Standard errors reported in parentheses are heteroskedasticity robust (HC2).</td></tr></table>"
      ],
      "text/plain": [
       "<stargazer.stargazer.Stargazer at 0x17ba65840>"
      ]
     },
     "execution_count": 63,
     "metadata": {},
     "output_type": "execute_result"
    }
   ],
   "source": [
    "table_2"
   ]
  },
  {
   "cell_type": "code",
   "execution_count": 68,
   "metadata": {},
   "outputs": [
    {
     "name": "stdout",
     "output_type": "stream",
     "text": [
      "0    0.009096\n",
      "dtype: float64\n",
      "Intercept                           0.052204\n",
      "birwt >= 1500[T.True]               0.009096\n",
      "birwt_1500                         -0.000146\n",
      "birwt >= 1500[T.True]:birwt_1500   -0.000056\n",
      "dtype: float64\n"
     ]
    }
   ],
   "source": [
    "dif = pred_above - pred_below \n",
    "print(dif)\n",
    "print(res_ols_linear.params)"
   ]
  },
  {
   "cell_type": "markdown",
   "metadata": {},
   "source": [
    "The difference we get is 0.009096, and the coeffiecient of birwt above or below 1500 is 0.009096"
   ]
  },
  {
   "cell_type": "markdown",
   "metadata": {},
   "source": [
    "<hr style=\"height:2.4pt\">\n",
    "\n",
    "### 8\n",
    "\n",
    "What do the predicted values in 7(a) and 7(b) correspond to in terms of the potential outcomes $Y_i(1)$ and $Y_i(0)$ from the Potential Outcome Framework for Causal Inference? Explain briefly. Verbal intuition is fine; you do not need to answer formally or mathematically."
   ]
  },
  {
   "cell_type": "markdown",
   "metadata": {},
   "source": [
    "7a) is the predicted probability for an infant below 1500g which we know are those that do not receive treatment, and 7b) is the predicted probability for an infant above or equal to 1500g. Hence, $Y_i(1)$ is infants below 1500g and $Y_i(0)$ is infants above or equal to 1500. Generally, $Y_i(X)$ is our framework, where $X_i$ is 1 if $i$ receives treatment, and 0 if $i$ receives control.<br>\n",
    "\n",
    "We can formulate: $$\\Delta \\hat{Y}_i = E[Y_i(1)|W_i < 1500] - E[Y_i(0)|W_i \\geq 1500]$$"
   ]
  },
  {
   "cell_type": "markdown",
   "metadata": {},
   "source": [
    "<hr style=\"height:2.4pt\">\n",
    "\n",
    "### 9\n",
    "\n",
    "The regression in column 1 of Table 4 is of the following form:\n",
    "\n",
    "$$Y_i = \\beta_0 + \\beta_1nonVLBW_i + \\beta_2(birwt_i - 1500) + \\beta_3(birwt_i - 1500) \\times nonVLBW_i + v_i$$\n",
    "\n",
    "Consider the following modified version of this regression that replaces $birwt_i - 1500$ with $birwt_i$:\n",
    "$$Y_i = \\alpha_0 + \\alpha_1nonVLBW_i + \\alpha_2birwt_i + \\alpha_3birwt_i \\times nonVLBW_i + u_i$$\n",
    "\n",
    "What is the mathematical relationship between $\\beta_1$ and $\\alpha_1$?\n",
    "\n",
    "Hint: Refer to the slides from lecture on Tuesday February 14, 2023."
   ]
  },
  {
   "cell_type": "markdown",
   "metadata": {},
   "source": [
    "I think the answer to this stems from plugging in the differences in $\\Delta(Y)$ at the threshold."
   ]
  },
  {
   "cell_type": "markdown",
   "metadata": {},
   "source": [
    "<hr style=\"height:2.4pt\">\n",
    "\n",
    "### 10\n",
    "\n",
    "Consider the changes in the predicted probability of death at the VLBW threshold as estimated in columns 1 through 6 of Table 4. Do the predicted effects on and predicted probabilities of death differ depending on which column of the table is used to calculate them?"
   ]
  },
  {
   "cell_type": "markdown",
   "metadata": {},
   "source": [
    "The predicted probabilities of death at the VLBW thresholds "
   ]
  },
  {
   "cell_type": "markdown",
   "metadata": {},
   "source": [
    "<hr style=\"height:2.4pt\">\n",
    "\n",
    "### 11\n",
    "\n",
    "Briefly explain why your answers to questions 4 and 10 differ."
   ]
  },
  {
   "cell_type": "markdown",
   "metadata": {},
   "source": [
    "*[Your Answer Here]*"
   ]
  },
  {
   "cell_type": "markdown",
   "metadata": {},
   "source": [
    "<hr style=\"height:2.4pt\">\n",
    "\n",
    "### 12\n",
    "\n",
    "What seems to matter more: using OLS, probit vs. logit, or the order of the polynomial? (Again, your answer can be very brief)"
   ]
  },
  {
   "cell_type": "markdown",
   "metadata": {},
   "source": [
    "*[Your Answer Here]*"
   ]
  },
  {
   "cell_type": "markdown",
   "metadata": {},
   "source": [
    "<hr style=\"height:2.4pt\">\n",
    "\n",
    "### 13\n",
    "Conditional mean independence is a general condition for any regression to measure a causal effect. If all other determinants of infant mortality evolve smoothly with birthweight, then the only discrete change at the threshold is the change in intensity of care, and conditional mean independence will be satisfied. Based on the variables provided to you in this data set, what evidence could you bring to bear to assess whether this assumption is plausibly satisfied in the data? What do you conclude from this supplementary evidence?"
   ]
  },
  {
   "cell_type": "code",
   "execution_count": 10,
   "metadata": {},
   "outputs": [],
   "source": [
    "# Your Code Here"
   ]
  },
  {
   "cell_type": "markdown",
   "metadata": {},
   "source": [
    "*[Your Answer Here]*"
   ]
  },
  {
   "cell_type": "markdown",
   "metadata": {},
   "source": [
    "<hr style=\"height:2.4pt\">\n",
    "\n",
    "### Sample Code"
   ]
  },
  {
   "cell_type": "markdown",
   "metadata": {},
   "source": [
    "shows how to add a new variable to the data frame that\n",
    "equals 1 if xvar is greater than or equal to\n",
    "1500 and zero otherwise.\n",
    "\n",
    "```python\n",
    "mortality[“birwt_ge_1500g”] = (mortality.xvar >=\n",
    "1500).astype(int)\n",
    "```\n",
    "\n",
    "Fits probit regression\n",
    "```python\n",
    "mod = sm.probit(\n",
    "    “yvar ~ xvar1 + xvar2”,\n",
    "    data=mortality,\n",
    ")\n",
    "res = mod.fit(cov_type=”HC2”, disp=0)\n",
    "```\n",
    "\n",
    "Fits logit regression\n",
    "```python\n",
    "mod = sm.logit(\n",
    "    “yvar ~ xvar1 + xvar2”,\n",
    "    data=mortality,\n",
    ")\n",
    "res = mod.fit(cov_type=”HC2”, disp=0)\n",
    "```\n",
    "\n",
    "These commands report a predicted\n",
    "probability at xvar1 = 3 and xvar2 = 5 for a\n",
    "linear OR probit OR logit regression\n",
    "trained on columns xvar1 and xvar2\n",
    "```python\n",
    "# create dataframe with data we want to predict:\n",
    "cases = pd.DataFrame({\n",
    "    “xvar1”: [3],\n",
    "    “xvar2”: [5],\n",
    "})\n",
    "# use result to predict based on dataframe\n",
    "predictions = res.predict(cases[“xvar1”, “xvar2”])\n",
    "```\n",
    "\n",
    "Add a custom line to a stargazer table\n",
    "consisting of 4 regressions, and expand the\n",
    "number of significant digits reported in the\n",
    "table\n",
    "```python\n",
    "table.add_line(\n",
    "    “leftmost cell (label)”,\n",
    "    [elt1, elt2, elt3, elt4],\n",
    ")\n",
    "table.significant_digits(6)\n",
    "```\n",
    "\n",
    "\n",
    "\n",
    "create new variables for the\n",
    "difference between an existing variable and\n",
    "a constant\n",
    "```python\n",
    "mortality[“x_minus_10”] = mortality.x - 10\n",
    "```\n",
    "\n",
    "\n",
    "Shows how to create two new dataframes,\n",
    "one with a subset of the rows in which xvar\n",
    "is 0, and another with the subset of the\n",
    "rows for which xvar = 1\n",
    "```python\n",
    "group_0 = mortality.loc[mortality.xvar == 0]\n",
    "group_1 = mortality.loc[mortality.xvar == 1]\n",
    "```\n",
    "\n",
    "Shows how to create a binned scatterplot\n",
    "with a vertical line at some point in the\n",
    "graph.\n",
    "```python\n",
    "# Create new x and y with only binned results\n",
    "x, y = binned_statistic(\n",
    "    mortality.var1,\n",
    "    [mortality.var1, mortality.var2],\n",
    "    bins=150\n",
    ").statistic\n",
    "fig, ax = plt.subplots(1, 1)\n",
    "ax.scatter(x, y, s=3)\n",
    "\n",
    "# Draw a red, vertical line at x=25\n",
    "ax.axvline(x=25, color=”r”)\n",
    "\n",
    "# Set title and axes\n",
    "ax.set_title(“some title”)\n",
    "ax.set_xlabel(“some label”)\n",
    "ax.set_ylabel(“some label”)\n",
    "```\n",
    "\n",
    "Shows how to calculate standard errors on\n",
    "differences in predictions where only one\n",
    "variable and the constant are nonzero in\n",
    "one prediction and only the constant is\n",
    "nonzero in the other. (This is the only case\n",
    "necessary in this problem set).\n",
    "```python\n",
    "# Call the function to get probit estimate\n",
    "probit_se = find_se(res, “probit”)\n",
    "\n",
    "# Call the function to get logit estimate\n",
    "probit_se = find_se(res, “logit”)\n",
    "```"
   ]
  },
  {
   "cell_type": "markdown",
   "metadata": {},
   "source": []
  }
 ],
 "metadata": {
  "kernelspec": {
   "display_name": "Python 3 (ipykernel)",
   "language": "python",
   "name": "python3"
  },
  "language_info": {
   "codemirror_mode": {
    "name": "ipython",
    "version": 3
   },
   "file_extension": ".py",
   "mimetype": "text/x-python",
   "name": "python",
   "nbconvert_exporter": "python",
   "pygments_lexer": "ipython3",
   "version": "3.10.9"
  },
  "vscode": {
   "interpreter": {
    "hash": "b0fa6594d8f4cbf19f97940f81e996739fb7646882a419484c72d19e05852a7e"
   }
  }
 },
 "nbformat": 4,
 "nbformat_minor": 2
}
