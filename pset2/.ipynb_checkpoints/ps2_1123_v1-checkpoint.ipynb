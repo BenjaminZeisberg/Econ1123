{
 "cells": [
  {
   "cell_type": "markdown",
   "metadata": {},
   "source": [
    "## Problem Set 2: The Determinants of Life Expectancy of the Poor\n",
    "\n",
    "**Harvard University**<br/>\n",
    "**Spring 2023**<br/>\n",
    "**Instructor**: Gregory Bruich, Ph.D.\n",
    "\n",
    "- Posted on: 01/30/2023\n",
    "- Due at: 11:59pm on 02/07/2023\n",
    "\n",
    "<hr style=\"height:2.4pt\">"
   ]
  },
  {
   "cell_type": "markdown",
   "metadata": {},
   "source": [
    "### Suggested Imports"
   ]
  },
  {
   "cell_type": "code",
   "execution_count": 3,
   "metadata": {},
   "outputs": [],
   "source": [
    "import pandas as pd\n",
    "import numpy as np\n",
    "import matplotlib\n",
    "import matplotlib.pyplot as plt\n",
    "import statsmodels.formula.api as sm\n",
    "from stargazer.stargazer import Stargazer"
   ]
  },
  {
   "cell_type": "markdown",
   "metadata": {},
   "source": [
    "### Background\n",
    "\n",
    "The Health Inequality Project uses 1.4 billion observations on income from tax records covering\n",
    "the U.S. population from 1999-2014 to construct income-mortality gradients for each geographic\n",
    "region in the United States. The resulting datasets are publicly available at [healthinequality.org](https://healthinequality.org/). \n",
    "\n",
    "The map below shows life expectancy at age 40 for men in the bottom quartile of the income distribution for each commuting zone in the United States.\n",
    "\n",
    "In this problem set, you will use these data to quantify the determinants of life expectancy for these low income men. The extract of the data set, `healthinequality.dta`, is described below and posted on the course website.\n",
    "\n",
    "![](map.png)\n",
    "\n",
    "*Source*: The Health Inequality Project (Chetty, Stepner, Abraham, Lin, Scuderi, Turner, Bergeron, and Cutler 2016)\n",
    "\n",
    "<hr style=\"height:2.4pt\">\n"
   ]
  },
  {
   "cell_type": "markdown",
   "metadata": {},
   "source": [
    "### Data Description\n",
    "**File**: `healthinequality.dta`\n",
    "\n",
    "The data consist of $n = 590$ U.S. commuting zones with populations larger than 25,000 in 2000. Commuting zones are geographical aggregations of counties that are similar to metro areas but\n",
    "cover the entire U.S., including rural areas.\n",
    "\n",
    "For more details on the construction of the variables included in this data set, please see Chetty, Stepner, Abraham, Lin, Scuderi, Turner, Bergeron, and Cutler (2016), which is posted on the\n",
    "course website.\n",
    "\n",
    "| Variable   | Definition                                                                                                   | Units                 | Mean   |\n",
    "| ---------- | ------------------------------------------------------------------------------------------------------------ |:---------------------:|:------:|\n",
    "| `cz`         | Commuting Zone ID                                                                                            | n/a                   | n/a    |\n",
    "| `czame`      | Commuting Zone Name                                                                                          | n/a                   | n/a    |\n",
    "| `stateabbrv` | 2-letter state name (U.S. postal code)                                                                       | n/a                   | n/a    |\n",
    "| `fips`       | State FIPS code                                                                                              | n/a                   | n/a    |\n",
    "| `life_exp`   | Male life expectancy at age 40 for the bottom quartile of the national income distribution (race adjusted)   | Years                 | 76.41  |\n",
    "| `cur_smoke`  | Fraction of CZ that currently smokes in the bottom quartile of the national income distribution              | Decimal, range 0 to 1 | 0.2792 |\n",
    "| `bmi_obese`  | Fraction of CZ that is obese in the bottom quartile of the national income distribution                      | Decimal, range 0 to 1 | 0.3037 |\n",
    "| `exercise`   | Fraction of CZ that exercised in the past 30 days in the bottom quartile of the national income distribution | Decimal, range 0 to 1 | 0.6047 |\n",
    "\n",
    "\n",
    "<hr style=\"height:2.4pt\">"
   ]
  },
  {
   "cell_type": "markdown",
   "metadata": {},
   "source": [
    "### Data Load"
   ]
  },
  {
   "cell_type": "code",
   "execution_count": 4,
   "metadata": {},
   "outputs": [
    {
     "ename": "FileNotFoundError",
     "evalue": "[Errno 2] No such file or directory: 'healthinequality.dta'",
     "output_type": "error",
     "traceback": [
      "\u001b[0;31m---------------------------------------------------------------------------\u001b[0m",
      "\u001b[0;31mFileNotFoundError\u001b[0m                         Traceback (most recent call last)",
      "Cell \u001b[0;32mIn [4], line 2\u001b[0m\n\u001b[1;32m      1\u001b[0m \u001b[38;5;66;03m# Read dataset into a pandas dataframe\u001b[39;00m\n\u001b[0;32m----> 2\u001b[0m health \u001b[38;5;241m=\u001b[39m \u001b[43mpd\u001b[49m\u001b[38;5;241;43m.\u001b[39;49m\u001b[43mread_stata\u001b[49m\u001b[43m(\u001b[49m\u001b[38;5;124;43m\"\u001b[39;49m\u001b[38;5;124;43mhealthinequality.dta\u001b[39;49m\u001b[38;5;124;43m\"\u001b[39;49m\u001b[43m)\u001b[49m\n\u001b[1;32m      4\u001b[0m \u001b[38;5;66;03m# Display first 5 rows of data\u001b[39;00m\n\u001b[1;32m      5\u001b[0m health\u001b[38;5;241m.\u001b[39mhead()\n",
      "File \u001b[0;32m/opt/homebrew/lib/python3.10/site-packages/pandas/io/stata.py:2004\u001b[0m, in \u001b[0;36mread_stata\u001b[0;34m(filepath_or_buffer, convert_dates, convert_categoricals, index_col, convert_missing, preserve_dtypes, columns, order_categoricals, chunksize, iterator, compression, storage_options)\u001b[0m\n\u001b[1;32m   1988\u001b[0m \u001b[38;5;129m@Appender\u001b[39m(_read_stata_doc)\n\u001b[1;32m   1989\u001b[0m \u001b[38;5;28;01mdef\u001b[39;00m \u001b[38;5;21mread_stata\u001b[39m(\n\u001b[1;32m   1990\u001b[0m     filepath_or_buffer: FilePath \u001b[38;5;241m|\u001b[39m ReadBuffer[\u001b[38;5;28mbytes\u001b[39m],\n\u001b[0;32m   (...)\u001b[0m\n\u001b[1;32m   2001\u001b[0m     storage_options: StorageOptions \u001b[38;5;241m=\u001b[39m \u001b[38;5;28;01mNone\u001b[39;00m,\n\u001b[1;32m   2002\u001b[0m ) \u001b[38;5;241m-\u001b[39m\u001b[38;5;241m>\u001b[39m DataFrame \u001b[38;5;241m|\u001b[39m StataReader:\n\u001b[0;32m-> 2004\u001b[0m     reader \u001b[38;5;241m=\u001b[39m \u001b[43mStataReader\u001b[49m\u001b[43m(\u001b[49m\n\u001b[1;32m   2005\u001b[0m \u001b[43m        \u001b[49m\u001b[43mfilepath_or_buffer\u001b[49m\u001b[43m,\u001b[49m\n\u001b[1;32m   2006\u001b[0m \u001b[43m        \u001b[49m\u001b[43mconvert_dates\u001b[49m\u001b[38;5;241;43m=\u001b[39;49m\u001b[43mconvert_dates\u001b[49m\u001b[43m,\u001b[49m\n\u001b[1;32m   2007\u001b[0m \u001b[43m        \u001b[49m\u001b[43mconvert_categoricals\u001b[49m\u001b[38;5;241;43m=\u001b[39;49m\u001b[43mconvert_categoricals\u001b[49m\u001b[43m,\u001b[49m\n\u001b[1;32m   2008\u001b[0m \u001b[43m        \u001b[49m\u001b[43mindex_col\u001b[49m\u001b[38;5;241;43m=\u001b[39;49m\u001b[43mindex_col\u001b[49m\u001b[43m,\u001b[49m\n\u001b[1;32m   2009\u001b[0m \u001b[43m        \u001b[49m\u001b[43mconvert_missing\u001b[49m\u001b[38;5;241;43m=\u001b[39;49m\u001b[43mconvert_missing\u001b[49m\u001b[43m,\u001b[49m\n\u001b[1;32m   2010\u001b[0m \u001b[43m        \u001b[49m\u001b[43mpreserve_dtypes\u001b[49m\u001b[38;5;241;43m=\u001b[39;49m\u001b[43mpreserve_dtypes\u001b[49m\u001b[43m,\u001b[49m\n\u001b[1;32m   2011\u001b[0m \u001b[43m        \u001b[49m\u001b[43mcolumns\u001b[49m\u001b[38;5;241;43m=\u001b[39;49m\u001b[43mcolumns\u001b[49m\u001b[43m,\u001b[49m\n\u001b[1;32m   2012\u001b[0m \u001b[43m        \u001b[49m\u001b[43morder_categoricals\u001b[49m\u001b[38;5;241;43m=\u001b[39;49m\u001b[43morder_categoricals\u001b[49m\u001b[43m,\u001b[49m\n\u001b[1;32m   2013\u001b[0m \u001b[43m        \u001b[49m\u001b[43mchunksize\u001b[49m\u001b[38;5;241;43m=\u001b[39;49m\u001b[43mchunksize\u001b[49m\u001b[43m,\u001b[49m\n\u001b[1;32m   2014\u001b[0m \u001b[43m        \u001b[49m\u001b[43mstorage_options\u001b[49m\u001b[38;5;241;43m=\u001b[39;49m\u001b[43mstorage_options\u001b[49m\u001b[43m,\u001b[49m\n\u001b[1;32m   2015\u001b[0m \u001b[43m        \u001b[49m\u001b[43mcompression\u001b[49m\u001b[38;5;241;43m=\u001b[39;49m\u001b[43mcompression\u001b[49m\u001b[43m,\u001b[49m\n\u001b[1;32m   2016\u001b[0m \u001b[43m    \u001b[49m\u001b[43m)\u001b[49m\n\u001b[1;32m   2018\u001b[0m     \u001b[38;5;28;01mif\u001b[39;00m iterator \u001b[38;5;129;01mor\u001b[39;00m chunksize:\n\u001b[1;32m   2019\u001b[0m         \u001b[38;5;28;01mreturn\u001b[39;00m reader\n",
      "File \u001b[0;32m/opt/homebrew/lib/python3.10/site-packages/pandas/io/stata.py:1151\u001b[0m, in \u001b[0;36mStataReader.__init__\u001b[0;34m(self, path_or_buf, convert_dates, convert_categoricals, index_col, convert_missing, preserve_dtypes, columns, order_categoricals, chunksize, compression, storage_options)\u001b[0m\n\u001b[1;32m   1148\u001b[0m \u001b[38;5;28mself\u001b[39m\u001b[38;5;241m.\u001b[39m_lines_read \u001b[38;5;241m=\u001b[39m \u001b[38;5;241m0\u001b[39m\n\u001b[1;32m   1150\u001b[0m \u001b[38;5;28mself\u001b[39m\u001b[38;5;241m.\u001b[39m_native_byteorder \u001b[38;5;241m=\u001b[39m _set_endianness(sys\u001b[38;5;241m.\u001b[39mbyteorder)\n\u001b[0;32m-> 1151\u001b[0m \u001b[38;5;28;01mwith\u001b[39;00m \u001b[43mget_handle\u001b[49m\u001b[43m(\u001b[49m\n\u001b[1;32m   1152\u001b[0m \u001b[43m    \u001b[49m\u001b[43mpath_or_buf\u001b[49m\u001b[43m,\u001b[49m\n\u001b[1;32m   1153\u001b[0m \u001b[43m    \u001b[49m\u001b[38;5;124;43m\"\u001b[39;49m\u001b[38;5;124;43mrb\u001b[39;49m\u001b[38;5;124;43m\"\u001b[39;49m\u001b[43m,\u001b[49m\n\u001b[1;32m   1154\u001b[0m \u001b[43m    \u001b[49m\u001b[43mstorage_options\u001b[49m\u001b[38;5;241;43m=\u001b[39;49m\u001b[43mstorage_options\u001b[49m\u001b[43m,\u001b[49m\n\u001b[1;32m   1155\u001b[0m \u001b[43m    \u001b[49m\u001b[43mis_text\u001b[49m\u001b[38;5;241;43m=\u001b[39;49m\u001b[38;5;28;43;01mFalse\u001b[39;49;00m\u001b[43m,\u001b[49m\n\u001b[1;32m   1156\u001b[0m \u001b[43m    \u001b[49m\u001b[43mcompression\u001b[49m\u001b[38;5;241;43m=\u001b[39;49m\u001b[43mcompression\u001b[49m\u001b[43m,\u001b[49m\n\u001b[1;32m   1157\u001b[0m \u001b[43m\u001b[49m\u001b[43m)\u001b[49m \u001b[38;5;28;01mas\u001b[39;00m handles:\n\u001b[1;32m   1158\u001b[0m     \u001b[38;5;66;03m# Copy to BytesIO, and ensure no encoding\u001b[39;00m\n\u001b[1;32m   1159\u001b[0m     \u001b[38;5;28mself\u001b[39m\u001b[38;5;241m.\u001b[39mpath_or_buf \u001b[38;5;241m=\u001b[39m BytesIO(handles\u001b[38;5;241m.\u001b[39mhandle\u001b[38;5;241m.\u001b[39mread())\n\u001b[1;32m   1161\u001b[0m \u001b[38;5;28mself\u001b[39m\u001b[38;5;241m.\u001b[39m_read_header()\n",
      "File \u001b[0;32m/opt/homebrew/lib/python3.10/site-packages/pandas/io/common.py:795\u001b[0m, in \u001b[0;36mget_handle\u001b[0;34m(path_or_buf, mode, encoding, compression, memory_map, is_text, errors, storage_options)\u001b[0m\n\u001b[1;32m    786\u001b[0m         handle \u001b[38;5;241m=\u001b[39m \u001b[38;5;28mopen\u001b[39m(\n\u001b[1;32m    787\u001b[0m             handle,\n\u001b[1;32m    788\u001b[0m             ioargs\u001b[38;5;241m.\u001b[39mmode,\n\u001b[0;32m   (...)\u001b[0m\n\u001b[1;32m    791\u001b[0m             newline\u001b[38;5;241m=\u001b[39m\u001b[38;5;124m\"\u001b[39m\u001b[38;5;124m\"\u001b[39m,\n\u001b[1;32m    792\u001b[0m         )\n\u001b[1;32m    793\u001b[0m     \u001b[38;5;28;01melse\u001b[39;00m:\n\u001b[1;32m    794\u001b[0m         \u001b[38;5;66;03m# Binary mode\u001b[39;00m\n\u001b[0;32m--> 795\u001b[0m         handle \u001b[38;5;241m=\u001b[39m \u001b[38;5;28;43mopen\u001b[39;49m\u001b[43m(\u001b[49m\u001b[43mhandle\u001b[49m\u001b[43m,\u001b[49m\u001b[43m \u001b[49m\u001b[43mioargs\u001b[49m\u001b[38;5;241;43m.\u001b[39;49m\u001b[43mmode\u001b[49m\u001b[43m)\u001b[49m\n\u001b[1;32m    796\u001b[0m     handles\u001b[38;5;241m.\u001b[39mappend(handle)\n\u001b[1;32m    798\u001b[0m \u001b[38;5;66;03m# Convert BytesIO or file objects passed with an encoding\u001b[39;00m\n",
      "\u001b[0;31mFileNotFoundError\u001b[0m: [Errno 2] No such file or directory: 'healthinequality.dta'"
     ]
    }
   ],
   "source": [
    "# Read dataset into a pandas dataframe\n",
    "health = pd.read_stata(\"healthinequality.dta\")\n",
    "\n",
    "# Display first 5 rows of data\n",
    "health.head()"
   ]
  },
  {
   "cell_type": "markdown",
   "metadata": {},
   "source": [
    "<hr style=\"height:2.4pt\">\n",
    "\n",
    "### Instructions\n",
    "\n",
    "Please submit your Problem Set on Canvas. Your submission should include two files:\n",
    "1. This notebook as a `.ipynb` file with your code and answers to questions\n",
    "2. A `.pdf` version of this notebook. TODO: Provide general instructions on converting `.ipynb` to `pdf`\n",
    "\n",
    "<hr style=\"height:2.4pt\">"
   ]
  },
  {
   "cell_type": "markdown",
   "metadata": {},
   "source": [
    "### Questions\n",
    "\n",
    "*Note: Short answers should be very succinct. Show your work and intuition clearly: credit is given for explanations and not just having the correct answer*"
   ]
  },
  {
   "cell_type": "markdown",
   "metadata": {},
   "source": [
    "### 1\n",
    "\n",
    "Use the starter script files to help you get started on this question. The $R^2$ regression diagnostic statistic measures how much of the variance in the dependent variable can be explained *linearly* by the covariates in the regression. It equals the ratio between the explained sum of squares and the total sum of squares in a regression:\n",
    "\n",
    "$$R^2 = \\frac{\\sum_{i=1}^n(\\hat{Y_i} - \\bar{\\hat{Y}})^2}{\\sum_{i=1}^n(Y_i - \\bar{Y})^2}$$\n",
    "\n",
    "In a simple bivariate regression, it equals the square of the correlation coefficient between the dependent variable and the single independent variable.\n",
    "\n",
    "<ol type=\"a\">\n",
    "  <li>\n",
    "    Estimate a regression of <code>life_exp</code> on <code>cur_smoke</code>. Explain in words what the coefficient on <code>cur_smoke</code> means.\n",
    "  </li>\n",
    "  <li>\n",
    "    What is the R<sup>2</sup> of this regression? Does the R<sup>2</sup> tell us whether the regression does a good job of fitting the data? If not, what does it tell us?\n",
    "  </li>\n",
    "  <li>\n",
    "    Now generate a random variable that is independent of both <code>life_exp</code> and <code>cur_smoke</code>. Run a regression of <code>life_exp</code> on an intercept, <code>cur_smoke</code>, and the random variable that you generated. What happens to the R<sup>2</sup>?\n",
    "  </li>\n",
    "  <li>\n",
    "    Now generate a total of 588 random variables that are independent of each other, <code>life_exp</code> and <code>cur_smoke</code>. Regress <code>life_exp</code> on an intercept, <code>cur_smoke</code>, and the 588 random variables that you generated. What happens to the R<sup>2</sup>? Discuss briefly.\n",
    "  </li>\n",
    "  <li>\n",
    "    Explain (d) using the following simple non-trivial example: with N = 2 observations, what happens if we run a regression with an intercept and one explanatory variable?\n",
    "  </li>\n",
    "  <li>\n",
    "    Now generate a total of 589 random variables. Regress <code>life_exp</code> on an intercept, <code>cur_smoke</code>, and the 589 independent random variable that you generated. What happens?\n",
    "  </li>\n",
    "  <li>\n",
    "    Use the residual regression formula to explain (f).\n",
    "  </li>\n",
    "</ol>"
   ]
  },
  {
   "cell_type": "code",
   "execution_count": null,
   "metadata": {},
   "outputs": [],
   "source": [
    "# Your Code Here"
   ]
  },
  {
   "cell_type": "markdown",
   "metadata": {},
   "source": [
    "*[Your Answer Here]*"
   ]
  },
  {
   "cell_type": "markdown",
   "metadata": {},
   "source": [
    "<hr style=\"height:2.4pt\">\n",
    "\n",
    "### 2\n",
    "\n",
    "Estimate the regression of `life_exp` against `cur_smoke`, `bmi_obese`, and `exercise`.\n",
    "\n",
    "<ol type=\"a\">\n",
    "  <li>\n",
    "    Explain in words what the coefficient on <code>bmi_obese</code> means in this regression.\n",
    "  </li>\n",
    "  <li>\n",
    "    Do the coefficients on the three regressors have the sign that you would expect?\n",
    "  </li>\n",
    "<ol>"
   ]
  },
  {
   "cell_type": "code",
   "execution_count": null,
   "metadata": {},
   "outputs": [],
   "source": [
    "# Your Code Here"
   ]
  },
  {
   "cell_type": "markdown",
   "metadata": {},
   "source": [
    "*[Your Answer Here]*"
   ]
  },
  {
   "cell_type": "markdown",
   "metadata": {},
   "source": [
    "<hr style=\"height:2.4pt\">\n",
    "\n",
    "### 3\n",
    "Table 3 presents the results of four regressions, one in each column. Produce your own tables using `outreg2` in Stata and `stargazer` in R corresponding to Table 3 with all the entries\n",
    "filled in. Also see suggested code in Table 2a and Table 2b."
   ]
  },
  {
   "cell_type": "code",
   "execution_count": null,
   "metadata": {},
   "outputs": [],
   "source": [
    "# Your Code Here"
   ]
  },
  {
   "cell_type": "markdown",
   "metadata": {},
   "source": [
    "<hr style=\"height:2.4pt\">\n",
    "\n",
    "### 4\n",
    "\n",
    "Use Table 3 to answer the following questions:\n",
    "\n",
    "<ol type=\"a\">\n",
    "  <li>\n",
    "    Using coefficients from regressions 2, 3, and 4 along with the omitted variable bias formula, show the algebraic relationship between the coefficients on <code>cur_smoke</code> in regression 2 and regression 3.\n",
    "  </li>\n",
    "  <li>\n",
    "    You have now confirmed the omitted variable bias formula. Next, you will use the formula in the way that economists use it. First, provide an example of a new variable that you think is an important determinant of life expectancy, but that is not included in these data. Then, use the omitted variable bias formula (along with your intuition and knowledge of the world) to explain how adding that new variable to regression 3 would change the estimated coefficient on <code>cur_smoke</code>.\n",
    "  </li>\n",
    "<ol>"
   ]
  },
  {
   "cell_type": "markdown",
   "metadata": {},
   "source": [
    "*[Your Answer Here]*"
   ]
  },
  {
   "cell_type": "markdown",
   "metadata": {},
   "source": [
    "<hr style=\"height:2.4pt\">\n",
    "\n",
    "### 5\n",
    "\n",
    "Figure 1 illustrates a useful property of linear regressions that allows one to visualize a multivariate regression in just two dimensions. In each panel of the figure, the slope of the best fit line exactly equals one of the coefficients from column 3 of Table 3.1\n",
    "\n",
    "Pick one of the panels in Figure 1 and draw it yourself in Stata or R. Do not worry about formatting. See suggested code in Table 2a and Table 2b for how to generate residuals and how to draw scatter plots with linear best fit lines superimposed."
   ]
  },
  {
   "cell_type": "code",
   "execution_count": null,
   "metadata": {},
   "outputs": [],
   "source": [
    "# Your Code Here"
   ]
  },
  {
   "cell_type": "markdown",
   "metadata": {},
   "source": [
    "<hr style=\"height:2.4pt\">\n",
    "\n",
    "### Sample Code"
   ]
  },
  {
   "cell_type": "markdown",
   "metadata": {},
   "source": [
    "This sequence allows you to import all\n",
    "necessary libraries for this problem set:\n",
    "\n",
    "```python\n",
    "import pandas as pd\n",
    "import numpy as np\n",
    "import matplotlib\n",
    "import matplotlib.pyplot as plt\n",
    "import statsmodels.formula.api as sm\n",
    "# Uncomment the line below if using Google Colab:\n",
    "# !pip install stargazer\n",
    "from stargazer.stargazer import Stargazer\n",
    "```\n",
    "\n",
    "Reads in data and displays first 5 rows in\n",
    "dataset. We add an intercept column\n",
    "because Python does not automatically add\n",
    "a constant to regressions like Stata and R:\n",
    "\n",
    "```python\n",
    "# Read dataset into a pandas dataframe\n",
    "health = pd.read_stata(\"healthinequality.dta\")\n",
    "\n",
    "# Display first 5 rows of data\n",
    "health.head()\n",
    "```\n",
    "\n",
    "Estimates regression of yvar on an\n",
    "intercept and xvar1, with HC2\n",
    "heteroskedasticity-robust standard errors.\n",
    "`cov_type=\"HC2\"` corresponds to HC2\n",
    "`cov_type=\"HC1\"` corresponds to HC1\n",
    "\n",
    "```python\n",
    "mod = sm.ols(\n",
    "    \"yvar ~ xvar\",\n",
    "    data=health\n",
    ")\n",
    "res = mod.fit(cov_type=”HC2”)\n",
    "\n",
    "# print results:\n",
    "res.summary(slim=True)\n",
    "```\n",
    "\n",
    "Create $x$ columns of random variables and add them to a new dataframe\n",
    "```python\n",
    "# Find number of rows\n",
    "N = health.shape[0]\n",
    "\n",
    "# Create column names like rand_5, rand_6...\n",
    "random_column_names = [f\"rand_{i}\" for i in range(x)]\n",
    "\n",
    "# Create a new dataframe with just random columns\n",
    "random_df = pd.DataFrame(\n",
    "    np.random.random(size=(N, x)), \n",
    "    columns=random_column_names\n",
    ")\n",
    "\n",
    "# Join old and new dataframes\n",
    "new_df = pd.concat([health, random_df], axis=1)\n",
    "\n",
    "# Extra hint: look at the python \"join\" function to\n",
    "# create a string out of the list of variable names\n",
    "```\n",
    "\n",
    "\n",
    "\n",
    "Create regression table with custom column labels\n",
    "```python\n",
    "# Estimate Regressions:\n",
    "mod1 = sm.ols(\n",
    "“yvar1 ~ xvar1 + xvar2 + xvar3”,\n",
    "data=health\n",
    ")\n",
    "res1 = mod.fit(cov_type=”HC2”)\n",
    "mod2 = sm.ols(\n",
    "“yvar1 ~ xvar1 + xvar2”,\n",
    "data=health\n",
    ")\n",
    "res2 = mod.fit(cov_type=”HC2”)\n",
    "mod3 = sm.ols(\n",
    "“yvar2 ~ xvar2 + xvar3”,\n",
    "data=health\n",
    ")\n",
    "res3 = mod.fit(cov_type=”HC2”)\n",
    "\n",
    "# Create Table\n",
    "table = Stargazer(models)\n",
    "\n",
    "# Label columns\n",
    "# This list of 1s should be the same length as the\n",
    "# number of columns\n",
    "table.custom_columns([“yvar1”, “yvar1”, “yvar2”],\n",
    "seperators=[1, 1, 1])\n",
    "\n",
    "# Display table\n",
    "table\n",
    "```\n",
    "\n",
    "Calculate residuals from regression of variable $yvar$ on variables $xvar1$ and $xvar2$\n",
    "\n",
    "```python\n",
    "# Estimate Regressions:\n",
    "mod1 = sm.ols(\n",
    "    \"yvar ~ xvar1 + xvar2\",\n",
    "    data=health\n",
    ")\n",
    "res1 = mod.fit(cov_type=”HC2”)\n",
    "\n",
    "# Find residuals\n",
    "residuals = res1.resid\n",
    "```\n",
    "\n",
    "Draw a scatter plot of variable $x1$ against variable $y1$ and add a line best fit\n",
    "\n",
    "```python\n",
    "# Sets up space for graphing\n",
    "fig, ax = plt.subplots(1, 1)\n",
    "\n",
    "# Plots scatter plot (size of points is set by s=3)\n",
    "ax.scatter(x1, y1, s=3)\n",
    "\n",
    "# Adds a line best fit for the data to the plot\n",
    "ax.plot(\n",
    "    *np.polynomial.Polynomial.fit(\n",
    "        x1, y1, 1\n",
    "    ).linspace(2),\n",
    "    \"r-\"\n",
    ")\n",
    "\n",
    "# Label axes\n",
    "ax.set_title(\"Graph Title\")\n",
    "ax.set_xlabel(\"X Axis Label\")\n",
    "ax.set_ylabel(\"Y Axis Label\")\n",
    "```"
   ]
  },
  {
   "cell_type": "markdown",
   "metadata": {},
   "source": []
  }
 ],
 "metadata": {
  "kernelspec": {
   "display_name": "Python 3 (ipykernel)",
   "language": "python",
   "name": "python3"
  },
  "language_info": {
   "codemirror_mode": {
    "name": "ipython",
    "version": 3
   },
   "file_extension": ".py",
   "mimetype": "text/x-python",
   "name": "python",
   "nbconvert_exporter": "python",
   "pygments_lexer": "ipython3",
   "version": "3.10.9"
  },
  "vscode": {
   "interpreter": {
    "hash": "79e5ed05f4768318b64dcf4024aadef9daee7381e42285f5aa40ea96b6adb5f6"
   }
  }
 },
 "nbformat": 4,
 "nbformat_minor": 2
}
