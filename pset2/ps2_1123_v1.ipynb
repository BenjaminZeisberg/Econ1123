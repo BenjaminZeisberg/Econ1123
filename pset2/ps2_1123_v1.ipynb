{
 "cells": [
  {
   "cell_type": "markdown",
   "metadata": {},
   "source": [
    "## Problem Set 2: The Determinants of Life Expectancy of the Poor\n",
    "\n",
    "**Harvard University**<br/>\n",
    "**Spring 2023**<br/>\n",
    "**Instructor**: Gregory Bruich, Ph.D.\n",
    "\n",
    "- Posted on: 01/30/2023\n",
    "- Due at: 11:59pm on 02/07/2023\n",
    "\n",
    "<hr style=\"height:2.4pt\">"
   ]
  },
  {
   "cell_type": "markdown",
   "metadata": {},
   "source": [
    "### Suggested Imports"
   ]
  },
  {
   "cell_type": "code",
   "execution_count": 96,
   "metadata": {},
   "outputs": [],
   "source": [
    "import pandas as pd\n",
    "import numpy as np\n",
    "import matplotlib\n",
    "import matplotlib.pyplot as plt\n",
    "import statsmodels.formula.api as sm\n",
    "import statsmodels.api as smf\n",
    "from stargazer.stargazer import Stargazer"
   ]
  },
  {
   "cell_type": "markdown",
   "metadata": {},
   "source": [
    "### Background\n",
    "\n",
    "The Health Inequality Project uses 1.4 billion observations on income from tax records covering\n",
    "the U.S. population from 1999-2014 to construct income-mortality gradients for each geographic\n",
    "region in the United States. The resulting datasets are publicly available at [healthinequality.org](https://healthinequality.org/). \n",
    "\n",
    "The map below shows life expectancy at age 40 for men in the bottom quartile of the income distribution for each commuting zone in the United States.\n",
    "\n",
    "In this problem set, you will use these data to quantify the determinants of life expectancy for these low income men. The extract of the data set, `healthinequality.dta`, is described below and posted on the course website.\n",
    "\n",
    "![](map.png)\n",
    "\n",
    "*Source*: The Health Inequality Project (Chetty, Stepner, Abraham, Lin, Scuderi, Turner, Bergeron, and Cutler 2016)\n",
    "\n",
    "<hr style=\"height:2.4pt\">\n"
   ]
  },
  {
   "cell_type": "markdown",
   "metadata": {},
   "source": [
    "### Data Description\n",
    "**File**: `healthinequality.dta`\n",
    "\n",
    "The data consist of $n = 590$ U.S. commuting zones with populations larger than 25,000 in 2000. Commuting zones are geographical aggregations of counties that are similar to metro areas but\n",
    "cover the entire U.S., including rural areas.\n",
    "\n",
    "For more details on the construction of the variables included in this data set, please see Chetty, Stepner, Abraham, Lin, Scuderi, Turner, Bergeron, and Cutler (2016), which is posted on the\n",
    "course website.\n",
    "\n",
    "| Variable   | Definition                                                                                                   | Units                 | Mean   |\n",
    "| ---------- | ------------------------------------------------------------------------------------------------------------ |:---------------------:|:------:|\n",
    "| `cz`         | Commuting Zone ID                                                                                            | n/a                   | n/a    |\n",
    "| `czame`      | Commuting Zone Name                                                                                          | n/a                   | n/a    |\n",
    "| `stateabbrv` | 2-letter state name (U.S. postal code)                                                                       | n/a                   | n/a    |\n",
    "| `fips`       | State FIPS code                                                                                              | n/a                   | n/a    |\n",
    "| `life_exp`   | Male life expectancy at age 40 for the bottom quartile of the national income distribution (race adjusted)   | Years                 | 76.41  |\n",
    "| `cur_smoke`  | Fraction of CZ that currently smokes in the bottom quartile of the national income distribution              | Decimal, range 0 to 1 | 0.2792 |\n",
    "| `bmi_obese`  | Fraction of CZ that is obese in the bottom quartile of the national income distribution                      | Decimal, range 0 to 1 | 0.3037 |\n",
    "| `exercise`   | Fraction of CZ that exercised in the past 30 days in the bottom quartile of the national income distribution | Decimal, range 0 to 1 | 0.6047 |\n",
    "\n",
    "\n",
    "<hr style=\"height:2.4pt\">"
   ]
  },
  {
   "cell_type": "markdown",
   "metadata": {},
   "source": [
    "### Data Load"
   ]
  },
  {
   "cell_type": "code",
   "execution_count": 5,
   "metadata": {},
   "outputs": [
    {
     "data": {
      "text/html": [
       "<div>\n",
       "<style scoped>\n",
       "    .dataframe tbody tr th:only-of-type {\n",
       "        vertical-align: middle;\n",
       "    }\n",
       "\n",
       "    .dataframe tbody tr th {\n",
       "        vertical-align: top;\n",
       "    }\n",
       "\n",
       "    .dataframe thead th {\n",
       "        text-align: right;\n",
       "    }\n",
       "</style>\n",
       "<table border=\"1\" class=\"dataframe\">\n",
       "  <thead>\n",
       "    <tr style=\"text-align: right;\">\n",
       "      <th></th>\n",
       "      <th>cz</th>\n",
       "      <th>czname</th>\n",
       "      <th>fips</th>\n",
       "      <th>stateabbrv</th>\n",
       "      <th>cur_smoke</th>\n",
       "      <th>bmi_obese</th>\n",
       "      <th>exercise</th>\n",
       "      <th>life_exp</th>\n",
       "    </tr>\n",
       "  </thead>\n",
       "  <tbody>\n",
       "    <tr>\n",
       "      <th>0</th>\n",
       "      <td>100</td>\n",
       "      <td>Johnson City</td>\n",
       "      <td>47</td>\n",
       "      <td>TN</td>\n",
       "      <td>0.351208</td>\n",
       "      <td>0.292475</td>\n",
       "      <td>0.546503</td>\n",
       "      <td>75.968956</td>\n",
       "    </tr>\n",
       "    <tr>\n",
       "      <th>1</th>\n",
       "      <td>200</td>\n",
       "      <td>Morristown</td>\n",
       "      <td>47</td>\n",
       "      <td>TN</td>\n",
       "      <td>0.419753</td>\n",
       "      <td>0.302632</td>\n",
       "      <td>0.506173</td>\n",
       "      <td>75.419853</td>\n",
       "    </tr>\n",
       "    <tr>\n",
       "      <th>2</th>\n",
       "      <td>301</td>\n",
       "      <td>Middlesborough</td>\n",
       "      <td>47</td>\n",
       "      <td>TN</td>\n",
       "      <td>0.364103</td>\n",
       "      <td>0.320856</td>\n",
       "      <td>0.475309</td>\n",
       "      <td>76.098907</td>\n",
       "    </tr>\n",
       "    <tr>\n",
       "      <th>3</th>\n",
       "      <td>302</td>\n",
       "      <td>Knoxville</td>\n",
       "      <td>47</td>\n",
       "      <td>TN</td>\n",
       "      <td>0.324125</td>\n",
       "      <td>0.259366</td>\n",
       "      <td>0.581132</td>\n",
       "      <td>75.089340</td>\n",
       "    </tr>\n",
       "    <tr>\n",
       "      <th>4</th>\n",
       "      <td>401</td>\n",
       "      <td>Winston-Salem</td>\n",
       "      <td>37</td>\n",
       "      <td>NC</td>\n",
       "      <td>0.323423</td>\n",
       "      <td>0.285605</td>\n",
       "      <td>0.606607</td>\n",
       "      <td>75.910576</td>\n",
       "    </tr>\n",
       "  </tbody>\n",
       "</table>\n",
       "</div>"
      ],
      "text/plain": [
       "    cz          czname  fips stateabbrv  cur_smoke  bmi_obese  exercise  \\\n",
       "0  100    Johnson City    47         TN   0.351208   0.292475  0.546503   \n",
       "1  200      Morristown    47         TN   0.419753   0.302632  0.506173   \n",
       "2  301  Middlesborough    47         TN   0.364103   0.320856  0.475309   \n",
       "3  302       Knoxville    47         TN   0.324125   0.259366  0.581132   \n",
       "4  401   Winston-Salem    37         NC   0.323423   0.285605  0.606607   \n",
       "\n",
       "    life_exp  \n",
       "0  75.968956  \n",
       "1  75.419853  \n",
       "2  76.098907  \n",
       "3  75.089340  \n",
       "4  75.910576  "
      ]
     },
     "execution_count": 5,
     "metadata": {},
     "output_type": "execute_result"
    }
   ],
   "source": [
    "# Read dataset into a pandas dataframe\n",
    "health = pd.read_stata(\"healthinequality.dta\")\n",
    "\n",
    "# Display first 5 rows of data\n",
    "health.head()"
   ]
  },
  {
   "cell_type": "markdown",
   "metadata": {},
   "source": [
    "<hr style=\"height:2.4pt\">\n",
    "\n",
    "### Instructions\n",
    "\n",
    "Please submit your Problem Set on Canvas. Your submission should include two files:\n",
    "1. This notebook as a `.ipynb` file with your code and answers to questions\n",
    "2. A `.pdf` version of this notebook. TODO: Provide general instructions on converting `.ipynb` to `pdf`\n",
    "\n",
    "<hr style=\"height:2.4pt\">"
   ]
  },
  {
   "cell_type": "markdown",
   "metadata": {},
   "source": [
    "### Questions\n",
    "\n",
    "*Note: Short answers should be very succinct. Show your work and intuition clearly: credit is given for explanations and not just having the correct answer*"
   ]
  },
  {
   "cell_type": "markdown",
   "metadata": {},
   "source": [
    "### 1\n",
    "\n",
    "Use the starter script files to help you get started on this question. The $R^2$ regression diagnostic statistic measures how much of the variance in the dependent variable can be explained *linearly* by the covariates in the regression. It equals the ratio between the explained sum of squares and the total sum of squares in a regression:\n",
    "\n",
    "$$R^2 = \\frac{\\sum_{i=1}^n(\\hat{Y_i} - \\bar{\\hat{Y}})^2}{\\sum_{i=1}^n(Y_i - \\bar{Y})^2}$$\n",
    "\n",
    "In a simple bivariate regression, it equals the square of the correlation coefficient between the dependent variable and the single independent variable.\n",
    "\n",
    "<ol type=\"a\">\n",
    "  <li>\n",
    "    Estimate a regression of <code>life_exp</code> on <code>cur_smoke</code>. Explain in words what the coefficient on <code>cur_smoke</code> means.\n",
    "  </li>\n",
    "  <li>\n",
    "    What is the R<sup>2</sup> of this regression? Does the R<sup>2</sup> tell us whether the regression does a good job of fitting the data? If not, what does it tell us?\n",
    "  </li>\n",
    "  <li>\n",
    "    Now generate a random variable that is independent of both <code>life_exp</code> and <code>cur_smoke</code>. Run a regression of <code>life_exp</code> on an intercept, <code>cur_smoke</code>, and the random variable that you generated. What happens to the R<sup>2</sup>?\n",
    "  </li>\n",
    "  <li>\n",
    "    Now generate a total of 588 random variables that are independent of each other, <code>life_exp</code> and <code>cur_smoke</code>. Regress <code>life_exp</code> on an intercept, <code>cur_smoke</code>, and the 588 random variables that you generated. What happens to the R<sup>2</sup>? Discuss briefly.\n",
    "  </li>\n",
    "  <li>\n",
    "    Explain (d) using the following simple non-trivial example: with N = 2 observations, what happens if we run a regression with an intercept and one explanatory variable?\n",
    "  </li>\n",
    "  <li>\n",
    "    Now generate a total of 589 random variables. Regress <code>life_exp</code> on an intercept, <code>cur_smoke</code>, and the 589 independent random variable that you generated. What happens?\n",
    "  </li>\n",
    "  <li>\n",
    "    Use the residual regression formula to explain (f).\n",
    "  </li>\n",
    "</ol>"
   ]
  },
  {
   "cell_type": "code",
   "execution_count": 93,
   "metadata": {},
   "outputs": [
    {
     "name": "stdout",
     "output_type": "stream",
     "text": [
      "                            OLS Regression Results                            \n",
      "==============================================================================\n",
      "Dep. Variable:               life_exp   R-squared:                       0.268\n",
      "Model:                            OLS   Adj. R-squared:                  0.264\n",
      "No. Observations:                 590   F-statistic:                     61.29\n",
      "Covariance Type:                  HC2   Prob (F-statistic):           1.79e-34\n",
      "==============================================================================\n",
      "                 coef    std err          z      P>|z|      [0.025      0.975]\n",
      "------------------------------------------------------------------------------\n",
      "Intercept     75.5941      0.878     86.103      0.000      73.873      77.315\n",
      "cur_smoke     -5.6617      1.162     -4.871      0.000      -7.940      -3.384\n",
      "bmi_obese     -3.2603      0.773     -4.217      0.000      -4.776      -1.745\n",
      "exercise       5.6082      0.848      6.613      0.000       3.946       7.270\n",
      "==============================================================================\n",
      "\n",
      "Notes:\n",
      "[1] Standard Errors are heteroscedasticity robust (HC2)\n"
     ]
    }
   ],
   "source": [
    "# Your Code Here\n",
    "# 1. Regression of life_exp on cur_smoke\n",
    "mod_1 = sm.ols(\"life_exp ~ cur_smoke\",data=health)\n",
    "res = mod.fit(cov_type='HC2')\n",
    "\n",
    "print(res_1.summary(slim=True))"
   ]
  },
  {
   "cell_type": "code",
   "execution_count": 97,
   "metadata": {},
   "outputs": [],
   "source": [
    "X = health[['cur_smoke']]\n",
    "Y = health[['life_exp']]\n",
    "\n",
    "mod = smf.OLS(Y,X)\n",
    "res = mod.fit(cov_type='HC2')\n"
   ]
  },
  {
   "cell_type": "code",
   "execution_count": 100,
   "metadata": {
    "scrolled": false
   },
   "outputs": [
    {
     "data": {
      "text/html": [
       "<table style=\"text-align:center\"><tr><td colspan=\"2\" style=\"border-bottom: 1px solid black\"></td></tr><tr><td style=\"text-align:left\"></td><td colspan=\"1\"><em>Dependent variable:life_exp</em></td></tr><tr><td style=\"text-align:left\"></td><tr><td style=\"text-align:left\"></td><td>(1)</td></tr><tr><td colspan=\"2\" style=\"border-bottom: 1px solid black\"></td></tr><tr><td style=\"text-align:left\">cur_smoke</td><td>260.803<sup>***</sup></td></tr><tr><td style=\"text-align:left\"></td><td>(2.385)</td></tr><td colspan=\"2\" style=\"border-bottom: 1px solid black\"></td></tr><tr><td style=\"text-align: left\">Observations</td><td>590</td></tr><tr><td style=\"text-align: left\">R<sup>2</sup></td><td>0.951</td></tr><tr><td style=\"text-align: left\">Adjusted R<sup>2</sup></td><td>0.951</td></tr><tr><td style=\"text-align: left\">Residual Std. Error</td><td>16.847 (df=589)</td></tr><tr><td style=\"text-align: left\">F Statistic</td><td>11952.748<sup>***</sup> (df=1; 589)</td></tr><tr><td colspan=\"2\" style=\"border-bottom: 1px solid black\"></td></tr><tr><td style=\"text-align: left\">Note:</td>\n",
       " <td colspan=\"1\" style=\"text-align: right\">\n",
       "  <sup>*</sup>p&lt;0.1;\n",
       "  <sup>**</sup>p&lt;0.05;\n",
       "  <sup>***</sup>p&lt;0.01\n",
       " </td></tr></table>"
      ],
      "text/plain": [
       "<stargazer.stargazer.Stargazer at 0x282943f70>"
      ]
     },
     "execution_count": 100,
     "metadata": {},
     "output_type": "execute_result"
    }
   ],
   "source": [
    "# # Stargazer([res])\n",
    "# Stargazer([res])\n",
    "# table.covariate_order(['intercept','anyone_died', 'diabetes', 'age65', 'college'])\n",
    "# table.custom_columns(['OLS Model', 'OLS Model', 'OLS Model', 'OLS Model'], [1, 1, 1, 1])\n",
    "# table.add_custom_notes([\"The Standard errors reported in parentheses are heteroskedasticity robust (HC2).\"])"
   ]
  },
  {
   "cell_type": "code",
   "execution_count": null,
   "metadata": {},
   "outputs": [],
   "source": []
  },
  {
   "cell_type": "markdown",
   "metadata": {},
   "source": [
    "<h2> Question 1. </h2>\n",
    "<p> We estimate the average effect of the fraction of people in a commuting zone that currently smokes in the bottom quartile of the national income distribution on life expecantcy to be -7.446 years. Our coefficient <code>cur_smoke</code> can be explained as the fraction of people in commuting zone *CZ* that currently smokes in the bottom quartile of the income distribution.</p>\n",
    "\n",
    "\n",
    "<h2> Question 2. </h2>\n",
    "<p> What is the R2 of this regression? The $R^2$ of this regression is 0.121. Does the R2 tell us whether the regression does a good job of fitting the data? the $R^2$ does generally not tell us if the regression does a good job of fitting the data, we can see that by plotting the estimated regression line vs the data to see if our estimate is a good or bad. If not, what does it tell us? Generelly the $R^2$ tells us how much of the variance in our dependent variable is explained by our model. </p>\n",
    "    \n",
    "  \n",
    "<h2> Question 3. </h2>"
   ]
  },
  {
   "cell_type": "code",
   "execution_count": 77,
   "metadata": {},
   "outputs": [
    {
     "name": "stdout",
     "output_type": "stream",
     "text": [
      "                            OLS Regression Results                            \n",
      "==============================================================================\n",
      "Dep. Variable:               life_exp   R-squared:                       0.268\n",
      "Model:                            OLS   Adj. R-squared:                  0.264\n",
      "No. Observations:                 590   F-statistic:                     61.29\n",
      "Covariance Type:                  HC2   Prob (F-statistic):           1.79e-34\n",
      "==============================================================================\n",
      "                 coef    std err          z      P>|z|      [0.025      0.975]\n",
      "------------------------------------------------------------------------------\n",
      "Intercept     75.5941      0.878     86.103      0.000      73.873      77.315\n",
      "cur_smoke     -5.6617      1.162     -4.871      0.000      -7.940      -3.384\n",
      "bmi_obese     -3.2603      0.773     -4.217      0.000      -4.776      -1.745\n",
      "exercise       5.6082      0.848      6.613      0.000       3.946       7.270\n",
      "==============================================================================\n",
      "\n",
      "Notes:\n",
      "[1] Standard Errors are heteroscedasticity robust (HC2)\n"
     ]
    }
   ],
   "source": [
    "# Find number of rows\n",
    "def random_variables(x):\n",
    "    N = health.shape[0]\n",
    "    # Create column names like rand_5, rand_6...\n",
    "    random_column_names = [f\"rand_{i}\" for i in range(x)]\n",
    "\n",
    "    # Create a new dataframe with just random columns\n",
    "    random_df = pd.DataFrame(\n",
    "        np.random.random(size=(N, x)), \n",
    "        columns=random_column_names\n",
    "    )\n",
    "\n",
    "    # Join old and new dataframes\n",
    "    new_df = pd.concat([health, random_df], axis=1)\n",
    "    return new_df\n",
    "\n",
    "frame = random_variables(1)\n",
    "\n",
    "# 2. Regression of life_exp on cur_smoke, one random variable\n",
    "mod_2 = sm.ols(\"life_exp ~ cur_smoke + rand_0\",data=frame)\n",
    "res_2 = mod.fit(cov_type='HC2')\n",
    "\n",
    "print(res_2.summary(slim=True))"
   ]
  },
  {
   "cell_type": "markdown",
   "metadata": {},
   "source": [
    "<h3> What happens to $R^2$ ?</h3> \n",
    "<p> Nothing. $R^2$ is a measure of how much of the variance in the dependent variable is explained by our model, since we are simply adding one random variable we would expect that there be not much change to the $R^2$ besides a minor increase. An increase because we now have a random variable with random data, that could explain some of the variance in the dependent variable. </p>"
   ]
  },
  {
   "cell_type": "markdown",
   "metadata": {},
   "source": [
    "<h2> Question 4. </h2>\n",
    "<p> Now generate a total of 588 random variables. What happens to $R^2$? we can simply call the helper function as defined before to create 588 random variables, and then run our regression. </p> <br>\n",
    "\n",
    "<p> <strong> Answer: </strong> We find that our $R^2$ now is 1.00 meaning that our model explains the variance in our dependent variable. Why? Essentially, we have created enough random variables with random data, that some are correlated with our dependent variable, and so we explained all the variance in our dependent variable with our model. </p>"
   ]
  },
  {
   "cell_type": "code",
   "execution_count": 78,
   "metadata": {
    "scrolled": true
   },
   "outputs": [
    {
     "name": "stdout",
     "output_type": "stream",
     "text": [
      "                            OLS Regression Results                            \n",
      "==============================================================================\n",
      "Dep. Variable:               life_exp   R-squared:                       0.268\n",
      "Model:                            OLS   Adj. R-squared:                  0.264\n",
      "No. Observations:                 590   F-statistic:                     61.29\n",
      "Covariance Type:                  HC2   Prob (F-statistic):           1.79e-34\n",
      "==============================================================================\n",
      "                 coef    std err          z      P>|z|      [0.025      0.975]\n",
      "------------------------------------------------------------------------------\n",
      "Intercept     75.5941      0.878     86.103      0.000      73.873      77.315\n",
      "cur_smoke     -5.6617      1.162     -4.871      0.000      -7.940      -3.384\n",
      "bmi_obese     -3.2603      0.773     -4.217      0.000      -4.776      -1.745\n",
      "exercise       5.6082      0.848      6.613      0.000       3.946       7.270\n",
      "==============================================================================\n",
      "\n",
      "Notes:\n",
      "[1] Standard Errors are heteroscedasticity robust (HC2)\n"
     ]
    }
   ],
   "source": [
    "frame = random_variables(588)\n",
    "columns = frame.columns\n",
    "seperator = \" + \"\n",
    "string = seperator.join(columns[8:])\n",
    "mod_3 = sm.ols(f\"life_exp ~ cur_smoke + {string}\", data=frame)\n",
    "res_3 = mod.fit(cov_type='HC2')\n",
    "print(res.summary(slim=True))\n"
   ]
  },
  {
   "cell_type": "code",
   "execution_count": 57,
   "metadata": {},
   "outputs": [
    {
     "name": "stderr",
     "output_type": "stream",
     "text": [
      "/opt/homebrew/lib/python3.10/site-packages/statsmodels/regression/linear_model.py:1971: RuntimeWarning: divide by zero encountered in divide\n",
      "  self.het_scale = self.wresid**2/(1-h)\n"
     ]
    }
   ],
   "source": [
    "# I thought it would be cool to visualize how our R-square changes for each additional Random variable we create and add\n",
    "results = []\n",
    "for i in range(1,589):\n",
    "    frame = random_variables(i)\n",
    "    columns = frame.columns\n",
    "    seperator = \" + \"\n",
    "    string = seperator.join(columns[8:(9+i)])\n",
    "    mod = sm.ols(f\"life_exp ~ cur_smoke + {string}\", data=frame)\n",
    "    res = mod.fit(cov_type='HC2')\n",
    "    results.append({'Variables': i, 'R-squared': res.rsquared})"
   ]
  },
  {
   "cell_type": "code",
   "execution_count": 59,
   "metadata": {},
   "outputs": [
    {
     "data": {
      "text/plain": [
       "Text(0, 0.5, 'R-Squared')"
      ]
     },
     "execution_count": 59,
     "metadata": {},
     "output_type": "execute_result"
    },
    {
     "data": {
      "image/png": "[encoded data removed]",
      "text/plain": [
       "<Figure size 640x480 with 1 Axes>"
      ]
     },
     "metadata": {},
     "output_type": "display_data"
    }
   ],
   "source": [
    "vis_frame = pd.DataFrame(results)\n",
    "vis_frame.head()\n",
    "x = vis_frame['Variables']\n",
    "y = vis_frame['R-squared']\n",
    "\n",
    "fig, ax = plt.subplots(1, 1)\n",
    "plt.plot(x, y)\n",
    "ax.set_title('Change in R-squared for increase in random variables')\n",
    "ax.set_xlabel('Random variables')\n",
    "ax.set_ylabel('R-Squared')"
   ]
  },
  {
   "cell_type": "markdown",
   "metadata": {},
   "source": [
    "<h2> Question 5. </h2>\n",
    "<p> Explain (d) using the following simple non-trivial example: with N = 2 observations, what happens if we run a regression with an intercept and one explanatory variable? </p> <br>\n",
    "<p> In order to simulate this we shall create a random data set with N = 2 observations. Hence, we change our helper function to accept N as an input."
   ]
  },
  {
   "cell_type": "code",
   "execution_count": 64,
   "metadata": {},
   "outputs": [
    {
     "data": {
      "text/html": [
       "<div>\n",
       "<style scoped>\n",
       "    .dataframe tbody tr th:only-of-type {\n",
       "        vertical-align: middle;\n",
       "    }\n",
       "\n",
       "    .dataframe tbody tr th {\n",
       "        vertical-align: top;\n",
       "    }\n",
       "\n",
       "    .dataframe thead th {\n",
       "        text-align: right;\n",
       "    }\n",
       "</style>\n",
       "<table border=\"1\" class=\"dataframe\">\n",
       "  <thead>\n",
       "    <tr style=\"text-align: right;\">\n",
       "      <th></th>\n",
       "      <th>rand_0</th>\n",
       "      <th>rand_1</th>\n",
       "    </tr>\n",
       "  </thead>\n",
       "  <tbody>\n",
       "    <tr>\n",
       "      <th>0</th>\n",
       "      <td>0.120340</td>\n",
       "      <td>0.396855</td>\n",
       "    </tr>\n",
       "    <tr>\n",
       "      <th>1</th>\n",
       "      <td>0.594322</td>\n",
       "      <td>0.908562</td>\n",
       "    </tr>\n",
       "  </tbody>\n",
       "</table>\n",
       "</div>"
      ],
      "text/plain": [
       "     rand_0    rand_1\n",
       "0  0.120340  0.396855\n",
       "1  0.594322  0.908562"
      ]
     },
     "execution_count": 64,
     "metadata": {},
     "output_type": "execute_result"
    }
   ],
   "source": [
    "def random_variables_df(x, N):\n",
    "#     N = health.shape[0]\n",
    "    # Create column names like rand_5, rand_6...\n",
    "    random_column_names = [f\"rand_{i}\" for i in range(x)]\n",
    "\n",
    "    # Create a new dataframe with just random columns\n",
    "    random_df = pd.DataFrame(\n",
    "        np.random.random(size=(N, x)), \n",
    "        columns=random_column_names\n",
    "    )\n",
    "    return random_df\n",
    "\n",
    "frame_5 = random_variables_df(2, 2)\n",
    "frame_5.head()"
   ]
  },
  {
   "cell_type": "code",
   "execution_count": 70,
   "metadata": {},
   "outputs": [
    {
     "data": {
      "text/plain": [
       "Text(0, 0.5, 'Y Axis Label')"
      ]
     },
     "execution_count": 70,
     "metadata": {},
     "output_type": "execute_result"
    },
    {
     "data": {
      "image/png": "[encoded data removed]",
      "text/plain": [
       "<Figure size 640x480 with 1 Axes>"
      ]
     },
     "metadata": {},
     "output_type": "display_data"
    }
   ],
   "source": [
    "# mod = sm.ols('rand_0 ~ rand_1', data=frame_5).fit(cov='HC2')\n",
    "x1 = frame_5['rand_1']\n",
    "y1 = frame_5['rand_0']\n",
    "# Sets up space for graphing\n",
    "fig, ax = plt.subplots(1, 1)\n",
    "\n",
    "# Plots scatter plot (size of points is set by s=3)\n",
    "ax.scatter(x1, y1, s=3)\n",
    "\n",
    "# Adds a line best fit for the data to the plot\n",
    "ax.plot(\n",
    "    *np.polynomial.Polynomial.fit(\n",
    "        x1, y1, 1\n",
    "    ).linspace(2),\n",
    "    \"r-\"\n",
    ")\n",
    "\n",
    "# Label axes\n",
    "ax.set_title(\"Graph Title\")\n",
    "ax.set_xlabel(\"X Axis Label\")\n",
    "ax.set_ylabel(\"Y Axis Label\")"
   ]
  },
  {
   "cell_type": "markdown",
   "metadata": {},
   "source": [
    "<h2> Question 7. </h2>\n",
    "<p> Use the residual regression formula to explain (f). </p>\n",
    "\n",
    "If we have two observations, then our OLS line will be the line between those two points. Hence, the residuals will be 0. We calculate residuls with $r = x - x_o$ where x is the observation and $x_0$ is our approximate variable. Since, our approximate variables are equal to the observations the residuals will be 0."
   ]
  },
  {
   "cell_type": "markdown",
   "metadata": {},
   "source": [
    "<hr style=\"height:2.4pt\">\n",
    "\n",
    "### 2\n",
    "\n",
    "Estimate the regression of `life_exp` against `cur_smoke`, `bmi_obese`, and `exercise`.\n",
    "\n",
    "<ol type=\"a\">\n",
    "  <li>\n",
    "    Explain in words what the coefficient on <code>bmi_obese</code> means in this regression.\n",
    "  </li>\n",
    "  <li>\n",
    "    Do the coefficients on the three regressors have the sign that you would expect?\n",
    "  </li>\n",
    "<ol>"
   ]
  },
  {
   "cell_type": "code",
   "execution_count": 87,
   "metadata": {},
   "outputs": [
    {
     "name": "stdout",
     "output_type": "stream",
     "text": [
      "                            OLS Regression Results                            \n",
      "==============================================================================\n",
      "Dep. Variable:               life_exp   R-squared:                       0.268\n",
      "Model:                            OLS   Adj. R-squared:                  0.264\n",
      "Method:                 Least Squares   F-statistic:                     61.29\n",
      "Date:                Sun, 05 Feb 2023   Prob (F-statistic):           1.79e-34\n",
      "Time:                        13:43:36   Log-Likelihood:                -904.48\n",
      "No. Observations:                 590   AIC:                             1817.\n",
      "Df Residuals:                     586   BIC:                             1834.\n",
      "Df Model:                           3                                         \n",
      "Covariance Type:                  HC2                                         \n",
      "==============================================================================\n",
      "                 coef    std err          z      P>|z|      [0.025      0.975]\n",
      "------------------------------------------------------------------------------\n",
      "Intercept     75.5941      0.878     86.103      0.000      73.873      77.315\n",
      "cur_smoke     -5.6617      1.162     -4.871      0.000      -7.940      -3.384\n",
      "bmi_obese     -3.2603      0.773     -4.217      0.000      -4.776      -1.745\n",
      "exercise       5.6082      0.848      6.613      0.000       3.946       7.270\n",
      "==============================================================================\n",
      "Omnibus:                       13.264   Durbin-Watson:                   1.428\n",
      "Prob(Omnibus):                  0.001   Jarque-Bera (JB):               19.128\n",
      "Skew:                           0.196   Prob(JB):                     7.02e-05\n",
      "Kurtosis:                       3.790   Cond. No.                         30.3\n",
      "==============================================================================\n",
      "\n",
      "Notes:\n",
      "[1] Standard Errors are heteroscedasticity robust (HC2)\n"
     ]
    }
   ],
   "source": [
    "# Your Code Here\n",
    "mod_4 = sm.ols('life_exp ~ cur_smoke + bmi_obese + exercise', data=health)\n",
    "res_4 = mod.fit(cov='HC2')\n",
    "print(res.summary())"
   ]
  },
  {
   "cell_type": "markdown",
   "metadata": {},
   "source": [
    "<h2> Question 2.1 </h2>\n",
    "<p> Explain in words what the coefficient on <code>bmi_obese</code> means in this regression. <p> <br>\n",
    "    \n",
    "<p>The <code>bmi_obese</code> can be interpreted as the fraction of people in a commuting zone that is obese in the bottom quartile of the national income distribution. The bmi is a calculation that takes into account height and weight of a person, and classify someone as obese if their bmi value is above 40. </p>\n",
    "\n",
    "<h2> Question 2.2. </h2>\n",
    "<p> Do the coefficients on the three regressors have the sign that you would expect? </p> <br>\n",
    "The coefficients of the three regressors have the sign that I would have expected them to have. They imply that obesity and smoking appear to have an negative effect on life expectancy. Furthermore, exercise seems to have the opposite effect as it appears to have a positve effect on life expectancy. Additionally, one would expect there to be some correlation between exercise and obesity for example, because one would imagine those that exercise have a lower bmi."
   ]
  },
  {
   "cell_type": "markdown",
   "metadata": {},
   "source": [
    "<hr style=\"height:2.4pt\">\n",
    "\n",
    "### 3\n",
    "Table 3 presents the results of four regressions, one in each column. Produce your own tables using `outreg2` in Stata and `stargazer` in R corresponding to Table 3 with all the entries\n",
    "filled in. Also see suggested code in Table 2a and Table 2b."
   ]
  },
  {
   "cell_type": "code",
   "execution_count": 105,
   "metadata": {},
   "outputs": [
    {
     "ename": "AssertionError",
     "evalue": "Please set number of columns to number of models",
     "output_type": "error",
     "traceback": [
      "\u001b[0;31m---------------------------------------------------------------------------\u001b[0m",
      "\u001b[0;31mAssertionError\u001b[0m                            Traceback (most recent call last)",
      "Cell \u001b[0;32mIn [105], line 10\u001b[0m\n\u001b[1;32m      5\u001b[0m table \u001b[38;5;241m=\u001b[39m Stargazer(models)\n\u001b[1;32m      7\u001b[0m \u001b[38;5;66;03m# Label columns\u001b[39;00m\n\u001b[1;32m      8\u001b[0m \u001b[38;5;66;03m# This list of 1s should be the same length as the\u001b[39;00m\n\u001b[1;32m      9\u001b[0m \u001b[38;5;66;03m# number of columns\u001b[39;00m\n\u001b[0;32m---> 10\u001b[0m \u001b[43mtable\u001b[49m\u001b[38;5;241;43m.\u001b[39;49m\u001b[43mcustom_columns\u001b[49m\u001b[43m(\u001b[49m\u001b[43m[\u001b[49m\u001b[38;5;124;43m'\u001b[39;49m\u001b[38;5;124;43mbmi_obese\u001b[39;49m\u001b[38;5;124;43m'\u001b[39;49m\u001b[43m,\u001b[49m\u001b[43m \u001b[49m\u001b[38;5;124;43m'\u001b[39;49m\u001b[38;5;124;43mcur_smoke\u001b[39;49m\u001b[38;5;124;43m'\u001b[39;49m\u001b[43m,\u001b[49m\u001b[43m \u001b[49m\u001b[38;5;124;43m'\u001b[39;49m\u001b[38;5;124;43mexercise\u001b[39;49m\u001b[38;5;124;43m'\u001b[39;49m\u001b[43m]\u001b[49m\u001b[43m,\u001b[49m\u001b[43m[\u001b[49m\u001b[38;5;241;43m1\u001b[39;49m\u001b[43m,\u001b[49m\u001b[43m \u001b[49m\u001b[38;5;241;43m1\u001b[39;49m\u001b[43m,\u001b[49m\u001b[43m \u001b[49m\u001b[38;5;241;43m1\u001b[39;49m\u001b[43m]\u001b[49m\u001b[43m)\u001b[49m\n\u001b[1;32m     12\u001b[0m \u001b[38;5;66;03m# # Display table\u001b[39;00m\n\u001b[1;32m     13\u001b[0m \u001b[38;5;66;03m# table\u001b[39;00m\n\u001b[1;32m     14\u001b[0m \u001b[38;5;66;03m# table = Stargazer(models)\u001b[39;00m\n\u001b[1;32m     15\u001b[0m \u001b[38;5;66;03m# table.covariate_order(['Intercept','bmi_obese', 'cur_smoke', 'exercise'])\u001b[39;00m\n\u001b[1;32m     16\u001b[0m \u001b[38;5;66;03m# table.custom_columns(['OLS Model', 'OLS Model', 'OLS Model', 'OLS Model'], [1, 1, 1, 1])\u001b[39;00m\n\u001b[1;32m     17\u001b[0m table\u001b[38;5;241m.\u001b[39madd_custom_notes([\u001b[38;5;124m\"\u001b[39m\u001b[38;5;124mThe Standard errors reported in parentheses are heteroskedasticity robust (HC2).\u001b[39m\u001b[38;5;124m\"\u001b[39m])\n",
      "File \u001b[0;32m/opt/homebrew/lib/python3.10/site-packages/stargazer/stargazer.py:173\u001b[0m, in \u001b[0;36mStargazer.custom_columns\u001b[0;34m(self, labels, separators)\u001b[0m\n\u001b[1;32m    171\u001b[0m     \u001b[38;5;28;01massert\u001b[39;00m \u001b[38;5;28mlen\u001b[39m(labels) \u001b[38;5;241m==\u001b[39m \u001b[38;5;28mlen\u001b[39m(separators), \u001b[38;5;124m'\u001b[39m\u001b[38;5;124mNumber of labels must match number of columns\u001b[39m\u001b[38;5;124m'\u001b[39m\n\u001b[1;32m    172\u001b[0m     \u001b[38;5;28;01massert\u001b[39;00m \u001b[38;5;28msum\u001b[39m([\u001b[38;5;28mint\u001b[39m(\u001b[38;5;28mtype\u001b[39m(s) \u001b[38;5;241m!=\u001b[39m \u001b[38;5;28mint\u001b[39m) \u001b[38;5;28;01mfor\u001b[39;00m s \u001b[38;5;129;01min\u001b[39;00m separators]) \u001b[38;5;241m==\u001b[39m \u001b[38;5;241m0\u001b[39m, \u001b[38;5;124m'\u001b[39m\u001b[38;5;124mColumns must be ints\u001b[39m\u001b[38;5;124m'\u001b[39m\n\u001b[0;32m--> 173\u001b[0m     \u001b[38;5;28;01massert\u001b[39;00m \u001b[38;5;28msum\u001b[39m(separators) \u001b[38;5;241m==\u001b[39m \u001b[38;5;28mself\u001b[39m\u001b[38;5;241m.\u001b[39mnum_models, \u001b[38;5;124m'\u001b[39m\u001b[38;5;124mPlease set number of columns to number of models\u001b[39m\u001b[38;5;124m'\u001b[39m\n\u001b[1;32m    174\u001b[0m \u001b[38;5;28;01melse\u001b[39;00m:\n\u001b[1;32m    175\u001b[0m     \u001b[38;5;28;01massert\u001b[39;00m \u001b[38;5;28mtype\u001b[39m(labels) \u001b[38;5;241m==\u001b[39m \u001b[38;5;28mstr\u001b[39m, \u001b[38;5;124m'\u001b[39m\u001b[38;5;124mPlease input a single string label if no columns specified\u001b[39m\u001b[38;5;124m'\u001b[39m\n",
      "\u001b[0;31mAssertionError\u001b[0m: Please set number of columns to number of models"
     ]
    }
   ],
   "source": [
    "# Your Code Here\n",
    "models = [res_1, res_2, res_3, res_4]\n",
    "\n",
    "# Create Table\n",
    "table = Stargazer(models)\n",
    "\n",
    "# Label columns\n",
    "# This list of 1s should be the same length as the\n",
    "# number of columns\n",
    "table.custom_columns(['Intercept','bmi_obese', 'cur_smoke', 'exercise'],[1, 1, 1])\n",
    "\n",
    "# # Display table\n",
    "# table\n",
    "# table = Stargazer(models)\n",
    "# table.covariate_order(['Intercept','bmi_obese', 'cur_smoke', 'exercise'])\n",
    "# table.custom_columns(['OLS Model', 'OLS Model', 'OLS Model', 'OLS Model'], [1, 1, 1, 1])\n",
    "table.add_custom_notes([\"The Standard errors reported in parentheses are heteroskedasticity robust (HC2).\"])\n",
    "table"
   ]
  },
  {
   "cell_type": "markdown",
   "metadata": {},
   "source": [
    "<hr style=\"height:2.4pt\">\n",
    "\n",
    "### 4\n",
    "\n",
    "Use Table 3 to answer the following questions:\n",
    "\n",
    "<ol type=\"a\">\n",
    "  <li>\n",
    "    Using coefficients from regressions 2, 3, and 4 along with the omitted variable bias formula, show the algebraic relationship between the coefficients on <code>cur_smoke</code> in regression 2 and regression 3.\n",
    "  </li>\n",
    "  <li>\n",
    "    You have now confirmed the omitted variable bias formula. Next, you will use the formula in the way that economists use it. First, provide an example of a new variable that you think is an important determinant of life expectancy, but that is not included in these data. Then, use the omitted variable bias formula (along with your intuition and knowledge of the world) to explain how adding that new variable to regression 3 would change the estimated coefficient on <code>cur_smoke</code>.\n",
    "  </li>\n",
    "<ol>"
   ]
  },
  {
   "cell_type": "markdown",
   "metadata": {},
   "source": [
    "*[Your Answer Here]*"
   ]
  },
  {
   "cell_type": "markdown",
   "metadata": {},
   "source": [
    "<hr style=\"height:2.4pt\">\n",
    "\n",
    "### 5\n",
    "\n",
    "Figure 1 illustrates a useful property of linear regressions that allows one to visualize a multivariate regression in just two dimensions. In each panel of the figure, the slope of the best fit line exactly equals one of the coefficients from column 3 of Table 3.1\n",
    "\n",
    "Pick one of the panels in Figure 1 and draw it yourself in Stata or R. Do not worry about formatting. See suggested code in Table 2a and Table 2b for how to generate residuals and how to draw scatter plots with linear best fit lines superimposed."
   ]
  },
  {
   "cell_type": "code",
   "execution_count": null,
   "metadata": {},
   "outputs": [],
   "source": [
    "# Your Code Here"
   ]
  },
  {
   "cell_type": "markdown",
   "metadata": {},
   "source": [
    "<hr style=\"height:2.4pt\">\n",
    "\n",
    "### Sample Code"
   ]
  },
  {
   "cell_type": "markdown",
   "metadata": {},
   "source": [
    "This sequence allows you to import all\n",
    "necessary libraries for this problem set:\n",
    "\n",
    "```python\n",
    "import pandas as pd\n",
    "import numpy as np\n",
    "import matplotlib\n",
    "import matplotlib.pyplot as plt\n",
    "import statsmodels.formula.api as sm\n",
    "# Uncomment the line below if using Google Colab:\n",
    "# !pip install stargazer\n",
    "from stargazer.stargazer import Stargazer\n",
    "```\n",
    "\n",
    "Reads in data and displays first 5 rows in\n",
    "dataset. We add an intercept column\n",
    "because Python does not automatically add\n",
    "a constant to regressions like Stata and R:\n",
    "\n",
    "```python\n",
    "# Read dataset into a pandas dataframe\n",
    "health = pd.read_stata(\"healthinequality.dta\")\n",
    "\n",
    "# Display first 5 rows of data\n",
    "health.head()\n",
    "```\n",
    "\n",
    "Estimates regression of yvar on an\n",
    "intercept and xvar1, with HC2\n",
    "heteroskedasticity-robust standard errors.\n",
    "`cov_type=\"HC2\"` corresponds to HC2\n",
    "`cov_type=\"HC1\"` corresponds to HC1\n",
    "\n",
    "```python\n",
    "mod = sm.ols(\n",
    "    \"yvar ~ xvar\",\n",
    "    data=health\n",
    ")\n",
    "res = mod.fit(cov_type=”HC2”)\n",
    "\n",
    "# print results:\n",
    "res.summary(slim=True)\n",
    "```\n",
    "\n",
    "Create $x$ columns of random variables and add them to a new dataframe\n",
    "```python\n",
    "# Find number of rows\n",
    "N = health.shape[0]\n",
    "\n",
    "# Create column names like rand_5, rand_6...\n",
    "random_column_names = [f\"rand_{i}\" for i in range(x)]\n",
    "\n",
    "# Create a new dataframe with just random columns\n",
    "random_df = pd.DataFrame(\n",
    "    np.random.random(size=(N, x)), \n",
    "    columns=random_column_names\n",
    ")\n",
    "\n",
    "# Join old and new dataframes\n",
    "new_df = pd.concat([health, random_df], axis=1)\n",
    "\n",
    "# Extra hint: look at the python \"join\" function to\n",
    "# create a string out of the list of variable names\n",
    "```\n",
    "\n",
    "\n",
    "\n",
    "Create regression table with custom column labels\n",
    "```python\n",
    "# Estimate Regressions:\n",
    "mod1 = sm.ols(\n",
    "“yvar1 ~ xvar1 + xvar2 + xvar3”,\n",
    "data=health\n",
    ")\n",
    "res1 = mod.fit(cov_type=”HC2”)\n",
    "mod2 = sm.ols(\n",
    "“yvar1 ~ xvar1 + xvar2”,\n",
    "data=health\n",
    ")\n",
    "res2 = mod.fit(cov_type=”HC2”)\n",
    "mod3 = sm.ols(\n",
    "“yvar2 ~ xvar2 + xvar3”,\n",
    "data=health\n",
    ")\n",
    "res3 = mod.fit(cov_type=”HC2”)\n",
    "\n",
    "# Create Table\n",
    "table = Stargazer(models)\n",
    "\n",
    "# Label columns\n",
    "# This list of 1s should be the same length as the\n",
    "# number of columns\n",
    "table.custom_columns([“yvar1”, “yvar1”, “yvar2”],\n",
    "seperators=[1, 1, 1])\n",
    "\n",
    "# Display table\n",
    "table\n",
    "```\n",
    "\n",
    "Calculate residuals from regression of variable $yvar$ on variables $xvar1$ and $xvar2$\n",
    "\n",
    "```python\n",
    "# Estimate Regressions:\n",
    "mod1 = sm.ols(\n",
    "    \"yvar ~ xvar1 + xvar2\",\n",
    "    data=health\n",
    ")\n",
    "res1 = mod.fit(cov_type=”HC2”)\n",
    "\n",
    "# Find residuals\n",
    "residuals = res1.resid\n",
    "```\n",
    "\n",
    "Draw a scatter plot of variable $x1$ against variable $y1$ and add a line best fit\n",
    "\n",
    "```python\n",
    "# Sets up space for graphing\n",
    "fig, ax = plt.subplots(1, 1)\n",
    "\n",
    "# Plots scatter plot (size of points is set by s=3)\n",
    "ax.scatter(x1, y1, s=3)\n",
    "\n",
    "# Adds a line best fit for the data to the plot\n",
    "ax.plot(\n",
    "    *np.polynomial.Polynomial.fit(\n",
    "        x1, y1, 1\n",
    "    ).linspace(2),\n",
    "    \"r-\"\n",
    ")\n",
    "\n",
    "# Label axes\n",
    "ax.set_title(\"Graph Title\")\n",
    "ax.set_xlabel(\"X Axis Label\")\n",
    "ax.set_ylabel(\"Y Axis Label\")\n",
    "```"
   ]
  },
  {
   "cell_type": "markdown",
   "metadata": {},
   "source": []
  }
 ],
 "metadata": {
  "kernelspec": {
   "display_name": "Python 3 (ipykernel)",
   "language": "python",
   "name": "python3"
  },
  "language_info": {
   "codemirror_mode": {
    "name": "ipython",
    "version": 3
   },
   "file_extension": ".py",
   "mimetype": "text/x-python",
   "name": "python",
   "nbconvert_exporter": "python",
   "pygments_lexer": "ipython3",
   "version": "3.10.9"
  },
  "vscode": {
   "interpreter": {
    "hash": "79e5ed05f4768318b64dcf4024aadef9daee7381e42285f5aa40ea96b6adb5f6"
   }
  }
 },
 "nbformat": 4,
 "nbformat_minor": 2
}
